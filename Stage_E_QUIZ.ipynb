{
  "nbformat": 4,
  "nbformat_minor": 0,
  "metadata": {
    "colab": {
      "name": "Stage E QUIZ ",
      "provenance": [],
      "collapsed_sections": [],
      "authorship_tag": "ABX9TyMzkbd3CPhScOKjY7p0wNFN",
      "include_colab_link": true
    },
    "kernelspec": {
      "name": "python3",
      "display_name": "Python 3"
    }
  },
  "cells": [
    {
      "cell_type": "markdown",
      "metadata": {
        "id": "view-in-github",
        "colab_type": "text"
      },
      "source": [
        "<a href=\"https://colab.research.google.com/github/FiyinfobaO/Hamoye/blob/master/Stage_E_QUIZ.ipynb\" target=\"_parent\"><img src=\"https://colab.research.google.com/assets/colab-badge.svg\" alt=\"Open In Colab\"/></a>"
      ]
    },
    {
      "cell_type": "code",
      "metadata": {
        "id": "R33eRWDmK5rm"
      },
      "source": [
        "import numpy as np\n",
        "import pandas as pd\n",
        "import seaborn as sns\n",
        "import matplotlib.pyplot as plt\n",
        "import tensorflow as tf\n",
        "%matplotlib inline"
      ],
      "execution_count": 1,
      "outputs": []
    },
    {
      "cell_type": "code",
      "metadata": {
        "id": "Js_yLGMeV4RK",
        "outputId": "b7ad06bc-c0d9-4872-853c-aedfe0430c8b",
        "colab": {
          "base_uri": "https://localhost:8080/",
          "height": 53
        }
      },
      "source": [
        "# mount drive\n",
        "from google.colab import drive\n",
        "drive.mount('/content/drive')"
      ],
      "execution_count": 2,
      "outputs": [
        {
          "output_type": "stream",
          "text": [
            "Drive already mounted at /content/drive; to attempt to forcibly remount, call drive.mount(\"/content/drive\", force_remount=True).\n"
          ],
          "name": "stdout"
        }
      ]
    },
    {
      "cell_type": "code",
      "metadata": {
        "id": "JMugo7GoWZqQ"
      },
      "source": [
        "# copy the data from drive to current directory\n",
        "!cp '/content/drive/My Drive/household_power_consumption.txt' '/content/'"
      ],
      "execution_count": null,
      "outputs": []
    },
    {
      "cell_type": "code",
      "metadata": {
        "id": "lOX-UylNW7Rz",
        "outputId": "b45bfaf1-c15b-42e3-825d-b59ce72be024",
        "colab": {
          "base_uri": "https://localhost:8080/",
          "height": 373
        }
      },
      "source": [
        "# reading the .txt file while merging the date and time columns into 1 and converting it to a datetime object\n",
        "df = pd.read_csv('household_power_consumption.txt', sep=';', low_memory=False, infer_datetime_format=True, parse_dates={'datetime':[0,1]})\n",
        "df.head()"
      ],
      "execution_count": 3,
      "outputs": [
        {
          "output_type": "execute_result",
          "data": {
            "text/html": [
              "<div>\n",
              "<style scoped>\n",
              "    .dataframe tbody tr th:only-of-type {\n",
              "        vertical-align: middle;\n",
              "    }\n",
              "\n",
              "    .dataframe tbody tr th {\n",
              "        vertical-align: top;\n",
              "    }\n",
              "\n",
              "    .dataframe thead th {\n",
              "        text-align: right;\n",
              "    }\n",
              "</style>\n",
              "<table border=\"1\" class=\"dataframe\">\n",
              "  <thead>\n",
              "    <tr style=\"text-align: right;\">\n",
              "      <th></th>\n",
              "      <th>datetime</th>\n",
              "      <th>Global_active_power</th>\n",
              "      <th>Global_reactive_power</th>\n",
              "      <th>Voltage</th>\n",
              "      <th>Global_intensity</th>\n",
              "      <th>Sub_metering_1</th>\n",
              "      <th>Sub_metering_2</th>\n",
              "      <th>Sub_metering_3</th>\n",
              "    </tr>\n",
              "  </thead>\n",
              "  <tbody>\n",
              "    <tr>\n",
              "      <th>0</th>\n",
              "      <td>2006-12-16 17:24:00</td>\n",
              "      <td>4.216</td>\n",
              "      <td>0.418</td>\n",
              "      <td>234.840</td>\n",
              "      <td>18.400</td>\n",
              "      <td>0.000</td>\n",
              "      <td>1.000</td>\n",
              "      <td>17.0</td>\n",
              "    </tr>\n",
              "    <tr>\n",
              "      <th>1</th>\n",
              "      <td>2006-12-16 17:25:00</td>\n",
              "      <td>5.360</td>\n",
              "      <td>0.436</td>\n",
              "      <td>233.630</td>\n",
              "      <td>23.000</td>\n",
              "      <td>0.000</td>\n",
              "      <td>1.000</td>\n",
              "      <td>16.0</td>\n",
              "    </tr>\n",
              "    <tr>\n",
              "      <th>2</th>\n",
              "      <td>2006-12-16 17:26:00</td>\n",
              "      <td>5.374</td>\n",
              "      <td>0.498</td>\n",
              "      <td>233.290</td>\n",
              "      <td>23.000</td>\n",
              "      <td>0.000</td>\n",
              "      <td>2.000</td>\n",
              "      <td>17.0</td>\n",
              "    </tr>\n",
              "    <tr>\n",
              "      <th>3</th>\n",
              "      <td>2006-12-16 17:27:00</td>\n",
              "      <td>5.388</td>\n",
              "      <td>0.502</td>\n",
              "      <td>233.740</td>\n",
              "      <td>23.000</td>\n",
              "      <td>0.000</td>\n",
              "      <td>1.000</td>\n",
              "      <td>17.0</td>\n",
              "    </tr>\n",
              "    <tr>\n",
              "      <th>4</th>\n",
              "      <td>2006-12-16 17:28:00</td>\n",
              "      <td>3.666</td>\n",
              "      <td>0.528</td>\n",
              "      <td>235.680</td>\n",
              "      <td>15.800</td>\n",
              "      <td>0.000</td>\n",
              "      <td>1.000</td>\n",
              "      <td>17.0</td>\n",
              "    </tr>\n",
              "  </tbody>\n",
              "</table>\n",
              "</div>"
            ],
            "text/plain": [
              "             datetime Global_active_power  ... Sub_metering_2 Sub_metering_3\n",
              "0 2006-12-16 17:24:00               4.216  ...          1.000           17.0\n",
              "1 2006-12-16 17:25:00               5.360  ...          1.000           16.0\n",
              "2 2006-12-16 17:26:00               5.374  ...          2.000           17.0\n",
              "3 2006-12-16 17:27:00               5.388  ...          1.000           17.0\n",
              "4 2006-12-16 17:28:00               3.666  ...          1.000           17.0\n",
              "\n",
              "[5 rows x 8 columns]"
            ]
          },
          "metadata": {
            "tags": []
          },
          "execution_count": 3
        }
      ]
    },
    {
      "cell_type": "code",
      "metadata": {
        "id": "vZyl20IabCYH",
        "outputId": "699deff7-1f14-4938-87e4-5235477a7251",
        "colab": {
          "base_uri": "https://localhost:8080/",
          "height": 261
        }
      },
      "source": [
        "df.info()"
      ],
      "execution_count": 4,
      "outputs": [
        {
          "output_type": "stream",
          "text": [
            "<class 'pandas.core.frame.DataFrame'>\n",
            "RangeIndex: 2075259 entries, 0 to 2075258\n",
            "Data columns (total 8 columns):\n",
            " #   Column                 Dtype         \n",
            "---  ------                 -----         \n",
            " 0   datetime               datetime64[ns]\n",
            " 1   Global_active_power    object        \n",
            " 2   Global_reactive_power  object        \n",
            " 3   Voltage                object        \n",
            " 4   Global_intensity       object        \n",
            " 5   Sub_metering_1         object        \n",
            " 6   Sub_metering_2         object        \n",
            " 7   Sub_metering_3         float64       \n",
            "dtypes: datetime64[ns](1), float64(1), object(6)\n",
            "memory usage: 126.7+ MB\n"
          ],
          "name": "stdout"
        }
      ]
    },
    {
      "cell_type": "code",
      "metadata": {
        "id": "XFpfbCVndMas",
        "outputId": "4979e7d6-aa0d-41e5-89b9-8d9ce661f1c2",
        "colab": {
          "base_uri": "https://localhost:8080/",
          "height": 765
        }
      },
      "source": [
        "# set the datetime column as index\n",
        "df.set_index('datetime', inplace=True)\n",
        "df"
      ],
      "execution_count": 5,
      "outputs": [
        {
          "output_type": "execute_result",
          "data": {
            "text/html": [
              "<div>\n",
              "<style scoped>\n",
              "    .dataframe tbody tr th:only-of-type {\n",
              "        vertical-align: middle;\n",
              "    }\n",
              "\n",
              "    .dataframe tbody tr th {\n",
              "        vertical-align: top;\n",
              "    }\n",
              "\n",
              "    .dataframe thead th {\n",
              "        text-align: right;\n",
              "    }\n",
              "</style>\n",
              "<table border=\"1\" class=\"dataframe\">\n",
              "  <thead>\n",
              "    <tr style=\"text-align: right;\">\n",
              "      <th></th>\n",
              "      <th>Global_active_power</th>\n",
              "      <th>Global_reactive_power</th>\n",
              "      <th>Voltage</th>\n",
              "      <th>Global_intensity</th>\n",
              "      <th>Sub_metering_1</th>\n",
              "      <th>Sub_metering_2</th>\n",
              "      <th>Sub_metering_3</th>\n",
              "    </tr>\n",
              "    <tr>\n",
              "      <th>datetime</th>\n",
              "      <th></th>\n",
              "      <th></th>\n",
              "      <th></th>\n",
              "      <th></th>\n",
              "      <th></th>\n",
              "      <th></th>\n",
              "      <th></th>\n",
              "    </tr>\n",
              "  </thead>\n",
              "  <tbody>\n",
              "    <tr>\n",
              "      <th>2006-12-16 17:24:00</th>\n",
              "      <td>4.216</td>\n",
              "      <td>0.418</td>\n",
              "      <td>234.840</td>\n",
              "      <td>18.400</td>\n",
              "      <td>0.000</td>\n",
              "      <td>1.000</td>\n",
              "      <td>17.0</td>\n",
              "    </tr>\n",
              "    <tr>\n",
              "      <th>2006-12-16 17:25:00</th>\n",
              "      <td>5.360</td>\n",
              "      <td>0.436</td>\n",
              "      <td>233.630</td>\n",
              "      <td>23.000</td>\n",
              "      <td>0.000</td>\n",
              "      <td>1.000</td>\n",
              "      <td>16.0</td>\n",
              "    </tr>\n",
              "    <tr>\n",
              "      <th>2006-12-16 17:26:00</th>\n",
              "      <td>5.374</td>\n",
              "      <td>0.498</td>\n",
              "      <td>233.290</td>\n",
              "      <td>23.000</td>\n",
              "      <td>0.000</td>\n",
              "      <td>2.000</td>\n",
              "      <td>17.0</td>\n",
              "    </tr>\n",
              "    <tr>\n",
              "      <th>2006-12-16 17:27:00</th>\n",
              "      <td>5.388</td>\n",
              "      <td>0.502</td>\n",
              "      <td>233.740</td>\n",
              "      <td>23.000</td>\n",
              "      <td>0.000</td>\n",
              "      <td>1.000</td>\n",
              "      <td>17.0</td>\n",
              "    </tr>\n",
              "    <tr>\n",
              "      <th>2006-12-16 17:28:00</th>\n",
              "      <td>3.666</td>\n",
              "      <td>0.528</td>\n",
              "      <td>235.680</td>\n",
              "      <td>15.800</td>\n",
              "      <td>0.000</td>\n",
              "      <td>1.000</td>\n",
              "      <td>17.0</td>\n",
              "    </tr>\n",
              "    <tr>\n",
              "      <th>...</th>\n",
              "      <td>...</td>\n",
              "      <td>...</td>\n",
              "      <td>...</td>\n",
              "      <td>...</td>\n",
              "      <td>...</td>\n",
              "      <td>...</td>\n",
              "      <td>...</td>\n",
              "    </tr>\n",
              "    <tr>\n",
              "      <th>2010-11-26 20:58:00</th>\n",
              "      <td>0.946</td>\n",
              "      <td>0.000</td>\n",
              "      <td>240.430</td>\n",
              "      <td>4.000</td>\n",
              "      <td>0.000</td>\n",
              "      <td>0.000</td>\n",
              "      <td>0.0</td>\n",
              "    </tr>\n",
              "    <tr>\n",
              "      <th>2010-11-26 20:59:00</th>\n",
              "      <td>0.944</td>\n",
              "      <td>0.000</td>\n",
              "      <td>240.000</td>\n",
              "      <td>4.000</td>\n",
              "      <td>0.000</td>\n",
              "      <td>0.000</td>\n",
              "      <td>0.0</td>\n",
              "    </tr>\n",
              "    <tr>\n",
              "      <th>2010-11-26 21:00:00</th>\n",
              "      <td>0.938</td>\n",
              "      <td>0.000</td>\n",
              "      <td>239.820</td>\n",
              "      <td>3.800</td>\n",
              "      <td>0.000</td>\n",
              "      <td>0.000</td>\n",
              "      <td>0.0</td>\n",
              "    </tr>\n",
              "    <tr>\n",
              "      <th>2010-11-26 21:01:00</th>\n",
              "      <td>0.934</td>\n",
              "      <td>0.000</td>\n",
              "      <td>239.700</td>\n",
              "      <td>3.800</td>\n",
              "      <td>0.000</td>\n",
              "      <td>0.000</td>\n",
              "      <td>0.0</td>\n",
              "    </tr>\n",
              "    <tr>\n",
              "      <th>2010-11-26 21:02:00</th>\n",
              "      <td>0.932</td>\n",
              "      <td>0.000</td>\n",
              "      <td>239.550</td>\n",
              "      <td>3.800</td>\n",
              "      <td>0.000</td>\n",
              "      <td>0.000</td>\n",
              "      <td>0.0</td>\n",
              "    </tr>\n",
              "  </tbody>\n",
              "</table>\n",
              "<p>2075259 rows × 7 columns</p>\n",
              "</div>"
            ],
            "text/plain": [
              "                    Global_active_power  ... Sub_metering_3\n",
              "datetime                                 ...               \n",
              "2006-12-16 17:24:00               4.216  ...           17.0\n",
              "2006-12-16 17:25:00               5.360  ...           16.0\n",
              "2006-12-16 17:26:00               5.374  ...           17.0\n",
              "2006-12-16 17:27:00               5.388  ...           17.0\n",
              "2006-12-16 17:28:00               3.666  ...           17.0\n",
              "...                                 ...  ...            ...\n",
              "2010-11-26 20:58:00               0.946  ...            0.0\n",
              "2010-11-26 20:59:00               0.944  ...            0.0\n",
              "2010-11-26 21:00:00               0.938  ...            0.0\n",
              "2010-11-26 21:01:00               0.934  ...            0.0\n",
              "2010-11-26 21:02:00               0.932  ...            0.0\n",
              "\n",
              "[2075259 rows x 7 columns]"
            ]
          },
          "metadata": {
            "tags": []
          },
          "execution_count": 5
        }
      ]
    },
    {
      "cell_type": "code",
      "metadata": {
        "id": "Dkhzmq4FgM4G",
        "outputId": "792b3d4a-c800-4a65-b5ab-40837e067727",
        "colab": {
          "base_uri": "https://localhost:8080/",
          "height": 147
        }
      },
      "source": [
        "# checking the no of null values\n",
        "df.isnull().sum()"
      ],
      "execution_count": 6,
      "outputs": [
        {
          "output_type": "execute_result",
          "data": {
            "text/plain": [
              "Global_active_power          0\n",
              "Global_reactive_power        0\n",
              "Voltage                      0\n",
              "Global_intensity             0\n",
              "Sub_metering_1               0\n",
              "Sub_metering_2               0\n",
              "Sub_metering_3           25979\n",
              "dtype: int64"
            ]
          },
          "metadata": {
            "tags": []
          },
          "execution_count": 6
        }
      ]
    },
    {
      "cell_type": "code",
      "metadata": {
        "id": "ZM6c9082iDIR",
        "outputId": "520a86e4-4504-467b-8b8e-71213f9b3f3a",
        "colab": {
          "base_uri": "https://localhost:8080/",
          "height": 33
        }
      },
      "source": [
        "# checking for null values that may not have been catured by the isnull function\n",
        "null_num = 0\n",
        "for values in df.values.tolist():\n",
        "    for value in values:\n",
        "        if value == '?':\n",
        "            null_num += 1\n",
        "        else:\n",
        "            continue\n",
        "\n",
        "print('Total no of null values are: ', null_num)"
      ],
      "execution_count": 7,
      "outputs": [
        {
          "output_type": "stream",
          "text": [
            "Total no of null values are:  155874\n"
          ],
          "name": "stdout"
        }
      ]
    },
    {
      "cell_type": "code",
      "metadata": {
        "id": "p_vBMAMRitAa"
      },
      "source": [
        "# replacing ? with nan\n",
        "df.replace('?', np.nan, inplace=True) "
      ],
      "execution_count": 8,
      "outputs": []
    },
    {
      "cell_type": "code",
      "metadata": {
        "id": "Rb0FAtzMi91n",
        "outputId": "219aa3df-309b-4165-8f31-2557c5e4ea9d",
        "colab": {
          "base_uri": "https://localhost:8080/",
          "height": 147
        }
      },
      "source": [
        "# rechecking the number of null values \n",
        "df.isnull().sum()"
      ],
      "execution_count": 9,
      "outputs": [
        {
          "output_type": "execute_result",
          "data": {
            "text/plain": [
              "Global_active_power      25979\n",
              "Global_reactive_power    25979\n",
              "Voltage                  25979\n",
              "Global_intensity         25979\n",
              "Sub_metering_1           25979\n",
              "Sub_metering_2           25979\n",
              "Sub_metering_3           25979\n",
              "dtype: int64"
            ]
          },
          "metadata": {
            "tags": []
          },
          "execution_count": 9
        }
      ]
    },
    {
      "cell_type": "code",
      "metadata": {
        "id": "YqmG_U9sk3NQ",
        "outputId": "531e3981-94dc-43b9-d1c3-dd7f621ecf80",
        "colab": {
          "base_uri": "https://localhost:8080/",
          "height": 66
        }
      },
      "source": [
        "df.select_dtypes(include=['object']).columns"
      ],
      "execution_count": 10,
      "outputs": [
        {
          "output_type": "execute_result",
          "data": {
            "text/plain": [
              "Index(['Global_active_power', 'Global_reactive_power', 'Voltage',\n",
              "       'Global_intensity', 'Sub_metering_1', 'Sub_metering_2'],\n",
              "      dtype='object')"
            ]
          },
          "metadata": {
            "tags": []
          },
          "execution_count": 10
        }
      ]
    },
    {
      "cell_type": "code",
      "metadata": {
        "id": "z8t-OGPxjKjH"
      },
      "source": [
        "#using a loop to change the object datatype columns to float\n",
        "for column in df.select_dtypes(include=['object']).columns:\n",
        "        df[column] = df[column].astype('float')"
      ],
      "execution_count": 11,
      "outputs": []
    },
    {
      "cell_type": "code",
      "metadata": {
        "id": "nNQOYCiilGKT",
        "outputId": "5f2577ae-ecd6-4469-b7f6-e2537ef70d06",
        "colab": {
          "base_uri": "https://localhost:8080/",
          "height": 245
        }
      },
      "source": [
        "# checking the datatypes\n",
        "df.info()"
      ],
      "execution_count": 12,
      "outputs": [
        {
          "output_type": "stream",
          "text": [
            "<class 'pandas.core.frame.DataFrame'>\n",
            "DatetimeIndex: 2075259 entries, 2006-12-16 17:24:00 to 2010-11-26 21:02:00\n",
            "Data columns (total 7 columns):\n",
            " #   Column                 Dtype  \n",
            "---  ------                 -----  \n",
            " 0   Global_active_power    float64\n",
            " 1   Global_reactive_power  float64\n",
            " 2   Voltage                float64\n",
            " 3   Global_intensity       float64\n",
            " 4   Sub_metering_1         float64\n",
            " 5   Sub_metering_2         float64\n",
            " 6   Sub_metering_3         float64\n",
            "dtypes: float64(7)\n",
            "memory usage: 126.7 MB\n"
          ],
          "name": "stdout"
        }
      ]
    },
    {
      "cell_type": "code",
      "metadata": {
        "id": "SxMRIIOfiYuV"
      },
      "source": [
        "# filling the null values for each column with the mean of each respective column\n",
        "df = df.fillna({'Global_active_power':df['Global_active_power'].mean(), 'Global_reactive_power':df['Global_reactive_power'].mean(),\n",
        "           'Voltage':df['Voltage'].mean(), 'Global_intensity':df['Global_intensity'].mean(),\n",
        "           'Sub_metering_1':df['Sub_metering_1'].mean(), 'Sub_metering_2':df['Sub_metering_2'].mean(),\n",
        "           'Sub_metering_3':df['Sub_metering_3'].mean()})"
      ],
      "execution_count": 13,
      "outputs": []
    },
    {
      "cell_type": "code",
      "metadata": {
        "id": "Ugn2joynlKl6"
      },
      "source": [
        "# create a copy of the data\n",
        "new_df = df.copy()"
      ],
      "execution_count": 14,
      "outputs": []
    },
    {
      "cell_type": "code",
      "metadata": {
        "id": "T7AAUQ_nmXKQ",
        "outputId": "f591b0e6-30e1-4f10-eaed-65251123decf",
        "colab": {
          "base_uri": "https://localhost:8080/",
          "height": 147
        }
      },
      "source": [
        "# checking no of missing values\n",
        "new_df.isnull().sum()"
      ],
      "execution_count": 15,
      "outputs": [
        {
          "output_type": "execute_result",
          "data": {
            "text/plain": [
              "Global_active_power      0\n",
              "Global_reactive_power    0\n",
              "Voltage                  0\n",
              "Global_intensity         0\n",
              "Sub_metering_1           0\n",
              "Sub_metering_2           0\n",
              "Sub_metering_3           0\n",
              "dtype: int64"
            ]
          },
          "metadata": {
            "tags": []
          },
          "execution_count": 15
        }
      ]
    },
    {
      "cell_type": "markdown",
      "metadata": {
        "id": "WgZi4llev4zC"
      },
      "source": [
        "##Using the 'Global_active_power' column"
      ]
    },
    {
      "cell_type": "code",
      "metadata": {
        "id": "2lcer3zWmf5z",
        "outputId": "efe72689-d43d-420b-9bdb-e9dbbb412de3",
        "colab": {
          "base_uri": "https://localhost:8080/",
          "height": 387
        }
      },
      "source": [
        "# plot to visualize the series using 'Global_active_power' column\n",
        "plt.figure(figsize=(10,6))\n",
        "plt.plot(new_df.index, new_df['Global_active_power'], '-')\n",
        "plt.grid()\n",
        "plt.xlabel('Year')\n",
        "plt.ylabel('Global_active_power')\n",
        "plt.show()"
      ],
      "execution_count": 16,
      "outputs": [
        {
          "output_type": "display_data",
          "data": {
            "image/png": "[encoded data removed]",
            "text/plain": [
              "<Figure size 720x432 with 1 Axes>"
            ]
          },
          "metadata": {
            "tags": [],
            "needs_background": "light"
          }
        }
      ]
    },
    {
      "cell_type": "markdown",
      "metadata": {
        "id": "uLtSEmvlssN9"
      },
      "source": [
        "###Downsampling the data to daily timeframe"
      ]
    },
    {
      "cell_type": "code",
      "metadata": {
        "id": "8QfVayHOseW3"
      },
      "source": [
        "# downsampling to daily basis\n",
        "new_df_daily = new_df.resample('D').sum()"
      ],
      "execution_count": 17,
      "outputs": []
    },
    {
      "cell_type": "code",
      "metadata": {
        "id": "irejrHoGtE6m",
        "outputId": "8c579227-4ad0-45ca-d79f-e8ae97e1751f",
        "colab": {
          "base_uri": "https://localhost:8080/",
          "height": 33
        }
      },
      "source": [
        "new_df_daily.isnull().values.sum()"
      ],
      "execution_count": 18,
      "outputs": [
        {
          "output_type": "execute_result",
          "data": {
            "text/plain": [
              "0"
            ]
          },
          "metadata": {
            "tags": []
          },
          "execution_count": 18
        }
      ]
    },
    {
      "cell_type": "code",
      "metadata": {
        "id": "QCEkFCY9s9E1",
        "outputId": "75583e1b-070e-4ec2-d9b5-2d1f1a827f9a",
        "colab": {
          "base_uri": "https://localhost:8080/",
          "height": 403
        }
      },
      "source": [
        "# plot after daily downsampling of 'Global_active_power' over time\n",
        "plt.figure(figsize=(10,6))\n",
        "plt.plot(new_df_daily.index, new_df_daily['Global_active_power'], '-')\n",
        "plt.grid()\n",
        "plt.title('After daily downsampling')\n",
        "plt.xlabel('Year')\n",
        "plt.ylabel('Global_active_power')\n",
        "plt.show()"
      ],
      "execution_count": 19,
      "outputs": [
        {
          "output_type": "display_data",
          "data": {
            "image/png": "[encoded data removed]",
            "text/plain": [
              "<Figure size 720x432 with 1 Axes>"
            ]
          },
          "metadata": {
            "tags": [],
            "needs_background": "light"
          }
        }
      ]
    },
    {
      "cell_type": "code",
      "metadata": {
        "id": "AIc2ZHlutXds",
        "outputId": "1f7b3e7e-0229-4577-a2f5-6e07f59bfc85",
        "colab": {
          "base_uri": "https://localhost:8080/",
          "height": 33
        }
      },
      "source": [
        "# finding the no of observations/rows\n",
        "print('no of observations after daily downsampling is {}'.format(len(new_df_daily)))"
      ],
      "execution_count": 30,
      "outputs": [
        {
          "output_type": "stream",
          "text": [
            "no of observations after daily downsampling is 1442\n"
          ],
          "name": "stdout"
        }
      ]
    },
    {
      "cell_type": "code",
      "metadata": {
        "id": "842teltKkAKS"
      },
      "source": [
        "# USING THE DOWNSAMPLED DAILY DATA\n",
        "# assigning columns to variables\n",
        "gap = new_df_daily['Global_active_power']\n",
        "grp = new_df_daily['Global_reactive_power']"
      ],
      "execution_count": 20,
      "outputs": []
    },
    {
      "cell_type": "code",
      "metadata": {
        "id": "Ph8a0Zf7kNHu",
        "outputId": "63132024-dfc1-4277-9b47-a04f16da1da1",
        "colab": {
          "base_uri": "https://localhost:8080/",
          "height": 33
        }
      },
      "source": [
        "from scipy.stats import pearsonr\n",
        "# to calculate Pearson's correlation\n",
        "corr, _ = pearsonr(gap, grp)\n",
        "print('Pearsons correlation: %.2f' % corr)"
      ],
      "execution_count": 21,
      "outputs": [
        {
          "output_type": "stream",
          "text": [
            "Pearsons correlation: 0.04\n"
          ],
          "name": "stdout"
        }
      ]
    },
    {
      "cell_type": "code",
      "metadata": {
        "id": "kxVaH19_6QLn",
        "outputId": "97178a4d-c341-4dbc-c1f7-9b509b1dab94",
        "colab": {
          "base_uri": "https://localhost:8080/",
          "height": 33
        }
      },
      "source": [
        "# another way to find pearson correlation coefficient\n",
        "round(gap.corr(grp), 2)"
      ],
      "execution_count": 22,
      "outputs": [
        {
          "output_type": "execute_result",
          "data": {
            "text/plain": [
              "0.04"
            ]
          },
          "metadata": {
            "tags": []
          },
          "execution_count": 22
        }
      ]
    },
    {
      "cell_type": "code",
      "metadata": {
        "id": "KL_EjQte6qIA"
      },
      "source": [
        "# USING THE ORIGINAL DATA\n",
        "ga = new_df['Global_active_power']\n",
        "gr = new_df['Global_reactive_power']"
      ],
      "execution_count": 23,
      "outputs": []
    },
    {
      "cell_type": "code",
      "metadata": {
        "id": "DtM_hvS-bxVj",
        "outputId": "6844bec9-6ce8-4ff5-df5b-48704411884d",
        "colab": {
          "base_uri": "https://localhost:8080/",
          "height": 33
        }
      },
      "source": [
        "# to calculate Pearson's correlation\n",
        "corr, _ = pearsonr(ga, gr)\n",
        "print('Pearsons correlation: %.2f' % corr)"
      ],
      "execution_count": 24,
      "outputs": [
        {
          "output_type": "stream",
          "text": [
            "Pearsons correlation: 0.25\n"
          ],
          "name": "stdout"
        }
      ]
    },
    {
      "cell_type": "code",
      "metadata": {
        "id": "vjSQjORC650G",
        "outputId": "7de95350-6373-454f-fb5f-923946dcedf1",
        "colab": {
          "base_uri": "https://localhost:8080/",
          "height": 33
        }
      },
      "source": [
        "round(ga.corr(gr), 2)"
      ],
      "execution_count": 25,
      "outputs": [
        {
          "output_type": "execute_result",
          "data": {
            "text/plain": [
              "0.25"
            ]
          },
          "metadata": {
            "tags": []
          },
          "execution_count": 25
        }
      ]
    },
    {
      "cell_type": "code",
      "metadata": {
        "id": "Sj7f17XRcJSd"
      },
      "source": [
        "# USING THE DOWNSAMPLED DAILY DATA\n",
        "# assigning columns to variables\n",
        "vo = new_df_daily['Voltage']\n",
        "inten = new_df_daily['Global_intensity']"
      ],
      "execution_count": 26,
      "outputs": []
    },
    {
      "cell_type": "code",
      "metadata": {
        "id": "cvk6DBEkcb_7",
        "outputId": "61c88497-7d9d-4f0f-cc09-001da06e5d6d",
        "colab": {
          "base_uri": "https://localhost:8080/",
          "height": 33
        }
      },
      "source": [
        "# to calculate Pearson's correlation\n",
        "corr, _ = pearsonr(vo, inten)\n",
        "print('Pearsons correlation: %.2f' % corr)"
      ],
      "execution_count": 27,
      "outputs": [
        {
          "output_type": "stream",
          "text": [
            "Pearsons correlation: 0.05\n"
          ],
          "name": "stdout"
        }
      ]
    },
    {
      "cell_type": "code",
      "metadata": {
        "id": "evNV_c0SlOEA"
      },
      "source": [
        "# USING THE ORIGINAL DATA\n",
        "v = df['Voltage']\n",
        "inte = df['Global_intensity']"
      ],
      "execution_count": 28,
      "outputs": []
    },
    {
      "cell_type": "code",
      "metadata": {
        "id": "16SDSq1Z7Enx",
        "outputId": "741534f7-4f54-4f14-c273-d59293b7eebf",
        "colab": {
          "base_uri": "https://localhost:8080/",
          "height": 33
        }
      },
      "source": [
        "corr, _ = pearsonr(v, inte)\n",
        "print('Pearsons correlation: %.2f' % corr)"
      ],
      "execution_count": 29,
      "outputs": [
        {
          "output_type": "stream",
          "text": [
            "Pearsons correlation: -0.41\n"
          ],
          "name": "stdout"
        }
      ]
    },
    {
      "cell_type": "markdown",
      "metadata": {
        "id": "TpARqL74xM_u"
      },
      "source": [
        "##DECOMPOSITION PLOT"
      ]
    },
    {
      "cell_type": "markdown",
      "metadata": {
        "id": "_ewcSpNLxWWx"
      },
      "source": [
        "###For the daily downsampled dataset"
      ]
    },
    {
      "cell_type": "code",
      "metadata": {
        "id": "5x_lrbuSxEw5",
        "outputId": "ec1bcf41-714c-4b65-96b3-07a4020eafc8",
        "colab": {
          "base_uri": "https://localhost:8080/",
          "height": 617
        }
      },
      "source": [
        "import statsmodels.api as sm\n",
        "from pylab import rcParams\n",
        "\n",
        "rcParams['figure.figsize'] = 18, 8\n",
        "dp_daily = sm.tsa.seasonal_decompose(new_df_daily['Global_active_power'], model='additive')\n",
        "dp_daily.plot()\n",
        "plt.show()"
      ],
      "execution_count": 31,
      "outputs": [
        {
          "output_type": "stream",
          "text": [
            "/usr/local/lib/python3.6/dist-packages/statsmodels/tools/_testing.py:19: FutureWarning: pandas.util.testing is deprecated. Use the functions in the public API at pandas.testing instead.\n",
            "  import pandas.util.testing as tm\n"
          ],
          "name": "stderr"
        },
        {
          "output_type": "display_data",
          "data": {
            "image/png": "[encoded data removed]",
            "text/plain": [
              "<Figure size 1296x576 with 4 Axes>"
            ]
          },
          "metadata": {
            "tags": [],
            "needs_background": "light"
          }
        }
      ]
    },
    {
      "cell_type": "markdown",
      "metadata": {
        "id": "-zHck1CKzadQ"
      },
      "source": [
        "####Looks like this doesn't have any trend but the seasonality is hard to tell. It may be because the datapoints are too much so it makes it harder to visualize."
      ]
    },
    {
      "cell_type": "markdown",
      "metadata": {
        "id": "CyvXs5b10UiY"
      },
      "source": [
        "##Our next task will be to make the series stationary.\n",
        "##We will check for non-stationarity using the ADF Test\n",
        "\n"
      ]
    },
    {
      "cell_type": "markdown",
      "metadata": {
        "id": "3ns2obE60a0A"
      },
      "source": [
        "###For the daily downsampled dataset"
      ]
    },
    {
      "cell_type": "code",
      "metadata": {
        "id": "Kjn48UJNzuId",
        "outputId": "0e413d57-d749-4ee4-9fc7-80810151a868",
        "colab": {
          "base_uri": "https://localhost:8080/",
          "height": 147
        }
      },
      "source": [
        "# ADF TEST\n",
        "from statsmodels.tsa.stattools import adfuller \n",
        "adf_result = adfuller(new_df_daily['Global_active_power'])\n",
        "print(f'ADF Statistic: {adf_result[0]}')\n",
        "print(f'p_value: {adf_result[1]}')\n",
        "print(f'No. of lags used: {adf_result[2]}')\n",
        "print(f'No. of observations used: {adf_result[3]}')\n",
        "print(f'Critical_values:')\n",
        "for k, v in adf_result[4].items():\n",
        "  print(f'  {k} : {v}')"
      ],
      "execution_count": 32,
      "outputs": [
        {
          "output_type": "stream",
          "text": [
            "ADF Statistic: -3.7317038452674414\n",
            "p_value: 0.003688677846598547\n",
            "No. of lags used: 22\n",
            "No. of observations used: 1419\n",
            "Critical_values:\n",
            "  1% : -3.434966750462565\n",
            "  5% : -2.8635789736973725\n",
            "  10% : -2.5678555388041384\n"
          ],
          "name": "stdout"
        }
      ]
    },
    {
      "cell_type": "markdown",
      "metadata": {
        "id": "NJ13OSj42kve"
      },
      "source": [
        "###since the ADF Statistic value for the daily is far less than all critical values(1,5&10%), it is **stationary**"
      ]
    },
    {
      "cell_type": "markdown",
      "metadata": {
        "id": "mmUdYeAs30Cf"
      },
      "source": [
        "#Modelling using Facebook prophet for Univariate Time Series"
      ]
    },
    {
      "cell_type": "markdown",
      "metadata": {
        "id": "apq6rKCE4Oo7"
      },
      "source": [
        "###Working with the daily downsampled dataset"
      ]
    },
    {
      "cell_type": "code",
      "metadata": {
        "id": "bKzY2C7j2aSh",
        "outputId": "aae554fd-4b8e-4b0d-a3ab-29825f2f8adf",
        "colab": {
          "base_uri": "https://localhost:8080/",
          "height": 220
        }
      },
      "source": [
        "new_df_daily.head()"
      ],
      "execution_count": 33,
      "outputs": [
        {
          "output_type": "execute_result",
          "data": {
            "text/html": [
              "<div>\n",
              "<style scoped>\n",
              "    .dataframe tbody tr th:only-of-type {\n",
              "        vertical-align: middle;\n",
              "    }\n",
              "\n",
              "    .dataframe tbody tr th {\n",
              "        vertical-align: top;\n",
              "    }\n",
              "\n",
              "    .dataframe thead th {\n",
              "        text-align: right;\n",
              "    }\n",
              "</style>\n",
              "<table border=\"1\" class=\"dataframe\">\n",
              "  <thead>\n",
              "    <tr style=\"text-align: right;\">\n",
              "      <th></th>\n",
              "      <th>Global_active_power</th>\n",
              "      <th>Global_reactive_power</th>\n",
              "      <th>Voltage</th>\n",
              "      <th>Global_intensity</th>\n",
              "      <th>Sub_metering_1</th>\n",
              "      <th>Sub_metering_2</th>\n",
              "      <th>Sub_metering_3</th>\n",
              "    </tr>\n",
              "    <tr>\n",
              "      <th>datetime</th>\n",
              "      <th></th>\n",
              "      <th></th>\n",
              "      <th></th>\n",
              "      <th></th>\n",
              "      <th></th>\n",
              "      <th></th>\n",
              "      <th></th>\n",
              "    </tr>\n",
              "  </thead>\n",
              "  <tbody>\n",
              "    <tr>\n",
              "      <th>2006-12-16</th>\n",
              "      <td>1209.176</td>\n",
              "      <td>34.922</td>\n",
              "      <td>93552.53</td>\n",
              "      <td>5180.8</td>\n",
              "      <td>0.0</td>\n",
              "      <td>546.0</td>\n",
              "      <td>4926.0</td>\n",
              "    </tr>\n",
              "    <tr>\n",
              "      <th>2006-12-17</th>\n",
              "      <td>3390.460</td>\n",
              "      <td>226.006</td>\n",
              "      <td>345725.32</td>\n",
              "      <td>14398.6</td>\n",
              "      <td>2033.0</td>\n",
              "      <td>4187.0</td>\n",
              "      <td>13341.0</td>\n",
              "    </tr>\n",
              "    <tr>\n",
              "      <th>2006-12-18</th>\n",
              "      <td>2203.826</td>\n",
              "      <td>161.792</td>\n",
              "      <td>347373.64</td>\n",
              "      <td>9247.2</td>\n",
              "      <td>1063.0</td>\n",
              "      <td>2621.0</td>\n",
              "      <td>14018.0</td>\n",
              "    </tr>\n",
              "    <tr>\n",
              "      <th>2006-12-19</th>\n",
              "      <td>1666.194</td>\n",
              "      <td>150.942</td>\n",
              "      <td>348479.01</td>\n",
              "      <td>7094.0</td>\n",
              "      <td>839.0</td>\n",
              "      <td>7602.0</td>\n",
              "      <td>6197.0</td>\n",
              "    </tr>\n",
              "    <tr>\n",
              "      <th>2006-12-20</th>\n",
              "      <td>2225.748</td>\n",
              "      <td>160.998</td>\n",
              "      <td>348923.61</td>\n",
              "      <td>9313.0</td>\n",
              "      <td>0.0</td>\n",
              "      <td>2648.0</td>\n",
              "      <td>14063.0</td>\n",
              "    </tr>\n",
              "  </tbody>\n",
              "</table>\n",
              "</div>"
            ],
            "text/plain": [
              "            Global_active_power  ...  Sub_metering_3\n",
              "datetime                         ...                \n",
              "2006-12-16             1209.176  ...          4926.0\n",
              "2006-12-17             3390.460  ...         13341.0\n",
              "2006-12-18             2203.826  ...         14018.0\n",
              "2006-12-19             1666.194  ...          6197.0\n",
              "2006-12-20             2225.748  ...         14063.0\n",
              "\n",
              "[5 rows x 7 columns]"
            ]
          },
          "metadata": {
            "tags": []
          },
          "execution_count": 33
        }
      ]
    },
    {
      "cell_type": "code",
      "metadata": {
        "id": "pJwBfo6_4XVD",
        "outputId": "28c463c7-595d-4aad-d749-d766a3e74a65",
        "colab": {
          "base_uri": "https://localhost:8080/",
          "height": 191
        }
      },
      "source": [
        "# resetting the index\n",
        "res_new_df_daily = new_df_daily.reset_index()\n",
        "res_new_df_daily.head()"
      ],
      "execution_count": 34,
      "outputs": [
        {
          "output_type": "execute_result",
          "data": {
            "text/html": [
              "<div>\n",
              "<style scoped>\n",
              "    .dataframe tbody tr th:only-of-type {\n",
              "        vertical-align: middle;\n",
              "    }\n",
              "\n",
              "    .dataframe tbody tr th {\n",
              "        vertical-align: top;\n",
              "    }\n",
              "\n",
              "    .dataframe thead th {\n",
              "        text-align: right;\n",
              "    }\n",
              "</style>\n",
              "<table border=\"1\" class=\"dataframe\">\n",
              "  <thead>\n",
              "    <tr style=\"text-align: right;\">\n",
              "      <th></th>\n",
              "      <th>datetime</th>\n",
              "      <th>Global_active_power</th>\n",
              "      <th>Global_reactive_power</th>\n",
              "      <th>Voltage</th>\n",
              "      <th>Global_intensity</th>\n",
              "      <th>Sub_metering_1</th>\n",
              "      <th>Sub_metering_2</th>\n",
              "      <th>Sub_metering_3</th>\n",
              "    </tr>\n",
              "  </thead>\n",
              "  <tbody>\n",
              "    <tr>\n",
              "      <th>0</th>\n",
              "      <td>2006-12-16</td>\n",
              "      <td>1209.176</td>\n",
              "      <td>34.922</td>\n",
              "      <td>93552.53</td>\n",
              "      <td>5180.8</td>\n",
              "      <td>0.0</td>\n",
              "      <td>546.0</td>\n",
              "      <td>4926.0</td>\n",
              "    </tr>\n",
              "    <tr>\n",
              "      <th>1</th>\n",
              "      <td>2006-12-17</td>\n",
              "      <td>3390.460</td>\n",
              "      <td>226.006</td>\n",
              "      <td>345725.32</td>\n",
              "      <td>14398.6</td>\n",
              "      <td>2033.0</td>\n",
              "      <td>4187.0</td>\n",
              "      <td>13341.0</td>\n",
              "    </tr>\n",
              "    <tr>\n",
              "      <th>2</th>\n",
              "      <td>2006-12-18</td>\n",
              "      <td>2203.826</td>\n",
              "      <td>161.792</td>\n",
              "      <td>347373.64</td>\n",
              "      <td>9247.2</td>\n",
              "      <td>1063.0</td>\n",
              "      <td>2621.0</td>\n",
              "      <td>14018.0</td>\n",
              "    </tr>\n",
              "    <tr>\n",
              "      <th>3</th>\n",
              "      <td>2006-12-19</td>\n",
              "      <td>1666.194</td>\n",
              "      <td>150.942</td>\n",
              "      <td>348479.01</td>\n",
              "      <td>7094.0</td>\n",
              "      <td>839.0</td>\n",
              "      <td>7602.0</td>\n",
              "      <td>6197.0</td>\n",
              "    </tr>\n",
              "    <tr>\n",
              "      <th>4</th>\n",
              "      <td>2006-12-20</td>\n",
              "      <td>2225.748</td>\n",
              "      <td>160.998</td>\n",
              "      <td>348923.61</td>\n",
              "      <td>9313.0</td>\n",
              "      <td>0.0</td>\n",
              "      <td>2648.0</td>\n",
              "      <td>14063.0</td>\n",
              "    </tr>\n",
              "  </tbody>\n",
              "</table>\n",
              "</div>"
            ],
            "text/plain": [
              "    datetime  Global_active_power  ...  Sub_metering_2  Sub_metering_3\n",
              "0 2006-12-16             1209.176  ...           546.0          4926.0\n",
              "1 2006-12-17             3390.460  ...          4187.0         13341.0\n",
              "2 2006-12-18             2203.826  ...          2621.0         14018.0\n",
              "3 2006-12-19             1666.194  ...          7602.0          6197.0\n",
              "4 2006-12-20             2225.748  ...          2648.0         14063.0\n",
              "\n",
              "[5 rows x 8 columns]"
            ]
          },
          "metadata": {
            "tags": []
          },
          "execution_count": 34
        }
      ]
    },
    {
      "cell_type": "code",
      "metadata": {
        "id": "_2o4yNdz4oOR",
        "outputId": "484d7869-4375-4326-e7cd-3a3eabc281b1",
        "colab": {
          "base_uri": "https://localhost:8080/",
          "height": 207
        }
      },
      "source": [
        "# taking just the columns we need\n",
        "res_new_df_daily = res_new_df_daily[['datetime', 'Global_active_power']]\n",
        "\n",
        "# renaming the column\n",
        "res_new_df_daily = res_new_df_daily.rename(columns={'datetime':'ds', 'Global_active_power':'y'})\n",
        "print(res_new_df_daily.shape)\n",
        "res_new_df_daily.head()"
      ],
      "execution_count": 35,
      "outputs": [
        {
          "output_type": "stream",
          "text": [
            "(1442, 2)\n"
          ],
          "name": "stdout"
        },
        {
          "output_type": "execute_result",
          "data": {
            "text/html": [
              "<div>\n",
              "<style scoped>\n",
              "    .dataframe tbody tr th:only-of-type {\n",
              "        vertical-align: middle;\n",
              "    }\n",
              "\n",
              "    .dataframe tbody tr th {\n",
              "        vertical-align: top;\n",
              "    }\n",
              "\n",
              "    .dataframe thead th {\n",
              "        text-align: right;\n",
              "    }\n",
              "</style>\n",
              "<table border=\"1\" class=\"dataframe\">\n",
              "  <thead>\n",
              "    <tr style=\"text-align: right;\">\n",
              "      <th></th>\n",
              "      <th>ds</th>\n",
              "      <th>y</th>\n",
              "    </tr>\n",
              "  </thead>\n",
              "  <tbody>\n",
              "    <tr>\n",
              "      <th>0</th>\n",
              "      <td>2006-12-16</td>\n",
              "      <td>1209.176</td>\n",
              "    </tr>\n",
              "    <tr>\n",
              "      <th>1</th>\n",
              "      <td>2006-12-17</td>\n",
              "      <td>3390.460</td>\n",
              "    </tr>\n",
              "    <tr>\n",
              "      <th>2</th>\n",
              "      <td>2006-12-18</td>\n",
              "      <td>2203.826</td>\n",
              "    </tr>\n",
              "    <tr>\n",
              "      <th>3</th>\n",
              "      <td>2006-12-19</td>\n",
              "      <td>1666.194</td>\n",
              "    </tr>\n",
              "    <tr>\n",
              "      <th>4</th>\n",
              "      <td>2006-12-20</td>\n",
              "      <td>2225.748</td>\n",
              "    </tr>\n",
              "  </tbody>\n",
              "</table>\n",
              "</div>"
            ],
            "text/plain": [
              "          ds         y\n",
              "0 2006-12-16  1209.176\n",
              "1 2006-12-17  3390.460\n",
              "2 2006-12-18  2203.826\n",
              "3 2006-12-19  1666.194\n",
              "4 2006-12-20  2225.748"
            ]
          },
          "metadata": {
            "tags": []
          },
          "execution_count": 35
        }
      ]
    },
    {
      "cell_type": "code",
      "metadata": {
        "id": "w-pt1UI35cyH",
        "outputId": "067cf77d-6096-46d4-a062-38ca9b92bec7",
        "colab": {
          "base_uri": "https://localhost:8080/",
          "height": 163
        }
      },
      "source": [
        "res_new_df_daily.info()"
      ],
      "execution_count": 36,
      "outputs": [
        {
          "output_type": "stream",
          "text": [
            "<class 'pandas.core.frame.DataFrame'>\n",
            "RangeIndex: 1442 entries, 0 to 1441\n",
            "Data columns (total 2 columns):\n",
            " #   Column  Non-Null Count  Dtype         \n",
            "---  ------  --------------  -----         \n",
            " 0   ds      1442 non-null   datetime64[ns]\n",
            " 1   y       1442 non-null   float64       \n",
            "dtypes: datetime64[ns](1), float64(1)\n",
            "memory usage: 22.7 KB\n"
          ],
          "name": "stdout"
        }
      ]
    },
    {
      "cell_type": "code",
      "metadata": {
        "id": "xxXaUK65vYDb",
        "outputId": "15d80685-046d-4754-bd34-ac80cdc50c0a",
        "colab": {
          "base_uri": "https://localhost:8080/",
          "height": 207
        }
      },
      "source": [
        "# taking the last 365 days as our test data\n",
        "test = res_new_df_daily[-365:]\n",
        "print(test.shape)\n",
        "test.head()"
      ],
      "execution_count": 37,
      "outputs": [
        {
          "output_type": "stream",
          "text": [
            "(365, 2)\n"
          ],
          "name": "stdout"
        },
        {
          "output_type": "execute_result",
          "data": {
            "text/html": [
              "<div>\n",
              "<style scoped>\n",
              "    .dataframe tbody tr th:only-of-type {\n",
              "        vertical-align: middle;\n",
              "    }\n",
              "\n",
              "    .dataframe tbody tr th {\n",
              "        vertical-align: top;\n",
              "    }\n",
              "\n",
              "    .dataframe thead th {\n",
              "        text-align: right;\n",
              "    }\n",
              "</style>\n",
              "<table border=\"1\" class=\"dataframe\">\n",
              "  <thead>\n",
              "    <tr style=\"text-align: right;\">\n",
              "      <th></th>\n",
              "      <th>ds</th>\n",
              "      <th>y</th>\n",
              "    </tr>\n",
              "  </thead>\n",
              "  <tbody>\n",
              "    <tr>\n",
              "      <th>1077</th>\n",
              "      <td>2009-11-27</td>\n",
              "      <td>1380.026</td>\n",
              "    </tr>\n",
              "    <tr>\n",
              "      <th>1078</th>\n",
              "      <td>2009-11-28</td>\n",
              "      <td>1858.950</td>\n",
              "    </tr>\n",
              "    <tr>\n",
              "      <th>1079</th>\n",
              "      <td>2009-11-29</td>\n",
              "      <td>1650.962</td>\n",
              "    </tr>\n",
              "    <tr>\n",
              "      <th>1080</th>\n",
              "      <td>2009-11-30</td>\n",
              "      <td>1745.190</td>\n",
              "    </tr>\n",
              "    <tr>\n",
              "      <th>1081</th>\n",
              "      <td>2009-12-01</td>\n",
              "      <td>1756.378</td>\n",
              "    </tr>\n",
              "  </tbody>\n",
              "</table>\n",
              "</div>"
            ],
            "text/plain": [
              "             ds         y\n",
              "1077 2009-11-27  1380.026\n",
              "1078 2009-11-28  1858.950\n",
              "1079 2009-11-29  1650.962\n",
              "1080 2009-11-30  1745.190\n",
              "1081 2009-12-01  1756.378"
            ]
          },
          "metadata": {
            "tags": []
          },
          "execution_count": 37
        }
      ]
    },
    {
      "cell_type": "code",
      "metadata": {
        "id": "x_XD7apBwgJ9",
        "outputId": "426e81f7-827c-484a-aed1-b64d915688d0",
        "colab": {
          "base_uri": "https://localhost:8080/",
          "height": 207
        }
      },
      "source": [
        "# taking the remaining values to be used for the training data\n",
        "train = res_new_df_daily[:-365]\n",
        "print(train.shape)\n",
        "train.head()"
      ],
      "execution_count": 38,
      "outputs": [
        {
          "output_type": "stream",
          "text": [
            "(1077, 2)\n"
          ],
          "name": "stdout"
        },
        {
          "output_type": "execute_result",
          "data": {
            "text/html": [
              "<div>\n",
              "<style scoped>\n",
              "    .dataframe tbody tr th:only-of-type {\n",
              "        vertical-align: middle;\n",
              "    }\n",
              "\n",
              "    .dataframe tbody tr th {\n",
              "        vertical-align: top;\n",
              "    }\n",
              "\n",
              "    .dataframe thead th {\n",
              "        text-align: right;\n",
              "    }\n",
              "</style>\n",
              "<table border=\"1\" class=\"dataframe\">\n",
              "  <thead>\n",
              "    <tr style=\"text-align: right;\">\n",
              "      <th></th>\n",
              "      <th>ds</th>\n",
              "      <th>y</th>\n",
              "    </tr>\n",
              "  </thead>\n",
              "  <tbody>\n",
              "    <tr>\n",
              "      <th>0</th>\n",
              "      <td>2006-12-16</td>\n",
              "      <td>1209.176</td>\n",
              "    </tr>\n",
              "    <tr>\n",
              "      <th>1</th>\n",
              "      <td>2006-12-17</td>\n",
              "      <td>3390.460</td>\n",
              "    </tr>\n",
              "    <tr>\n",
              "      <th>2</th>\n",
              "      <td>2006-12-18</td>\n",
              "      <td>2203.826</td>\n",
              "    </tr>\n",
              "    <tr>\n",
              "      <th>3</th>\n",
              "      <td>2006-12-19</td>\n",
              "      <td>1666.194</td>\n",
              "    </tr>\n",
              "    <tr>\n",
              "      <th>4</th>\n",
              "      <td>2006-12-20</td>\n",
              "      <td>2225.748</td>\n",
              "    </tr>\n",
              "  </tbody>\n",
              "</table>\n",
              "</div>"
            ],
            "text/plain": [
              "          ds         y\n",
              "0 2006-12-16  1209.176\n",
              "1 2006-12-17  3390.460\n",
              "2 2006-12-18  2203.826\n",
              "3 2006-12-19  1666.194\n",
              "4 2006-12-20  2225.748"
            ]
          },
          "metadata": {
            "tags": []
          },
          "execution_count": 38
        }
      ]
    },
    {
      "cell_type": "code",
      "metadata": {
        "id": "EQ3RC0mkxrlL"
      },
      "source": [
        "# confirming the length of the train data equals the length of the overall data minus 365 days\n",
        "assert len(train) == (len(new_df_daily)-365)"
      ],
      "execution_count": 40,
      "outputs": []
    },
    {
      "cell_type": "code",
      "metadata": {
        "id": "HFjJTFNp5kpt",
        "outputId": "9466414d-47c7-4aae-b3ca-37f1c76420ce",
        "colab": {
          "base_uri": "https://localhost:8080/",
          "height": 50
        }
      },
      "source": [
        "from fbprophet import Prophet\n",
        "# creating the model and fitting it to the dailly downsampled data\n",
        "model = Prophet()\n",
        "model.fit(train)"
      ],
      "execution_count": 41,
      "outputs": [
        {
          "output_type": "stream",
          "text": [
            "INFO:fbprophet:Disabling daily seasonality. Run prophet with daily_seasonality=True to override this.\n"
          ],
          "name": "stderr"
        },
        {
          "output_type": "execute_result",
          "data": {
            "text/plain": [
              "<fbprophet.forecaster.Prophet at 0x7fdabd6e9e48>"
            ]
          },
          "metadata": {
            "tags": []
          },
          "execution_count": 41
        }
      ]
    },
    {
      "cell_type": "code",
      "metadata": {
        "id": "wMIU9Guy5q49",
        "outputId": "2a84659a-f62a-4ade-c0bc-566c77c1b1f8",
        "colab": {
          "base_uri": "https://localhost:8080/",
          "height": 292
        }
      },
      "source": [
        "# predicting for the next 365 days\n",
        "future = model.make_future_dataframe(periods=365, freq='D') \n",
        "forecast = model.predict(future) \n",
        "forecast.head()"
      ],
      "execution_count": 42,
      "outputs": [
        {
          "output_type": "execute_result",
          "data": {
            "text/html": [
              "<div>\n",
              "<style scoped>\n",
              "    .dataframe tbody tr th:only-of-type {\n",
              "        vertical-align: middle;\n",
              "    }\n",
              "\n",
              "    .dataframe tbody tr th {\n",
              "        vertical-align: top;\n",
              "    }\n",
              "\n",
              "    .dataframe thead th {\n",
              "        text-align: right;\n",
              "    }\n",
              "</style>\n",
              "<table border=\"1\" class=\"dataframe\">\n",
              "  <thead>\n",
              "    <tr style=\"text-align: right;\">\n",
              "      <th></th>\n",
              "      <th>ds</th>\n",
              "      <th>trend</th>\n",
              "      <th>yhat_lower</th>\n",
              "      <th>yhat_upper</th>\n",
              "      <th>trend_lower</th>\n",
              "      <th>trend_upper</th>\n",
              "      <th>additive_terms</th>\n",
              "      <th>additive_terms_lower</th>\n",
              "      <th>additive_terms_upper</th>\n",
              "      <th>weekly</th>\n",
              "      <th>weekly_lower</th>\n",
              "      <th>weekly_upper</th>\n",
              "      <th>yearly</th>\n",
              "      <th>yearly_lower</th>\n",
              "      <th>yearly_upper</th>\n",
              "      <th>multiplicative_terms</th>\n",
              "      <th>multiplicative_terms_lower</th>\n",
              "      <th>multiplicative_terms_upper</th>\n",
              "      <th>yhat</th>\n",
              "    </tr>\n",
              "  </thead>\n",
              "  <tbody>\n",
              "    <tr>\n",
              "      <th>0</th>\n",
              "      <td>2006-12-16</td>\n",
              "      <td>1651.870476</td>\n",
              "      <td>1887.104948</td>\n",
              "      <td>2973.575573</td>\n",
              "      <td>1651.870476</td>\n",
              "      <td>1651.870476</td>\n",
              "      <td>775.803954</td>\n",
              "      <td>775.803954</td>\n",
              "      <td>775.803954</td>\n",
              "      <td>245.727868</td>\n",
              "      <td>245.727868</td>\n",
              "      <td>245.727868</td>\n",
              "      <td>530.076086</td>\n",
              "      <td>530.076086</td>\n",
              "      <td>530.076086</td>\n",
              "      <td>0.0</td>\n",
              "      <td>0.0</td>\n",
              "      <td>0.0</td>\n",
              "      <td>2427.674430</td>\n",
              "    </tr>\n",
              "    <tr>\n",
              "      <th>1</th>\n",
              "      <td>2006-12-17</td>\n",
              "      <td>1651.695654</td>\n",
              "      <td>1884.560807</td>\n",
              "      <td>3008.347302</td>\n",
              "      <td>1651.695654</td>\n",
              "      <td>1651.695654</td>\n",
              "      <td>772.611682</td>\n",
              "      <td>772.611682</td>\n",
              "      <td>772.611682</td>\n",
              "      <td>228.437514</td>\n",
              "      <td>228.437514</td>\n",
              "      <td>228.437514</td>\n",
              "      <td>544.174167</td>\n",
              "      <td>544.174167</td>\n",
              "      <td>544.174167</td>\n",
              "      <td>0.0</td>\n",
              "      <td>0.0</td>\n",
              "      <td>0.0</td>\n",
              "      <td>2424.307336</td>\n",
              "    </tr>\n",
              "    <tr>\n",
              "      <th>2</th>\n",
              "      <td>2006-12-18</td>\n",
              "      <td>1651.520833</td>\n",
              "      <td>1484.775551</td>\n",
              "      <td>2632.819110</td>\n",
              "      <td>1651.520833</td>\n",
              "      <td>1651.520833</td>\n",
              "      <td>397.879289</td>\n",
              "      <td>397.879289</td>\n",
              "      <td>397.879289</td>\n",
              "      <td>-161.218418</td>\n",
              "      <td>-161.218418</td>\n",
              "      <td>-161.218418</td>\n",
              "      <td>559.097707</td>\n",
              "      <td>559.097707</td>\n",
              "      <td>559.097707</td>\n",
              "      <td>0.0</td>\n",
              "      <td>0.0</td>\n",
              "      <td>0.0</td>\n",
              "      <td>2049.400122</td>\n",
              "    </tr>\n",
              "    <tr>\n",
              "      <th>3</th>\n",
              "      <td>2006-12-19</td>\n",
              "      <td>1651.346012</td>\n",
              "      <td>1630.611271</td>\n",
              "      <td>2778.776431</td>\n",
              "      <td>1651.346012</td>\n",
              "      <td>1651.346012</td>\n",
              "      <td>545.082036</td>\n",
              "      <td>545.082036</td>\n",
              "      <td>545.082036</td>\n",
              "      <td>-29.322660</td>\n",
              "      <td>-29.322660</td>\n",
              "      <td>-29.322660</td>\n",
              "      <td>574.404696</td>\n",
              "      <td>574.404696</td>\n",
              "      <td>574.404696</td>\n",
              "      <td>0.0</td>\n",
              "      <td>0.0</td>\n",
              "      <td>0.0</td>\n",
              "      <td>2196.428047</td>\n",
              "    </tr>\n",
              "    <tr>\n",
              "      <th>4</th>\n",
              "      <td>2006-12-20</td>\n",
              "      <td>1651.171190</td>\n",
              "      <td>1649.647694</td>\n",
              "      <td>2757.802499</td>\n",
              "      <td>1651.171190</td>\n",
              "      <td>1651.171190</td>\n",
              "      <td>564.928312</td>\n",
              "      <td>564.928312</td>\n",
              "      <td>564.928312</td>\n",
              "      <td>-24.708936</td>\n",
              "      <td>-24.708936</td>\n",
              "      <td>-24.708936</td>\n",
              "      <td>589.637248</td>\n",
              "      <td>589.637248</td>\n",
              "      <td>589.637248</td>\n",
              "      <td>0.0</td>\n",
              "      <td>0.0</td>\n",
              "      <td>0.0</td>\n",
              "      <td>2216.099502</td>\n",
              "    </tr>\n",
              "  </tbody>\n",
              "</table>\n",
              "</div>"
            ],
            "text/plain": [
              "          ds        trend  ...  multiplicative_terms_upper         yhat\n",
              "0 2006-12-16  1651.870476  ...                         0.0  2427.674430\n",
              "1 2006-12-17  1651.695654  ...                         0.0  2424.307336\n",
              "2 2006-12-18  1651.520833  ...                         0.0  2049.400122\n",
              "3 2006-12-19  1651.346012  ...                         0.0  2196.428047\n",
              "4 2006-12-20  1651.171190  ...                         0.0  2216.099502\n",
              "\n",
              "[5 rows x 19 columns]"
            ]
          },
          "metadata": {
            "tags": []
          },
          "execution_count": 42
        }
      ]
    },
    {
      "cell_type": "code",
      "metadata": {
        "id": "Bmfsh3Fw5tHU",
        "outputId": "66ebec3c-7cbc-4935-de90-6b31dfa6353d",
        "colab": {
          "base_uri": "https://localhost:8080/",
          "height": 391
        }
      },
      "source": [
        "# viewing specific columns\n",
        "forecast[['ds', 'yhat', 'yhat_lower', 'yhat_upper', 'trend', 'trend_lower', 'trend_upper']]"
      ],
      "execution_count": 43,
      "outputs": [
        {
          "output_type": "execute_result",
          "data": {
            "text/html": [
              "<div>\n",
              "<style scoped>\n",
              "    .dataframe tbody tr th:only-of-type {\n",
              "        vertical-align: middle;\n",
              "    }\n",
              "\n",
              "    .dataframe tbody tr th {\n",
              "        vertical-align: top;\n",
              "    }\n",
              "\n",
              "    .dataframe thead th {\n",
              "        text-align: right;\n",
              "    }\n",
              "</style>\n",
              "<table border=\"1\" class=\"dataframe\">\n",
              "  <thead>\n",
              "    <tr style=\"text-align: right;\">\n",
              "      <th></th>\n",
              "      <th>ds</th>\n",
              "      <th>yhat</th>\n",
              "      <th>yhat_lower</th>\n",
              "      <th>yhat_upper</th>\n",
              "      <th>trend</th>\n",
              "      <th>trend_lower</th>\n",
              "      <th>trend_upper</th>\n",
              "    </tr>\n",
              "  </thead>\n",
              "  <tbody>\n",
              "    <tr>\n",
              "      <th>0</th>\n",
              "      <td>2006-12-16</td>\n",
              "      <td>2427.674430</td>\n",
              "      <td>1887.104948</td>\n",
              "      <td>2973.575573</td>\n",
              "      <td>1651.870476</td>\n",
              "      <td>1651.870476</td>\n",
              "      <td>1651.870476</td>\n",
              "    </tr>\n",
              "    <tr>\n",
              "      <th>1</th>\n",
              "      <td>2006-12-17</td>\n",
              "      <td>2424.307336</td>\n",
              "      <td>1884.560807</td>\n",
              "      <td>3008.347302</td>\n",
              "      <td>1651.695654</td>\n",
              "      <td>1651.695654</td>\n",
              "      <td>1651.695654</td>\n",
              "    </tr>\n",
              "    <tr>\n",
              "      <th>2</th>\n",
              "      <td>2006-12-18</td>\n",
              "      <td>2049.400122</td>\n",
              "      <td>1484.775551</td>\n",
              "      <td>2632.819110</td>\n",
              "      <td>1651.520833</td>\n",
              "      <td>1651.520833</td>\n",
              "      <td>1651.520833</td>\n",
              "    </tr>\n",
              "    <tr>\n",
              "      <th>3</th>\n",
              "      <td>2006-12-19</td>\n",
              "      <td>2196.428047</td>\n",
              "      <td>1630.611271</td>\n",
              "      <td>2778.776431</td>\n",
              "      <td>1651.346012</td>\n",
              "      <td>1651.346012</td>\n",
              "      <td>1651.346012</td>\n",
              "    </tr>\n",
              "    <tr>\n",
              "      <th>4</th>\n",
              "      <td>2006-12-20</td>\n",
              "      <td>2216.099502</td>\n",
              "      <td>1649.647694</td>\n",
              "      <td>2757.802499</td>\n",
              "      <td>1651.171190</td>\n",
              "      <td>1651.171190</td>\n",
              "      <td>1651.171190</td>\n",
              "    </tr>\n",
              "    <tr>\n",
              "      <th>...</th>\n",
              "      <td>...</td>\n",
              "      <td>...</td>\n",
              "      <td>...</td>\n",
              "      <td>...</td>\n",
              "      <td>...</td>\n",
              "      <td>...</td>\n",
              "      <td>...</td>\n",
              "    </tr>\n",
              "    <tr>\n",
              "      <th>1437</th>\n",
              "      <td>2010-11-22</td>\n",
              "      <td>2040.151795</td>\n",
              "      <td>1468.922204</td>\n",
              "      <td>2596.200475</td>\n",
              "      <td>1632.211137</td>\n",
              "      <td>1619.956102</td>\n",
              "      <td>1645.162535</td>\n",
              "    </tr>\n",
              "    <tr>\n",
              "      <th>1438</th>\n",
              "      <td>2010-11-23</td>\n",
              "      <td>2182.312497</td>\n",
              "      <td>1644.475869</td>\n",
              "      <td>2759.255853</td>\n",
              "      <td>1632.346982</td>\n",
              "      <td>1620.061587</td>\n",
              "      <td>1645.349430</td>\n",
              "    </tr>\n",
              "    <tr>\n",
              "      <th>1439</th>\n",
              "      <td>2010-11-24</td>\n",
              "      <td>2193.411479</td>\n",
              "      <td>1630.326821</td>\n",
              "      <td>2786.688229</td>\n",
              "      <td>1632.482827</td>\n",
              "      <td>1620.181807</td>\n",
              "      <td>1645.536326</td>\n",
              "    </tr>\n",
              "    <tr>\n",
              "      <th>1440</th>\n",
              "      <td>2010-11-25</td>\n",
              "      <td>2026.197054</td>\n",
              "      <td>1454.157691</td>\n",
              "      <td>2539.725727</td>\n",
              "      <td>1632.618672</td>\n",
              "      <td>1620.249803</td>\n",
              "      <td>1645.723221</td>\n",
              "    </tr>\n",
              "    <tr>\n",
              "      <th>1441</th>\n",
              "      <td>2010-11-26</td>\n",
              "      <td>2156.500936</td>\n",
              "      <td>1598.331213</td>\n",
              "      <td>2732.009302</td>\n",
              "      <td>1632.754517</td>\n",
              "      <td>1620.291468</td>\n",
              "      <td>1645.910117</td>\n",
              "    </tr>\n",
              "  </tbody>\n",
              "</table>\n",
              "<p>1442 rows × 7 columns</p>\n",
              "</div>"
            ],
            "text/plain": [
              "             ds         yhat  ...  trend_lower  trend_upper\n",
              "0    2006-12-16  2427.674430  ...  1651.870476  1651.870476\n",
              "1    2006-12-17  2424.307336  ...  1651.695654  1651.695654\n",
              "2    2006-12-18  2049.400122  ...  1651.520833  1651.520833\n",
              "3    2006-12-19  2196.428047  ...  1651.346012  1651.346012\n",
              "4    2006-12-20  2216.099502  ...  1651.171190  1651.171190\n",
              "...         ...          ...  ...          ...          ...\n",
              "1437 2010-11-22  2040.151795  ...  1619.956102  1645.162535\n",
              "1438 2010-11-23  2182.312497  ...  1620.061587  1645.349430\n",
              "1439 2010-11-24  2193.411479  ...  1620.181807  1645.536326\n",
              "1440 2010-11-25  2026.197054  ...  1620.249803  1645.723221\n",
              "1441 2010-11-26  2156.500936  ...  1620.291468  1645.910117\n",
              "\n",
              "[1442 rows x 7 columns]"
            ]
          },
          "metadata": {
            "tags": []
          },
          "execution_count": 43
        }
      ]
    },
    {
      "cell_type": "code",
      "metadata": {
        "id": "FVvqVjYr1Fk0"
      },
      "source": [
        "# created mape metric function\n",
        "def mape(y_true, y_pred):\n",
        "  y_true, y_pred = np.array(y_true), np.array(y_pred)\n",
        "  return np.mean(np.abs((y_true-y_pred)/y_true))*100"
      ],
      "execution_count": 44,
      "outputs": []
    },
    {
      "cell_type": "code",
      "metadata": {
        "id": "rRtagzQ6157a"
      },
      "source": [
        "test_val = test['y'] # true y values\n",
        "pred_val = forecast['yhat'][-365:] # predicted y values"
      ],
      "execution_count": 45,
      "outputs": []
    },
    {
      "cell_type": "code",
      "metadata": {
        "id": "OMwRlP3-2O6U",
        "outputId": "fb7f28db-7a35-4009-ab7d-255ff30b1770",
        "colab": {
          "base_uri": "https://localhost:8080/",
          "height": 33
        }
      },
      "source": [
        "# mape metric test on univariate data\n",
        "prediction = mape(test_val, pred_val)\n",
        "print('MAPE prediction: ', round(prediction, 2)) # rounds prediction to 2dp"
      ],
      "execution_count": 46,
      "outputs": [
        {
          "output_type": "stream",
          "text": [
            "MAPE prediction:  20.9\n"
          ],
          "name": "stdout"
        }
      ]
    },
    {
      "cell_type": "code",
      "metadata": {
        "id": "FcJoyE4R2xlf",
        "outputId": "849e1620-9279-44f1-de57-cac413a17e02",
        "colab": {
          "base_uri": "https://localhost:8080/",
          "height": 33
        }
      },
      "source": [
        "from sklearn.metrics import mean_squared_error\n",
        "# gets the mse metric\n",
        "pred_mse = mean_squared_error(test_val, pred_val)\n",
        "# takes the sqrt of the mse to get the rmse\n",
        "pred_rmse = np.sqrt(pred_mse)\n",
        "print('RMSE prediction: ', round(pred_rmse, 2)) # rounds prediction to 2dp"
      ],
      "execution_count": 47,
      "outputs": [
        {
          "output_type": "stream",
          "text": [
            "RMSE prediction:  375.04\n"
          ],
          "name": "stdout"
        }
      ]
    },
    {
      "cell_type": "code",
      "metadata": {
        "id": "c_m8I_gz3x6t"
      },
      "source": [
        "# rmse metric function\n",
        "def rmse(y_true, y_pred):\n",
        "   y_true, y_pred = np.array(y_true), np.array(y_pred)\n",
        "   return np.sqrt(np.mean(np.square(y_true-y_pred)))"
      ],
      "execution_count": 48,
      "outputs": []
    },
    {
      "cell_type": "code",
      "metadata": {
        "id": "vuEEj53L4Iva",
        "outputId": "b2caa991-42a7-4495-cf63-b70bd48ef40b",
        "colab": {
          "base_uri": "https://localhost:8080/",
          "height": 33
        }
      },
      "source": [
        "# using the custom rmse metric function\n",
        "new_pred_rmse = rmse(test_val, pred_val)\n",
        "round(new_pred_rmse, 2) "
      ],
      "execution_count": 49,
      "outputs": [
        {
          "output_type": "execute_result",
          "data": {
            "text/plain": [
              "375.04"
            ]
          },
          "metadata": {
            "tags": []
          },
          "execution_count": 49
        }
      ]
    },
    {
      "cell_type": "code",
      "metadata": {
        "id": "FW2aUUHsApHa",
        "outputId": "58dd94b2-c668-4c67-a1d9-8f1f85ed12ee",
        "colab": {
          "base_uri": "https://localhost:8080/",
          "height": 657
        }
      },
      "source": [
        "# plotting the components\n",
        "model.plot_components(forecast)\n",
        "plt.show()"
      ],
      "execution_count": 50,
      "outputs": [
        {
          "output_type": "display_data",
          "data": {
            "image/png": "[encoded data removed]",
            "text/plain": [
              "<Figure size 648x648 with 3 Axes>"
            ]
          },
          "metadata": {
            "tags": []
          }
        }
      ]
    },
    {
      "cell_type": "markdown",
      "metadata": {
        "id": "ZY3-rw1Eirf7"
      },
      "source": [
        "###As seen from the component plot above, August has the least yearly seasonality value"
      ]
    },
    {
      "cell_type": "markdown",
      "metadata": {
        "id": "sj_yjAHOMffk"
      },
      "source": [
        "#Modelling using Facebook prophet for Multivariate Time Series"
      ]
    },
    {
      "cell_type": "code",
      "metadata": {
        "id": "pqqMkJiiMjw3",
        "outputId": "47a485c4-49ac-4309-9475-9866676db6fb",
        "colab": {
          "base_uri": "https://localhost:8080/",
          "height": 191
        }
      },
      "source": [
        "# resetting the index\n",
        "res_new_df_daily2 = new_df_daily.reset_index()\n",
        "res_new_df_daily2.head()"
      ],
      "execution_count": 51,
      "outputs": [
        {
          "output_type": "execute_result",
          "data": {
            "text/html": [
              "<div>\n",
              "<style scoped>\n",
              "    .dataframe tbody tr th:only-of-type {\n",
              "        vertical-align: middle;\n",
              "    }\n",
              "\n",
              "    .dataframe tbody tr th {\n",
              "        vertical-align: top;\n",
              "    }\n",
              "\n",
              "    .dataframe thead th {\n",
              "        text-align: right;\n",
              "    }\n",
              "</style>\n",
              "<table border=\"1\" class=\"dataframe\">\n",
              "  <thead>\n",
              "    <tr style=\"text-align: right;\">\n",
              "      <th></th>\n",
              "      <th>datetime</th>\n",
              "      <th>Global_active_power</th>\n",
              "      <th>Global_reactive_power</th>\n",
              "      <th>Voltage</th>\n",
              "      <th>Global_intensity</th>\n",
              "      <th>Sub_metering_1</th>\n",
              "      <th>Sub_metering_2</th>\n",
              "      <th>Sub_metering_3</th>\n",
              "    </tr>\n",
              "  </thead>\n",
              "  <tbody>\n",
              "    <tr>\n",
              "      <th>0</th>\n",
              "      <td>2006-12-16</td>\n",
              "      <td>1209.176</td>\n",
              "      <td>34.922</td>\n",
              "      <td>93552.53</td>\n",
              "      <td>5180.8</td>\n",
              "      <td>0.0</td>\n",
              "      <td>546.0</td>\n",
              "      <td>4926.0</td>\n",
              "    </tr>\n",
              "    <tr>\n",
              "      <th>1</th>\n",
              "      <td>2006-12-17</td>\n",
              "      <td>3390.460</td>\n",
              "      <td>226.006</td>\n",
              "      <td>345725.32</td>\n",
              "      <td>14398.6</td>\n",
              "      <td>2033.0</td>\n",
              "      <td>4187.0</td>\n",
              "      <td>13341.0</td>\n",
              "    </tr>\n",
              "    <tr>\n",
              "      <th>2</th>\n",
              "      <td>2006-12-18</td>\n",
              "      <td>2203.826</td>\n",
              "      <td>161.792</td>\n",
              "      <td>347373.64</td>\n",
              "      <td>9247.2</td>\n",
              "      <td>1063.0</td>\n",
              "      <td>2621.0</td>\n",
              "      <td>14018.0</td>\n",
              "    </tr>\n",
              "    <tr>\n",
              "      <th>3</th>\n",
              "      <td>2006-12-19</td>\n",
              "      <td>1666.194</td>\n",
              "      <td>150.942</td>\n",
              "      <td>348479.01</td>\n",
              "      <td>7094.0</td>\n",
              "      <td>839.0</td>\n",
              "      <td>7602.0</td>\n",
              "      <td>6197.0</td>\n",
              "    </tr>\n",
              "    <tr>\n",
              "      <th>4</th>\n",
              "      <td>2006-12-20</td>\n",
              "      <td>2225.748</td>\n",
              "      <td>160.998</td>\n",
              "      <td>348923.61</td>\n",
              "      <td>9313.0</td>\n",
              "      <td>0.0</td>\n",
              "      <td>2648.0</td>\n",
              "      <td>14063.0</td>\n",
              "    </tr>\n",
              "  </tbody>\n",
              "</table>\n",
              "</div>"
            ],
            "text/plain": [
              "    datetime  Global_active_power  ...  Sub_metering_2  Sub_metering_3\n",
              "0 2006-12-16             1209.176  ...           546.0          4926.0\n",
              "1 2006-12-17             3390.460  ...          4187.0         13341.0\n",
              "2 2006-12-18             2203.826  ...          2621.0         14018.0\n",
              "3 2006-12-19             1666.194  ...          7602.0          6197.0\n",
              "4 2006-12-20             2225.748  ...          2648.0         14063.0\n",
              "\n",
              "[5 rows x 8 columns]"
            ]
          },
          "metadata": {
            "tags": []
          },
          "execution_count": 51
        }
      ]
    },
    {
      "cell_type": "code",
      "metadata": {
        "id": "OHY4nO-MOnE6",
        "outputId": "131fef0f-12db-4c64-a9ec-44b04f1c4327",
        "colab": {
          "base_uri": "https://localhost:8080/",
          "height": 207
        }
      },
      "source": [
        "# renaming the columns\n",
        "res_new_df_daily2 = res_new_df_daily2.rename(columns={'datetime':'ds', 'Global_active_power':'y', 'Global_reactive_power':'add1', 'Voltage':'add2', 'Global_intensity':'add3', 'Sub_metering_1':'add4', 'Sub_metering_2':'add5', 'Sub_metering_3':'add6'})\n",
        "print(res_new_df_daily2.shape)\n",
        "res_new_df_daily2.head()"
      ],
      "execution_count": 52,
      "outputs": [
        {
          "output_type": "stream",
          "text": [
            "(1442, 8)\n"
          ],
          "name": "stdout"
        },
        {
          "output_type": "execute_result",
          "data": {
            "text/html": [
              "<div>\n",
              "<style scoped>\n",
              "    .dataframe tbody tr th:only-of-type {\n",
              "        vertical-align: middle;\n",
              "    }\n",
              "\n",
              "    .dataframe tbody tr th {\n",
              "        vertical-align: top;\n",
              "    }\n",
              "\n",
              "    .dataframe thead th {\n",
              "        text-align: right;\n",
              "    }\n",
              "</style>\n",
              "<table border=\"1\" class=\"dataframe\">\n",
              "  <thead>\n",
              "    <tr style=\"text-align: right;\">\n",
              "      <th></th>\n",
              "      <th>ds</th>\n",
              "      <th>y</th>\n",
              "      <th>add1</th>\n",
              "      <th>add2</th>\n",
              "      <th>add3</th>\n",
              "      <th>add4</th>\n",
              "      <th>add5</th>\n",
              "      <th>add6</th>\n",
              "    </tr>\n",
              "  </thead>\n",
              "  <tbody>\n",
              "    <tr>\n",
              "      <th>0</th>\n",
              "      <td>2006-12-16</td>\n",
              "      <td>1209.176</td>\n",
              "      <td>34.922</td>\n",
              "      <td>93552.53</td>\n",
              "      <td>5180.8</td>\n",
              "      <td>0.0</td>\n",
              "      <td>546.0</td>\n",
              "      <td>4926.0</td>\n",
              "    </tr>\n",
              "    <tr>\n",
              "      <th>1</th>\n",
              "      <td>2006-12-17</td>\n",
              "      <td>3390.460</td>\n",
              "      <td>226.006</td>\n",
              "      <td>345725.32</td>\n",
              "      <td>14398.6</td>\n",
              "      <td>2033.0</td>\n",
              "      <td>4187.0</td>\n",
              "      <td>13341.0</td>\n",
              "    </tr>\n",
              "    <tr>\n",
              "      <th>2</th>\n",
              "      <td>2006-12-18</td>\n",
              "      <td>2203.826</td>\n",
              "      <td>161.792</td>\n",
              "      <td>347373.64</td>\n",
              "      <td>9247.2</td>\n",
              "      <td>1063.0</td>\n",
              "      <td>2621.0</td>\n",
              "      <td>14018.0</td>\n",
              "    </tr>\n",
              "    <tr>\n",
              "      <th>3</th>\n",
              "      <td>2006-12-19</td>\n",
              "      <td>1666.194</td>\n",
              "      <td>150.942</td>\n",
              "      <td>348479.01</td>\n",
              "      <td>7094.0</td>\n",
              "      <td>839.0</td>\n",
              "      <td>7602.0</td>\n",
              "      <td>6197.0</td>\n",
              "    </tr>\n",
              "    <tr>\n",
              "      <th>4</th>\n",
              "      <td>2006-12-20</td>\n",
              "      <td>2225.748</td>\n",
              "      <td>160.998</td>\n",
              "      <td>348923.61</td>\n",
              "      <td>9313.0</td>\n",
              "      <td>0.0</td>\n",
              "      <td>2648.0</td>\n",
              "      <td>14063.0</td>\n",
              "    </tr>\n",
              "  </tbody>\n",
              "</table>\n",
              "</div>"
            ],
            "text/plain": [
              "          ds         y     add1       add2     add3    add4    add5     add6\n",
              "0 2006-12-16  1209.176   34.922   93552.53   5180.8     0.0   546.0   4926.0\n",
              "1 2006-12-17  3390.460  226.006  345725.32  14398.6  2033.0  4187.0  13341.0\n",
              "2 2006-12-18  2203.826  161.792  347373.64   9247.2  1063.0  2621.0  14018.0\n",
              "3 2006-12-19  1666.194  150.942  348479.01   7094.0   839.0  7602.0   6197.0\n",
              "4 2006-12-20  2225.748  160.998  348923.61   9313.0     0.0  2648.0  14063.0"
            ]
          },
          "metadata": {
            "tags": []
          },
          "execution_count": 52
        }
      ]
    },
    {
      "cell_type": "code",
      "metadata": {
        "id": "1JSElGbhO5yh",
        "outputId": "b1c210d6-f707-47e0-81d1-62d745a0d4a8",
        "colab": {
          "base_uri": "https://localhost:8080/",
          "height": 261
        }
      },
      "source": [
        "res_new_df_daily2.info()"
      ],
      "execution_count": 53,
      "outputs": [
        {
          "output_type": "stream",
          "text": [
            "<class 'pandas.core.frame.DataFrame'>\n",
            "RangeIndex: 1442 entries, 0 to 1441\n",
            "Data columns (total 8 columns):\n",
            " #   Column  Non-Null Count  Dtype         \n",
            "---  ------  --------------  -----         \n",
            " 0   ds      1442 non-null   datetime64[ns]\n",
            " 1   y       1442 non-null   float64       \n",
            " 2   add1    1442 non-null   float64       \n",
            " 3   add2    1442 non-null   float64       \n",
            " 4   add3    1442 non-null   float64       \n",
            " 5   add4    1442 non-null   float64       \n",
            " 6   add5    1442 non-null   float64       \n",
            " 7   add6    1442 non-null   float64       \n",
            "dtypes: datetime64[ns](1), float64(7)\n",
            "memory usage: 90.2 KB\n"
          ],
          "name": "stdout"
        }
      ]
    },
    {
      "cell_type": "code",
      "metadata": {
        "id": "ZPf9XLPjO8pZ",
        "outputId": "f1f48226-1d06-4f5d-961a-fc68057937e4",
        "colab": {
          "base_uri": "https://localhost:8080/",
          "height": 207
        }
      },
      "source": [
        "# taking the last 365 values to be used as test data\n",
        "test2 = res_new_df_daily2[-365:]\n",
        "print(test2.shape)\n",
        "test2.head()"
      ],
      "execution_count": 54,
      "outputs": [
        {
          "output_type": "stream",
          "text": [
            "(365, 8)\n"
          ],
          "name": "stdout"
        },
        {
          "output_type": "execute_result",
          "data": {
            "text/html": [
              "<div>\n",
              "<style scoped>\n",
              "    .dataframe tbody tr th:only-of-type {\n",
              "        vertical-align: middle;\n",
              "    }\n",
              "\n",
              "    .dataframe tbody tr th {\n",
              "        vertical-align: top;\n",
              "    }\n",
              "\n",
              "    .dataframe thead th {\n",
              "        text-align: right;\n",
              "    }\n",
              "</style>\n",
              "<table border=\"1\" class=\"dataframe\">\n",
              "  <thead>\n",
              "    <tr style=\"text-align: right;\">\n",
              "      <th></th>\n",
              "      <th>ds</th>\n",
              "      <th>y</th>\n",
              "      <th>add1</th>\n",
              "      <th>add2</th>\n",
              "      <th>add3</th>\n",
              "      <th>add4</th>\n",
              "      <th>add5</th>\n",
              "      <th>add6</th>\n",
              "    </tr>\n",
              "  </thead>\n",
              "  <tbody>\n",
              "    <tr>\n",
              "      <th>1077</th>\n",
              "      <td>2009-11-27</td>\n",
              "      <td>1380.026</td>\n",
              "      <td>133.052</td>\n",
              "      <td>348276.70</td>\n",
              "      <td>5704.0</td>\n",
              "      <td>0.0</td>\n",
              "      <td>396.0</td>\n",
              "      <td>11599.0</td>\n",
              "    </tr>\n",
              "    <tr>\n",
              "      <th>1078</th>\n",
              "      <td>2009-11-28</td>\n",
              "      <td>1858.950</td>\n",
              "      <td>225.218</td>\n",
              "      <td>347898.89</td>\n",
              "      <td>7784.8</td>\n",
              "      <td>3199.0</td>\n",
              "      <td>386.0</td>\n",
              "      <td>14350.0</td>\n",
              "    </tr>\n",
              "    <tr>\n",
              "      <th>1079</th>\n",
              "      <td>2009-11-29</td>\n",
              "      <td>1650.962</td>\n",
              "      <td>191.056</td>\n",
              "      <td>350364.56</td>\n",
              "      <td>6878.4</td>\n",
              "      <td>1073.0</td>\n",
              "      <td>3061.0</td>\n",
              "      <td>7828.0</td>\n",
              "    </tr>\n",
              "    <tr>\n",
              "      <th>1080</th>\n",
              "      <td>2009-11-30</td>\n",
              "      <td>1745.190</td>\n",
              "      <td>153.382</td>\n",
              "      <td>351020.60</td>\n",
              "      <td>7232.2</td>\n",
              "      <td>1080.0</td>\n",
              "      <td>361.0</td>\n",
              "      <td>12039.0</td>\n",
              "    </tr>\n",
              "    <tr>\n",
              "      <th>1081</th>\n",
              "      <td>2009-12-01</td>\n",
              "      <td>1756.378</td>\n",
              "      <td>141.874</td>\n",
              "      <td>349391.74</td>\n",
              "      <td>7312.8</td>\n",
              "      <td>0.0</td>\n",
              "      <td>354.0</td>\n",
              "      <td>10821.0</td>\n",
              "    </tr>\n",
              "  </tbody>\n",
              "</table>\n",
              "</div>"
            ],
            "text/plain": [
              "             ds         y     add1       add2    add3    add4    add5     add6\n",
              "1077 2009-11-27  1380.026  133.052  348276.70  5704.0     0.0   396.0  11599.0\n",
              "1078 2009-11-28  1858.950  225.218  347898.89  7784.8  3199.0   386.0  14350.0\n",
              "1079 2009-11-29  1650.962  191.056  350364.56  6878.4  1073.0  3061.0   7828.0\n",
              "1080 2009-11-30  1745.190  153.382  351020.60  7232.2  1080.0   361.0  12039.0\n",
              "1081 2009-12-01  1756.378  141.874  349391.74  7312.8     0.0   354.0  10821.0"
            ]
          },
          "metadata": {
            "tags": []
          },
          "execution_count": 54
        }
      ]
    },
    {
      "cell_type": "code",
      "metadata": {
        "id": "-UmTvNuXPLdY",
        "outputId": "dd19c7a4-0b7b-4366-afe3-6cef8f008537",
        "colab": {
          "base_uri": "https://localhost:8080/",
          "height": 207
        }
      },
      "source": [
        "# taking the remaining values to be used for the training data\n",
        "train2 = res_new_df_daily2[:-365]\n",
        "print(train2.shape)\n",
        "train2.head()"
      ],
      "execution_count": 55,
      "outputs": [
        {
          "output_type": "stream",
          "text": [
            "(1077, 8)\n"
          ],
          "name": "stdout"
        },
        {
          "output_type": "execute_result",
          "data": {
            "text/html": [
              "<div>\n",
              "<style scoped>\n",
              "    .dataframe tbody tr th:only-of-type {\n",
              "        vertical-align: middle;\n",
              "    }\n",
              "\n",
              "    .dataframe tbody tr th {\n",
              "        vertical-align: top;\n",
              "    }\n",
              "\n",
              "    .dataframe thead th {\n",
              "        text-align: right;\n",
              "    }\n",
              "</style>\n",
              "<table border=\"1\" class=\"dataframe\">\n",
              "  <thead>\n",
              "    <tr style=\"text-align: right;\">\n",
              "      <th></th>\n",
              "      <th>ds</th>\n",
              "      <th>y</th>\n",
              "      <th>add1</th>\n",
              "      <th>add2</th>\n",
              "      <th>add3</th>\n",
              "      <th>add4</th>\n",
              "      <th>add5</th>\n",
              "      <th>add6</th>\n",
              "    </tr>\n",
              "  </thead>\n",
              "  <tbody>\n",
              "    <tr>\n",
              "      <th>0</th>\n",
              "      <td>2006-12-16</td>\n",
              "      <td>1209.176</td>\n",
              "      <td>34.922</td>\n",
              "      <td>93552.53</td>\n",
              "      <td>5180.8</td>\n",
              "      <td>0.0</td>\n",
              "      <td>546.0</td>\n",
              "      <td>4926.0</td>\n",
              "    </tr>\n",
              "    <tr>\n",
              "      <th>1</th>\n",
              "      <td>2006-12-17</td>\n",
              "      <td>3390.460</td>\n",
              "      <td>226.006</td>\n",
              "      <td>345725.32</td>\n",
              "      <td>14398.6</td>\n",
              "      <td>2033.0</td>\n",
              "      <td>4187.0</td>\n",
              "      <td>13341.0</td>\n",
              "    </tr>\n",
              "    <tr>\n",
              "      <th>2</th>\n",
              "      <td>2006-12-18</td>\n",
              "      <td>2203.826</td>\n",
              "      <td>161.792</td>\n",
              "      <td>347373.64</td>\n",
              "      <td>9247.2</td>\n",
              "      <td>1063.0</td>\n",
              "      <td>2621.0</td>\n",
              "      <td>14018.0</td>\n",
              "    </tr>\n",
              "    <tr>\n",
              "      <th>3</th>\n",
              "      <td>2006-12-19</td>\n",
              "      <td>1666.194</td>\n",
              "      <td>150.942</td>\n",
              "      <td>348479.01</td>\n",
              "      <td>7094.0</td>\n",
              "      <td>839.0</td>\n",
              "      <td>7602.0</td>\n",
              "      <td>6197.0</td>\n",
              "    </tr>\n",
              "    <tr>\n",
              "      <th>4</th>\n",
              "      <td>2006-12-20</td>\n",
              "      <td>2225.748</td>\n",
              "      <td>160.998</td>\n",
              "      <td>348923.61</td>\n",
              "      <td>9313.0</td>\n",
              "      <td>0.0</td>\n",
              "      <td>2648.0</td>\n",
              "      <td>14063.0</td>\n",
              "    </tr>\n",
              "  </tbody>\n",
              "</table>\n",
              "</div>"
            ],
            "text/plain": [
              "          ds         y     add1       add2     add3    add4    add5     add6\n",
              "0 2006-12-16  1209.176   34.922   93552.53   5180.8     0.0   546.0   4926.0\n",
              "1 2006-12-17  3390.460  226.006  345725.32  14398.6  2033.0  4187.0  13341.0\n",
              "2 2006-12-18  2203.826  161.792  347373.64   9247.2  1063.0  2621.0  14018.0\n",
              "3 2006-12-19  1666.194  150.942  348479.01   7094.0   839.0  7602.0   6197.0\n",
              "4 2006-12-20  2225.748  160.998  348923.61   9313.0     0.0  2648.0  14063.0"
            ]
          },
          "metadata": {
            "tags": []
          },
          "execution_count": 55
        }
      ]
    },
    {
      "cell_type": "code",
      "metadata": {
        "id": "r0sUhxexjMnf"
      },
      "source": [
        "# confirming the length of the train data equals the length of the overall data minus 365 days\n",
        "assert len(train2) == (len(new_df_daily)-365)"
      ],
      "execution_count": 56,
      "outputs": []
    },
    {
      "cell_type": "code",
      "metadata": {
        "id": "IjMKYItyPh-1"
      },
      "source": [
        "# creating the model \n",
        "model2 = Prophet()"
      ],
      "execution_count": 57,
      "outputs": []
    },
    {
      "cell_type": "code",
      "metadata": {
        "id": "Bqcq7i0fQSoT",
        "outputId": "003ab3e4-dd1b-49aa-eca4-c2eba4f67e92",
        "colab": {
          "base_uri": "https://localhost:8080/",
          "height": 50
        }
      },
      "source": [
        "# adding reressor for all the independent variables\n",
        "model2.add_regressor('add1')\n",
        "model2.add_regressor('add2')\n",
        "model2.add_regressor('add3')\n",
        "model2.add_regressor('add4')\n",
        "model2.add_regressor('add5')\n",
        "model2.add_regressor('add6')\n",
        "# fit the model to train data\n",
        "model2.fit(train2)"
      ],
      "execution_count": 58,
      "outputs": [
        {
          "output_type": "stream",
          "text": [
            "INFO:fbprophet:Disabling daily seasonality. Run prophet with daily_seasonality=True to override this.\n"
          ],
          "name": "stderr"
        },
        {
          "output_type": "execute_result",
          "data": {
            "text/plain": [
              "<fbprophet.forecaster.Prophet at 0x7fdaba89bb70>"
            ]
          },
          "metadata": {
            "tags": []
          },
          "execution_count": 58
        }
      ]
    },
    {
      "cell_type": "code",
      "metadata": {
        "id": "SS3PZRwJR_Gn",
        "outputId": "3dfbd0a1-8a66-4c98-e380-6f9a5a9702b8",
        "colab": {
          "base_uri": "https://localhost:8080/",
          "height": 391
        }
      },
      "source": [
        "# predicting for the next 365 days\n",
        "future2 = model2.make_future_dataframe(periods=365, freq='D') \n",
        "future2"
      ],
      "execution_count": 59,
      "outputs": [
        {
          "output_type": "execute_result",
          "data": {
            "text/html": [
              "<div>\n",
              "<style scoped>\n",
              "    .dataframe tbody tr th:only-of-type {\n",
              "        vertical-align: middle;\n",
              "    }\n",
              "\n",
              "    .dataframe tbody tr th {\n",
              "        vertical-align: top;\n",
              "    }\n",
              "\n",
              "    .dataframe thead th {\n",
              "        text-align: right;\n",
              "    }\n",
              "</style>\n",
              "<table border=\"1\" class=\"dataframe\">\n",
              "  <thead>\n",
              "    <tr style=\"text-align: right;\">\n",
              "      <th></th>\n",
              "      <th>ds</th>\n",
              "    </tr>\n",
              "  </thead>\n",
              "  <tbody>\n",
              "    <tr>\n",
              "      <th>0</th>\n",
              "      <td>2006-12-16</td>\n",
              "    </tr>\n",
              "    <tr>\n",
              "      <th>1</th>\n",
              "      <td>2006-12-17</td>\n",
              "    </tr>\n",
              "    <tr>\n",
              "      <th>2</th>\n",
              "      <td>2006-12-18</td>\n",
              "    </tr>\n",
              "    <tr>\n",
              "      <th>3</th>\n",
              "      <td>2006-12-19</td>\n",
              "    </tr>\n",
              "    <tr>\n",
              "      <th>4</th>\n",
              "      <td>2006-12-20</td>\n",
              "    </tr>\n",
              "    <tr>\n",
              "      <th>...</th>\n",
              "      <td>...</td>\n",
              "    </tr>\n",
              "    <tr>\n",
              "      <th>1437</th>\n",
              "      <td>2010-11-22</td>\n",
              "    </tr>\n",
              "    <tr>\n",
              "      <th>1438</th>\n",
              "      <td>2010-11-23</td>\n",
              "    </tr>\n",
              "    <tr>\n",
              "      <th>1439</th>\n",
              "      <td>2010-11-24</td>\n",
              "    </tr>\n",
              "    <tr>\n",
              "      <th>1440</th>\n",
              "      <td>2010-11-25</td>\n",
              "    </tr>\n",
              "    <tr>\n",
              "      <th>1441</th>\n",
              "      <td>2010-11-26</td>\n",
              "    </tr>\n",
              "  </tbody>\n",
              "</table>\n",
              "<p>1442 rows × 1 columns</p>\n",
              "</div>"
            ],
            "text/plain": [
              "             ds\n",
              "0    2006-12-16\n",
              "1    2006-12-17\n",
              "2    2006-12-18\n",
              "3    2006-12-19\n",
              "4    2006-12-20\n",
              "...         ...\n",
              "1437 2010-11-22\n",
              "1438 2010-11-23\n",
              "1439 2010-11-24\n",
              "1440 2010-11-25\n",
              "1441 2010-11-26\n",
              "\n",
              "[1442 rows x 1 columns]"
            ]
          },
          "metadata": {
            "tags": []
          },
          "execution_count": 59
        }
      ]
    },
    {
      "cell_type": "code",
      "metadata": {
        "id": "yCAr2yQuS9cJ"
      },
      "source": [
        "# adding the other 6 independent variables to the future dataframe before making predictions\n",
        "future2['add1'] = res_new_df_daily2['add1']\n",
        "future2['add2'] = res_new_df_daily2['add2']\n",
        "future2['add3'] = res_new_df_daily2['add3']\n",
        "future2['add4'] = res_new_df_daily2['add4']\n",
        "future2['add5'] = res_new_df_daily2['add5']\n",
        "future2['add6'] = res_new_df_daily2['add6']"
      ],
      "execution_count": 60,
      "outputs": []
    },
    {
      "cell_type": "code",
      "metadata": {
        "id": "9HSGBm1eShh-",
        "outputId": "1944b045-3b74-4d8f-ab43-c4ec099f25d9",
        "colab": {
          "base_uri": "https://localhost:8080/",
          "height": 292
        }
      },
      "source": [
        "# making predictions\n",
        "forecast2 = model2.predict(future2) \n",
        "forecast2.head()"
      ],
      "execution_count": 61,
      "outputs": [
        {
          "output_type": "execute_result",
          "data": {
            "text/html": [
              "<div>\n",
              "<style scoped>\n",
              "    .dataframe tbody tr th:only-of-type {\n",
              "        vertical-align: middle;\n",
              "    }\n",
              "\n",
              "    .dataframe tbody tr th {\n",
              "        vertical-align: top;\n",
              "    }\n",
              "\n",
              "    .dataframe thead th {\n",
              "        text-align: right;\n",
              "    }\n",
              "</style>\n",
              "<table border=\"1\" class=\"dataframe\">\n",
              "  <thead>\n",
              "    <tr style=\"text-align: right;\">\n",
              "      <th></th>\n",
              "      <th>ds</th>\n",
              "      <th>trend</th>\n",
              "      <th>yhat_lower</th>\n",
              "      <th>yhat_upper</th>\n",
              "      <th>trend_lower</th>\n",
              "      <th>trend_upper</th>\n",
              "      <th>add1</th>\n",
              "      <th>add1_lower</th>\n",
              "      <th>add1_upper</th>\n",
              "      <th>add2</th>\n",
              "      <th>add2_lower</th>\n",
              "      <th>add2_upper</th>\n",
              "      <th>add3</th>\n",
              "      <th>add3_lower</th>\n",
              "      <th>add3_upper</th>\n",
              "      <th>add4</th>\n",
              "      <th>add4_lower</th>\n",
              "      <th>add4_upper</th>\n",
              "      <th>add5</th>\n",
              "      <th>add5_lower</th>\n",
              "      <th>add5_upper</th>\n",
              "      <th>add6</th>\n",
              "      <th>add6_lower</th>\n",
              "      <th>add6_upper</th>\n",
              "      <th>additive_terms</th>\n",
              "      <th>additive_terms_lower</th>\n",
              "      <th>additive_terms_upper</th>\n",
              "      <th>extra_regressors_additive</th>\n",
              "      <th>extra_regressors_additive_lower</th>\n",
              "      <th>extra_regressors_additive_upper</th>\n",
              "      <th>weekly</th>\n",
              "      <th>weekly_lower</th>\n",
              "      <th>weekly_upper</th>\n",
              "      <th>yearly</th>\n",
              "      <th>yearly_lower</th>\n",
              "      <th>yearly_upper</th>\n",
              "      <th>multiplicative_terms</th>\n",
              "      <th>multiplicative_terms_lower</th>\n",
              "      <th>multiplicative_terms_upper</th>\n",
              "      <th>yhat</th>\n",
              "    </tr>\n",
              "  </thead>\n",
              "  <tbody>\n",
              "    <tr>\n",
              "      <th>0</th>\n",
              "      <td>2006-12-16</td>\n",
              "      <td>1566.208205</td>\n",
              "      <td>1158.954578</td>\n",
              "      <td>1190.193394</td>\n",
              "      <td>1566.208205</td>\n",
              "      <td>1566.208205</td>\n",
              "      <td>25.033001</td>\n",
              "      <td>25.033001</td>\n",
              "      <td>25.033001</td>\n",
              "      <td>-72.763302</td>\n",
              "      <td>-72.763302</td>\n",
              "      <td>-72.763302</td>\n",
              "      <td>-356.972861</td>\n",
              "      <td>-356.972861</td>\n",
              "      <td>-356.972861</td>\n",
              "      <td>2.196835</td>\n",
              "      <td>2.196835</td>\n",
              "      <td>2.196835</td>\n",
              "      <td>0.742868</td>\n",
              "      <td>0.742868</td>\n",
              "      <td>0.742868</td>\n",
              "      <td>-5.557483</td>\n",
              "      <td>-5.557483</td>\n",
              "      <td>-5.557483</td>\n",
              "      <td>-391.553789</td>\n",
              "      <td>-391.553789</td>\n",
              "      <td>-391.553789</td>\n",
              "      <td>-407.320943</td>\n",
              "      <td>-407.320943</td>\n",
              "      <td>-407.320943</td>\n",
              "      <td>1.408596</td>\n",
              "      <td>1.408596</td>\n",
              "      <td>1.408596</td>\n",
              "      <td>14.358558</td>\n",
              "      <td>14.358558</td>\n",
              "      <td>14.358558</td>\n",
              "      <td>0.0</td>\n",
              "      <td>0.0</td>\n",
              "      <td>0.0</td>\n",
              "      <td>1174.654416</td>\n",
              "    </tr>\n",
              "    <tr>\n",
              "      <th>1</th>\n",
              "      <td>2006-12-17</td>\n",
              "      <td>1566.143627</td>\n",
              "      <td>3401.338840</td>\n",
              "      <td>3431.745605</td>\n",
              "      <td>1566.143627</td>\n",
              "      <td>1566.143627</td>\n",
              "      <td>-9.027243</td>\n",
              "      <td>-9.027243</td>\n",
              "      <td>-9.027243</td>\n",
              "      <td>-0.120897</td>\n",
              "      <td>-0.120897</td>\n",
              "      <td>-0.120897</td>\n",
              "      <td>1839.073287</td>\n",
              "      <td>1839.073287</td>\n",
              "      <td>1839.073287</td>\n",
              "      <td>-0.484864</td>\n",
              "      <td>-0.484864</td>\n",
              "      <td>-0.484864</td>\n",
              "      <td>-1.170809</td>\n",
              "      <td>-1.170809</td>\n",
              "      <td>-1.170809</td>\n",
              "      <td>6.319667</td>\n",
              "      <td>6.319667</td>\n",
              "      <td>6.319667</td>\n",
              "      <td>1849.806679</td>\n",
              "      <td>1849.806679</td>\n",
              "      <td>1849.806679</td>\n",
              "      <td>1834.589141</td>\n",
              "      <td>1834.589141</td>\n",
              "      <td>1834.589141</td>\n",
              "      <td>0.164156</td>\n",
              "      <td>0.164156</td>\n",
              "      <td>0.164156</td>\n",
              "      <td>15.053382</td>\n",
              "      <td>15.053382</td>\n",
              "      <td>15.053382</td>\n",
              "      <td>0.0</td>\n",
              "      <td>0.0</td>\n",
              "      <td>0.0</td>\n",
              "      <td>3415.950306</td>\n",
              "    </tr>\n",
              "    <tr>\n",
              "      <th>2</th>\n",
              "      <td>2006-12-18</td>\n",
              "      <td>1566.079050</td>\n",
              "      <td>2188.257019</td>\n",
              "      <td>2218.960355</td>\n",
              "      <td>1566.079050</td>\n",
              "      <td>1566.079050</td>\n",
              "      <td>2.418741</td>\n",
              "      <td>2.418741</td>\n",
              "      <td>2.418741</td>\n",
              "      <td>0.353928</td>\n",
              "      <td>0.353928</td>\n",
              "      <td>0.353928</td>\n",
              "      <td>611.805162</td>\n",
              "      <td>611.805162</td>\n",
              "      <td>611.805162</td>\n",
              "      <td>0.794648</td>\n",
              "      <td>0.794648</td>\n",
              "      <td>0.794648</td>\n",
              "      <td>-0.347734</td>\n",
              "      <td>-0.347734</td>\n",
              "      <td>-0.347734</td>\n",
              "      <td>7.275203</td>\n",
              "      <td>7.275203</td>\n",
              "      <td>7.275203</td>\n",
              "      <td>637.648383</td>\n",
              "      <td>637.648383</td>\n",
              "      <td>637.648383</td>\n",
              "      <td>622.299948</td>\n",
              "      <td>622.299948</td>\n",
              "      <td>622.299948</td>\n",
              "      <td>-0.338153</td>\n",
              "      <td>-0.338153</td>\n",
              "      <td>-0.338153</td>\n",
              "      <td>15.686588</td>\n",
              "      <td>15.686588</td>\n",
              "      <td>15.686588</td>\n",
              "      <td>0.0</td>\n",
              "      <td>0.0</td>\n",
              "      <td>0.0</td>\n",
              "      <td>2203.727433</td>\n",
              "    </tr>\n",
              "    <tr>\n",
              "      <th>3</th>\n",
              "      <td>2006-12-19</td>\n",
              "      <td>1566.014473</td>\n",
              "      <td>1663.558580</td>\n",
              "      <td>1694.316439</td>\n",
              "      <td>1566.014473</td>\n",
              "      <td>1566.014473</td>\n",
              "      <td>4.352727</td>\n",
              "      <td>4.352727</td>\n",
              "      <td>4.352727</td>\n",
              "      <td>0.672347</td>\n",
              "      <td>0.672347</td>\n",
              "      <td>0.672347</td>\n",
              "      <td>98.827383</td>\n",
              "      <td>98.827383</td>\n",
              "      <td>98.827383</td>\n",
              "      <td>1.090123</td>\n",
              "      <td>1.090123</td>\n",
              "      <td>1.090123</td>\n",
              "      <td>-2.965703</td>\n",
              "      <td>-2.965703</td>\n",
              "      <td>-2.965703</td>\n",
              "      <td>-3.763561</td>\n",
              "      <td>-3.763561</td>\n",
              "      <td>-3.763561</td>\n",
              "      <td>112.790843</td>\n",
              "      <td>112.790843</td>\n",
              "      <td>112.790843</td>\n",
              "      <td>98.213317</td>\n",
              "      <td>98.213317</td>\n",
              "      <td>98.213317</td>\n",
              "      <td>-1.669783</td>\n",
              "      <td>-1.669783</td>\n",
              "      <td>-1.669783</td>\n",
              "      <td>16.247309</td>\n",
              "      <td>16.247309</td>\n",
              "      <td>16.247309</td>\n",
              "      <td>0.0</td>\n",
              "      <td>0.0</td>\n",
              "      <td>0.0</td>\n",
              "      <td>1678.805316</td>\n",
              "    </tr>\n",
              "    <tr>\n",
              "      <th>4</th>\n",
              "      <td>2006-12-20</td>\n",
              "      <td>1565.949895</td>\n",
              "      <td>2207.243378</td>\n",
              "      <td>2240.184313</td>\n",
              "      <td>1565.949895</td>\n",
              "      <td>1565.949895</td>\n",
              "      <td>2.560270</td>\n",
              "      <td>2.560270</td>\n",
              "      <td>2.560270</td>\n",
              "      <td>0.800421</td>\n",
              "      <td>0.800421</td>\n",
              "      <td>0.800421</td>\n",
              "      <td>627.481336</td>\n",
              "      <td>627.481336</td>\n",
              "      <td>627.481336</td>\n",
              "      <td>2.196835</td>\n",
              "      <td>2.196835</td>\n",
              "      <td>2.196835</td>\n",
              "      <td>-0.361925</td>\n",
              "      <td>-0.361925</td>\n",
              "      <td>-0.361925</td>\n",
              "      <td>7.338717</td>\n",
              "      <td>7.338717</td>\n",
              "      <td>7.338717</td>\n",
              "      <td>657.843016</td>\n",
              "      <td>657.843016</td>\n",
              "      <td>657.843016</td>\n",
              "      <td>640.015654</td>\n",
              "      <td>640.015654</td>\n",
              "      <td>640.015654</td>\n",
              "      <td>1.101892</td>\n",
              "      <td>1.101892</td>\n",
              "      <td>1.101892</td>\n",
              "      <td>16.725469</td>\n",
              "      <td>16.725469</td>\n",
              "      <td>16.725469</td>\n",
              "      <td>0.0</td>\n",
              "      <td>0.0</td>\n",
              "      <td>0.0</td>\n",
              "      <td>2223.792911</td>\n",
              "    </tr>\n",
              "  </tbody>\n",
              "</table>\n",
              "</div>"
            ],
            "text/plain": [
              "          ds        trend  ...  multiplicative_terms_upper         yhat\n",
              "0 2006-12-16  1566.208205  ...                         0.0  1174.654416\n",
              "1 2006-12-17  1566.143627  ...                         0.0  3415.950306\n",
              "2 2006-12-18  1566.079050  ...                         0.0  2203.727433\n",
              "3 2006-12-19  1566.014473  ...                         0.0  1678.805316\n",
              "4 2006-12-20  1565.949895  ...                         0.0  2223.792911\n",
              "\n",
              "[5 rows x 40 columns]"
            ]
          },
          "metadata": {
            "tags": []
          },
          "execution_count": 61
        }
      ]
    },
    {
      "cell_type": "code",
      "metadata": {
        "id": "HO9YjNvtSbDF",
        "outputId": "4929e9b5-2a43-4a62-872c-e527a595e158",
        "colab": {
          "base_uri": "https://localhost:8080/",
          "height": 391
        }
      },
      "source": [
        "# viewing specific columns\n",
        "forecast2[['ds', 'yhat', 'yhat_lower', 'yhat_upper', 'trend', 'trend_lower', 'trend_upper']]"
      ],
      "execution_count": 62,
      "outputs": [
        {
          "output_type": "execute_result",
          "data": {
            "text/html": [
              "<div>\n",
              "<style scoped>\n",
              "    .dataframe tbody tr th:only-of-type {\n",
              "        vertical-align: middle;\n",
              "    }\n",
              "\n",
              "    .dataframe tbody tr th {\n",
              "        vertical-align: top;\n",
              "    }\n",
              "\n",
              "    .dataframe thead th {\n",
              "        text-align: right;\n",
              "    }\n",
              "</style>\n",
              "<table border=\"1\" class=\"dataframe\">\n",
              "  <thead>\n",
              "    <tr style=\"text-align: right;\">\n",
              "      <th></th>\n",
              "      <th>ds</th>\n",
              "      <th>yhat</th>\n",
              "      <th>yhat_lower</th>\n",
              "      <th>yhat_upper</th>\n",
              "      <th>trend</th>\n",
              "      <th>trend_lower</th>\n",
              "      <th>trend_upper</th>\n",
              "    </tr>\n",
              "  </thead>\n",
              "  <tbody>\n",
              "    <tr>\n",
              "      <th>0</th>\n",
              "      <td>2006-12-16</td>\n",
              "      <td>1174.654416</td>\n",
              "      <td>1158.954578</td>\n",
              "      <td>1190.193394</td>\n",
              "      <td>1566.208205</td>\n",
              "      <td>1566.208205</td>\n",
              "      <td>1566.208205</td>\n",
              "    </tr>\n",
              "    <tr>\n",
              "      <th>1</th>\n",
              "      <td>2006-12-17</td>\n",
              "      <td>3415.950306</td>\n",
              "      <td>3401.338840</td>\n",
              "      <td>3431.745605</td>\n",
              "      <td>1566.143627</td>\n",
              "      <td>1566.143627</td>\n",
              "      <td>1566.143627</td>\n",
              "    </tr>\n",
              "    <tr>\n",
              "      <th>2</th>\n",
              "      <td>2006-12-18</td>\n",
              "      <td>2203.727433</td>\n",
              "      <td>2188.257019</td>\n",
              "      <td>2218.960355</td>\n",
              "      <td>1566.079050</td>\n",
              "      <td>1566.079050</td>\n",
              "      <td>1566.079050</td>\n",
              "    </tr>\n",
              "    <tr>\n",
              "      <th>3</th>\n",
              "      <td>2006-12-19</td>\n",
              "      <td>1678.805316</td>\n",
              "      <td>1663.558580</td>\n",
              "      <td>1694.316439</td>\n",
              "      <td>1566.014473</td>\n",
              "      <td>1566.014473</td>\n",
              "      <td>1566.014473</td>\n",
              "    </tr>\n",
              "    <tr>\n",
              "      <th>4</th>\n",
              "      <td>2006-12-20</td>\n",
              "      <td>2223.792911</td>\n",
              "      <td>2207.243378</td>\n",
              "      <td>2240.184313</td>\n",
              "      <td>1565.949895</td>\n",
              "      <td>1565.949895</td>\n",
              "      <td>1565.949895</td>\n",
              "    </tr>\n",
              "    <tr>\n",
              "      <th>...</th>\n",
              "      <td>...</td>\n",
              "      <td>...</td>\n",
              "      <td>...</td>\n",
              "      <td>...</td>\n",
              "      <td>...</td>\n",
              "      <td>...</td>\n",
              "      <td>...</td>\n",
              "    </tr>\n",
              "    <tr>\n",
              "      <th>1437</th>\n",
              "      <td>2010-11-22</td>\n",
              "      <td>2119.118426</td>\n",
              "      <td>1821.516093</td>\n",
              "      <td>2416.511276</td>\n",
              "      <td>1643.329613</td>\n",
              "      <td>1347.298215</td>\n",
              "      <td>1942.077693</td>\n",
              "    </tr>\n",
              "    <tr>\n",
              "      <th>1438</th>\n",
              "      <td>2010-11-23</td>\n",
              "      <td>1660.812690</td>\n",
              "      <td>1367.630639</td>\n",
              "      <td>1955.097343</td>\n",
              "      <td>1643.459900</td>\n",
              "      <td>1346.124537</td>\n",
              "      <td>1944.254886</td>\n",
              "    </tr>\n",
              "    <tr>\n",
              "      <th>1439</th>\n",
              "      <td>2010-11-24</td>\n",
              "      <td>1868.206808</td>\n",
              "      <td>1574.425222</td>\n",
              "      <td>2163.117208</td>\n",
              "      <td>1643.590188</td>\n",
              "      <td>1345.209499</td>\n",
              "      <td>1945.985981</td>\n",
              "    </tr>\n",
              "    <tr>\n",
              "      <th>1440</th>\n",
              "      <td>2010-11-25</td>\n",
              "      <td>1491.116158</td>\n",
              "      <td>1195.419113</td>\n",
              "      <td>1788.195862</td>\n",
              "      <td>1643.720475</td>\n",
              "      <td>1344.545754</td>\n",
              "      <td>1947.049302</td>\n",
              "    </tr>\n",
              "    <tr>\n",
              "      <th>1441</th>\n",
              "      <td>2010-11-26</td>\n",
              "      <td>1546.249092</td>\n",
              "      <td>1250.446357</td>\n",
              "      <td>1848.274749</td>\n",
              "      <td>1643.850763</td>\n",
              "      <td>1343.997993</td>\n",
              "      <td>1947.683257</td>\n",
              "    </tr>\n",
              "  </tbody>\n",
              "</table>\n",
              "<p>1442 rows × 7 columns</p>\n",
              "</div>"
            ],
            "text/plain": [
              "             ds         yhat  ...  trend_lower  trend_upper\n",
              "0    2006-12-16  1174.654416  ...  1566.208205  1566.208205\n",
              "1    2006-12-17  3415.950306  ...  1566.143627  1566.143627\n",
              "2    2006-12-18  2203.727433  ...  1566.079050  1566.079050\n",
              "3    2006-12-19  1678.805316  ...  1566.014473  1566.014473\n",
              "4    2006-12-20  2223.792911  ...  1565.949895  1565.949895\n",
              "...         ...          ...  ...          ...          ...\n",
              "1437 2010-11-22  2119.118426  ...  1347.298215  1942.077693\n",
              "1438 2010-11-23  1660.812690  ...  1346.124537  1944.254886\n",
              "1439 2010-11-24  1868.206808  ...  1345.209499  1945.985981\n",
              "1440 2010-11-25  1491.116158  ...  1344.545754  1947.049302\n",
              "1441 2010-11-26  1546.249092  ...  1343.997993  1947.683257\n",
              "\n",
              "[1442 rows x 7 columns]"
            ]
          },
          "metadata": {
            "tags": []
          },
          "execution_count": 62
        }
      ]
    },
    {
      "cell_type": "code",
      "metadata": {
        "id": "u2sWra_8URVM"
      },
      "source": [
        "test2_val = test2['y'] # true y values\n",
        "pred_val2 = forecast2['yhat'][-365:] # predicted y values"
      ],
      "execution_count": 63,
      "outputs": []
    },
    {
      "cell_type": "code",
      "metadata": {
        "id": "1mJp3GDQUrip",
        "outputId": "7fbe7a10-5bc2-4664-a5ff-1244f0f29cff",
        "colab": {
          "base_uri": "https://localhost:8080/",
          "height": 33
        }
      },
      "source": [
        "# mape metric test on multivariate data\n",
        "prediction2 = mape(test2_val, pred_val2)\n",
        "print('MAPE prediction: ', round(prediction2, 2)) # rounds the mape value to 2 dp"
      ],
      "execution_count": 64,
      "outputs": [
        {
          "output_type": "stream",
          "text": [
            "MAPE prediction:  2.83\n"
          ],
          "name": "stdout"
        }
      ]
    },
    {
      "cell_type": "code",
      "metadata": {
        "id": "11teQYP1V0X5",
        "outputId": "e30cdbda-4e2b-4c39-91ed-de350549b628",
        "colab": {
          "base_uri": "https://localhost:8080/",
          "height": 33
        }
      },
      "source": [
        "# getting the mse metric \n",
        "pred2_mse = mean_squared_error(test2_val, pred_val2)\n",
        "# taking the sqrt of the mse to get the rmse\n",
        "pred2_rmse = np.sqrt(pred2_mse)\n",
        "print('RMSE prediction: ', round(pred2_rmse, 2))"
      ],
      "execution_count": 65,
      "outputs": [
        {
          "output_type": "stream",
          "text": [
            "RMSE prediction:  41.93\n"
          ],
          "name": "stdout"
        }
      ]
    },
    {
      "cell_type": "code",
      "metadata": {
        "id": "EqDSriNQWcoS",
        "outputId": "532009a4-3ce8-41ab-8dbf-3d05e1a95535",
        "colab": {
          "base_uri": "https://localhost:8080/",
          "height": 33
        }
      },
      "source": [
        "# using the custom rmse function to get the rmse \n",
        "new_pred_rmse2 = rmse(test2_val, pred_val2)\n",
        "round(new_pred_rmse2, 2) "
      ],
      "execution_count": 66,
      "outputs": [
        {
          "output_type": "execute_result",
          "data": {
            "text/plain": [
              "41.93"
            ]
          },
          "metadata": {
            "tags": []
          },
          "execution_count": 66
        }
      ]
    },
    {
      "cell_type": "code",
      "metadata": {
        "id": "3Oy8_kO3W1Uj",
        "outputId": "48d46143-989d-45c3-f6ca-9137ac7340bc",
        "colab": {
          "base_uri": "https://localhost:8080/",
          "height": 872
        }
      },
      "source": [
        "# plotting the components\n",
        "model2.plot_components(forecast2)\n",
        "plt.show()"
      ],
      "execution_count": 67,
      "outputs": [
        {
          "output_type": "display_data",
          "data": {
            "image/png": "[encoded data removed]",
            "text/plain": [
              "<Figure size 648x864 with 4 Axes>"
            ]
          },
          "metadata": {
            "tags": []
          }
        }
      ]
    },
    {
      "cell_type": "markdown",
      "metadata": {
        "id": "YgzUXu1Ykior"
      },
      "source": [
        "###As seen in the component plot above, Tuesday has the least value for daily seasonality"
      ]
    },
    {
      "cell_type": "code",
      "metadata": {
        "id": "VLhBUGHBQpM4"
      },
      "source": [
        ""
      ],
      "execution_count": null,
      "outputs": []
    }
  ]
}