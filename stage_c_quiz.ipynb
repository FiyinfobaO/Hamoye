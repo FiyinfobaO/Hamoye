{
  "nbformat": 4,
  "nbformat_minor": 0,
  "metadata": {
    "colab": {
      "name": "stage c quiz.ipynb",
      "provenance": [],
      "collapsed_sections": [],
      "include_colab_link": true
    },
    "kernelspec": {
      "name": "python3",
      "display_name": "Python 3"
    }
  },
  "cells": [
    {
      "cell_type": "markdown",
      "metadata": {
        "id": "view-in-github",
        "colab_type": "text"
      },
      "source": [
        "<a href=\"https://colab.research.google.com/github/FiyinfobaO/Hamoye/blob/master/stage_c_quiz.ipynb\" target=\"_parent\"><img src=\"https://colab.research.google.com/assets/colab-badge.svg\" alt=\"Open In Colab\"/></a>"
      ]
    },
    {
      "cell_type": "code",
      "metadata": {
        "id": "-IcCyhqe9TBw",
        "colab_type": "code",
        "colab": {
          "base_uri": "https://localhost:8080/",
          "height": 71
        },
        "outputId": "e9351b43-ed4b-49be-c819-c3a7e61694f1"
      },
      "source": [
        "# importing libraries\n",
        "import numpy as np\n",
        "import pandas as pd\n",
        "import seaborn as sns\n",
        "import matplotlib.pyplot as plt"
      ],
      "execution_count": 1,
      "outputs": [
        {
          "output_type": "stream",
          "text": [
            "/usr/local/lib/python3.6/dist-packages/statsmodels/tools/_testing.py:19: FutureWarning: pandas.util.testing is deprecated. Use the functions in the public API at pandas.testing instead.\n",
            "  import pandas.util.testing as tm\n"
          ],
          "name": "stderr"
        }
      ]
    },
    {
      "cell_type": "code",
      "metadata": {
        "id": "b3KEYCDdCcjj",
        "colab_type": "code",
        "colab": {
          "base_uri": "https://localhost:8080/",
          "height": 238
        },
        "outputId": "e45a3612-95f2-4929-b386-95b1beb71f40"
      },
      "source": [
        "url = 'https://archive.ics.uci.edu/ml/machine-learning-databases/00471/Data_for_UCI_named.csv'\n",
        "df = pd.read_csv(url)\n",
        "print(df.head(10))"
      ],
      "execution_count": 2,
      "outputs": [
        {
          "output_type": "stream",
          "text": [
            "       tau1      tau2      tau3  ...        g4      stab     stabf\n",
            "0  2.959060  3.079885  8.381025  ...  0.958034  0.055347  unstable\n",
            "1  9.304097  4.902524  3.047541  ...  0.781760 -0.005957    stable\n",
            "2  8.971707  8.848428  3.046479  ...  0.109853  0.003471  unstable\n",
            "3  0.716415  7.669600  4.486641  ...  0.362718  0.028871  unstable\n",
            "4  3.134112  7.608772  4.943759  ...  0.820923  0.049860  unstable\n",
            "5  6.999209  9.109247  3.784066  ...  0.469931 -0.017385    stable\n",
            "6  6.710166  3.765204  6.929314  ...  0.376630  0.005954  unstable\n",
            "7  6.953512  1.379125  5.719400  ...  0.380544  0.016634  unstable\n",
            "8  4.689852  4.007747  1.478573  ...  0.482439 -0.038677    stable\n",
            "9  9.841496  1.413822  9.769856  ...  0.116263  0.012383  unstable\n",
            "\n",
            "[10 rows x 14 columns]\n"
          ],
          "name": "stdout"
        }
      ]
    },
    {
      "cell_type": "code",
      "metadata": {
        "id": "6lAXwMPMCmt2",
        "colab_type": "code",
        "colab": {
          "base_uri": "https://localhost:8080/",
          "height": 374
        },
        "outputId": "f8818cb3-8f16-4d85-dff3-b2f3f6b0ceb8"
      },
      "source": [
        "df.info()"
      ],
      "execution_count": 3,
      "outputs": [
        {
          "output_type": "stream",
          "text": [
            "<class 'pandas.core.frame.DataFrame'>\n",
            "RangeIndex: 10000 entries, 0 to 9999\n",
            "Data columns (total 14 columns):\n",
            " #   Column  Non-Null Count  Dtype  \n",
            "---  ------  --------------  -----  \n",
            " 0   tau1    10000 non-null  float64\n",
            " 1   tau2    10000 non-null  float64\n",
            " 2   tau3    10000 non-null  float64\n",
            " 3   tau4    10000 non-null  float64\n",
            " 4   p1      10000 non-null  float64\n",
            " 5   p2      10000 non-null  float64\n",
            " 6   p3      10000 non-null  float64\n",
            " 7   p4      10000 non-null  float64\n",
            " 8   g1      10000 non-null  float64\n",
            " 9   g2      10000 non-null  float64\n",
            " 10  g3      10000 non-null  float64\n",
            " 11  g4      10000 non-null  float64\n",
            " 12  stab    10000 non-null  float64\n",
            " 13  stabf   10000 non-null  object \n",
            "dtypes: float64(13), object(1)\n",
            "memory usage: 1.1+ MB\n"
          ],
          "name": "stdout"
        }
      ]
    },
    {
      "cell_type": "code",
      "metadata": {
        "id": "Pz2o_MiXIfTS",
        "colab_type": "code",
        "colab": {
          "base_uri": "https://localhost:8080/",
          "height": 272
        },
        "outputId": "878deed6-adcc-42c7-c915-b33dc2622e3d"
      },
      "source": [
        "# to see no of null values\n",
        "df.isnull().sum()"
      ],
      "execution_count": 4,
      "outputs": [
        {
          "output_type": "execute_result",
          "data": {
            "text/plain": [
              "tau1     0\n",
              "tau2     0\n",
              "tau3     0\n",
              "tau4     0\n",
              "p1       0\n",
              "p2       0\n",
              "p3       0\n",
              "p4       0\n",
              "g1       0\n",
              "g2       0\n",
              "g3       0\n",
              "g4       0\n",
              "stab     0\n",
              "stabf    0\n",
              "dtype: int64"
            ]
          },
          "metadata": {
            "tags": []
          },
          "execution_count": 4
        }
      ]
    },
    {
      "cell_type": "code",
      "metadata": {
        "id": "IuwmHEnfJCEZ",
        "colab_type": "code",
        "colab": {
          "base_uri": "https://localhost:8080/",
          "height": 204
        },
        "outputId": "e4dea474-e1ba-43a3-f903-8ba96133e383"
      },
      "source": [
        "# dropping the stab column\n",
        "df = df.drop('stab', axis=1)\n",
        "df.head()"
      ],
      "execution_count": 5,
      "outputs": [
        {
          "output_type": "execute_result",
          "data": {
            "text/html": [
              "<div>\n",
              "<style scoped>\n",
              "    .dataframe tbody tr th:only-of-type {\n",
              "        vertical-align: middle;\n",
              "    }\n",
              "\n",
              "    .dataframe tbody tr th {\n",
              "        vertical-align: top;\n",
              "    }\n",
              "\n",
              "    .dataframe thead th {\n",
              "        text-align: right;\n",
              "    }\n",
              "</style>\n",
              "<table border=\"1\" class=\"dataframe\">\n",
              "  <thead>\n",
              "    <tr style=\"text-align: right;\">\n",
              "      <th></th>\n",
              "      <th>tau1</th>\n",
              "      <th>tau2</th>\n",
              "      <th>tau3</th>\n",
              "      <th>tau4</th>\n",
              "      <th>p1</th>\n",
              "      <th>p2</th>\n",
              "      <th>p3</th>\n",
              "      <th>p4</th>\n",
              "      <th>g1</th>\n",
              "      <th>g2</th>\n",
              "      <th>g3</th>\n",
              "      <th>g4</th>\n",
              "      <th>stabf</th>\n",
              "    </tr>\n",
              "  </thead>\n",
              "  <tbody>\n",
              "    <tr>\n",
              "      <th>0</th>\n",
              "      <td>2.959060</td>\n",
              "      <td>3.079885</td>\n",
              "      <td>8.381025</td>\n",
              "      <td>9.780754</td>\n",
              "      <td>3.763085</td>\n",
              "      <td>-0.782604</td>\n",
              "      <td>-1.257395</td>\n",
              "      <td>-1.723086</td>\n",
              "      <td>0.650456</td>\n",
              "      <td>0.859578</td>\n",
              "      <td>0.887445</td>\n",
              "      <td>0.958034</td>\n",
              "      <td>unstable</td>\n",
              "    </tr>\n",
              "    <tr>\n",
              "      <th>1</th>\n",
              "      <td>9.304097</td>\n",
              "      <td>4.902524</td>\n",
              "      <td>3.047541</td>\n",
              "      <td>1.369357</td>\n",
              "      <td>5.067812</td>\n",
              "      <td>-1.940058</td>\n",
              "      <td>-1.872742</td>\n",
              "      <td>-1.255012</td>\n",
              "      <td>0.413441</td>\n",
              "      <td>0.862414</td>\n",
              "      <td>0.562139</td>\n",
              "      <td>0.781760</td>\n",
              "      <td>stable</td>\n",
              "    </tr>\n",
              "    <tr>\n",
              "      <th>2</th>\n",
              "      <td>8.971707</td>\n",
              "      <td>8.848428</td>\n",
              "      <td>3.046479</td>\n",
              "      <td>1.214518</td>\n",
              "      <td>3.405158</td>\n",
              "      <td>-1.207456</td>\n",
              "      <td>-1.277210</td>\n",
              "      <td>-0.920492</td>\n",
              "      <td>0.163041</td>\n",
              "      <td>0.766689</td>\n",
              "      <td>0.839444</td>\n",
              "      <td>0.109853</td>\n",
              "      <td>unstable</td>\n",
              "    </tr>\n",
              "    <tr>\n",
              "      <th>3</th>\n",
              "      <td>0.716415</td>\n",
              "      <td>7.669600</td>\n",
              "      <td>4.486641</td>\n",
              "      <td>2.340563</td>\n",
              "      <td>3.963791</td>\n",
              "      <td>-1.027473</td>\n",
              "      <td>-1.938944</td>\n",
              "      <td>-0.997374</td>\n",
              "      <td>0.446209</td>\n",
              "      <td>0.976744</td>\n",
              "      <td>0.929381</td>\n",
              "      <td>0.362718</td>\n",
              "      <td>unstable</td>\n",
              "    </tr>\n",
              "    <tr>\n",
              "      <th>4</th>\n",
              "      <td>3.134112</td>\n",
              "      <td>7.608772</td>\n",
              "      <td>4.943759</td>\n",
              "      <td>9.857573</td>\n",
              "      <td>3.525811</td>\n",
              "      <td>-1.125531</td>\n",
              "      <td>-1.845975</td>\n",
              "      <td>-0.554305</td>\n",
              "      <td>0.797110</td>\n",
              "      <td>0.455450</td>\n",
              "      <td>0.656947</td>\n",
              "      <td>0.820923</td>\n",
              "      <td>unstable</td>\n",
              "    </tr>\n",
              "  </tbody>\n",
              "</table>\n",
              "</div>"
            ],
            "text/plain": [
              "       tau1      tau2      tau3  ...        g3        g4     stabf\n",
              "0  2.959060  3.079885  8.381025  ...  0.887445  0.958034  unstable\n",
              "1  9.304097  4.902524  3.047541  ...  0.562139  0.781760    stable\n",
              "2  8.971707  8.848428  3.046479  ...  0.839444  0.109853  unstable\n",
              "3  0.716415  7.669600  4.486641  ...  0.929381  0.362718  unstable\n",
              "4  3.134112  7.608772  4.943759  ...  0.656947  0.820923  unstable\n",
              "\n",
              "[5 rows x 13 columns]"
            ]
          },
          "metadata": {
            "tags": []
          },
          "execution_count": 5
        }
      ]
    },
    {
      "cell_type": "code",
      "metadata": {
        "id": "AMhwTyvuJZ6k",
        "colab_type": "code",
        "colab": {
          "base_uri": "https://localhost:8080/",
          "height": 68
        },
        "outputId": "62ee86bc-4408-49c5-87f0-8ae6c4f5268d"
      },
      "source": [
        "#checking distribution of target variable again\n",
        "df['stabf'].value_counts()"
      ],
      "execution_count": 6,
      "outputs": [
        {
          "output_type": "execute_result",
          "data": {
            "text/plain": [
              "unstable    6380\n",
              "stable      3620\n",
              "Name: stabf, dtype: int64"
            ]
          },
          "metadata": {
            "tags": []
          },
          "execution_count": 6
        }
      ]
    },
    {
      "cell_type": "code",
      "metadata": {
        "id": "aTG2b9ARKzkc",
        "colab_type": "code",
        "colab": {}
      },
      "source": [
        "# assigning features, X\n",
        "X = df.drop(columns='stabf').values\n",
        "# assigning label/target varaible\n",
        "y = df[['stabf']].values"
      ],
      "execution_count": 7,
      "outputs": []
    },
    {
      "cell_type": "code",
      "metadata": {
        "id": "xgjTwHgNJ4MN",
        "colab_type": "code",
        "colab": {
          "base_uri": "https://localhost:8080/",
          "height": 51
        },
        "outputId": "f641cd6b-8e21-48d8-ccae-cbcd81bbf864"
      },
      "source": [
        "#split the data into training and testing sets\n",
        "from sklearn.model_selection import train_test_split\n",
        "x_train, x_test, y_train, y_test = train_test_split(X, y, test_size=0.2, random_state=1)\n",
        "print('Train set: ', x_train.shape, y_train.shape)\n",
        "print('Test set: ', x_test.shape, y_test.shape)"
      ],
      "execution_count": 8,
      "outputs": [
        {
          "output_type": "stream",
          "text": [
            "Train set:  (8000, 12) (8000, 1)\n",
            "Test set:  (2000, 12) (2000, 1)\n"
          ],
          "name": "stdout"
        }
      ]
    },
    {
      "cell_type": "code",
      "metadata": {
        "id": "Ie3t0e17MVhY",
        "colab_type": "code",
        "colab": {
          "base_uri": "https://localhost:8080/",
          "height": 238
        },
        "outputId": "7717d1b4-5f19-4776-bcae-46f525efbf09"
      },
      "source": [
        "# scaling the dataset\n",
        "from sklearn.preprocessing import StandardScaler\n",
        "sc = StandardScaler()\n",
        "sc.fit_transform(x_train, y_train)\n",
        "sc.transform(x_test)"
      ],
      "execution_count": 9,
      "outputs": [
        {
          "output_type": "execute_result",
          "data": {
            "text/plain": [
              "array([[ 0.59395058, -0.41273345,  1.50392381, ...,  1.1672034 ,\n",
              "        -1.50732963,  1.08472557],\n",
              "       [ 0.2021896 ,  0.37441634, -0.18880047, ..., -0.39566024,\n",
              "         1.41465051,  1.22601069],\n",
              "       [-1.079044  , -0.31374544, -0.88463426, ..., -1.43849538,\n",
              "         0.65182081, -1.6821675 ],\n",
              "       ...,\n",
              "       [ 0.94782488, -1.66372653, -1.65391963, ...,  0.12639128,\n",
              "         0.57344494,  1.31934985],\n",
              "       [-1.1202346 ,  0.19397855, -0.2378051 , ...,  0.79408717,\n",
              "        -1.36232268, -0.80197116],\n",
              "       [-1.37764025,  1.51186671,  0.28265058, ..., -0.91749729,\n",
              "         0.00295027,  1.18902334]])"
            ]
          },
          "metadata": {
            "tags": []
          },
          "execution_count": 9
        }
      ]
    },
    {
      "cell_type": "markdown",
      "metadata": {
        "id": "c6Pg19S2RmrH",
        "colab_type": "text"
      },
      "source": [
        "Model Training & Evaluation\n",
        "\n",
        "\n"
      ]
    },
    {
      "cell_type": "markdown",
      "metadata": {
        "id": "R3g3ZQAyaOpN",
        "colab_type": "text"
      },
      "source": [
        "Using Random Forest"
      ]
    },
    {
      "cell_type": "code",
      "metadata": {
        "id": "UVOf1Ch5RYAN",
        "colab_type": "code",
        "colab": {
          "base_uri": "https://localhost:8080/",
          "height": 71
        },
        "outputId": "33ba11bf-a8e4-4b06-9b8a-c9a574fd2842"
      },
      "source": [
        "# Random Forest\n",
        "from sklearn.ensemble import RandomForestClassifier, ExtraTreesClassifier\n",
        "model_rand = RandomForestClassifier(random_state=1)\n",
        "model_rand.fit(x_train, y_train)\n",
        "pred_rand = model_rand.predict(x_test)"
      ],
      "execution_count": 10,
      "outputs": [
        {
          "output_type": "stream",
          "text": [
            "/usr/local/lib/python3.6/dist-packages/ipykernel_launcher.py:4: DataConversionWarning: A column-vector y was passed when a 1d array was expected. Please change the shape of y to (n_samples,), for example using ravel().\n",
            "  after removing the cwd from sys.path.\n"
          ],
          "name": "stderr"
        }
      ]
    },
    {
      "cell_type": "code",
      "metadata": {
        "id": "oXG7h3-oWXq8",
        "colab_type": "code",
        "colab": {
          "base_uri": "https://localhost:8080/",
          "height": 51
        },
        "outputId": "0d8444e6-b108-4549-acaa-60251dc90d3e"
      },
      "source": [
        "from sklearn.metrics import recall_score, accuracy_score, precision_score, f1_score, confusion_matrix\n",
        "# CONFUSION MATRIX\n",
        "cnf_mat = confusion_matrix(y_test, pred_rand, labels=['stable', 'unstable'])\n",
        "print(cnf_mat) "
      ],
      "execution_count": 11,
      "outputs": [
        {
          "output_type": "stream",
          "text": [
            "[[ 625   87]\n",
            " [  55 1233]]\n"
          ],
          "name": "stdout"
        }
      ]
    },
    {
      "cell_type": "code",
      "metadata": {
        "id": "TmIuUF3Laf1O",
        "colab_type": "code",
        "colab": {
          "base_uri": "https://localhost:8080/",
          "height": 136
        },
        "outputId": "086a64e3-95fd-42e6-95d6-ffedbffad5e1"
      },
      "source": [
        "# metrics\n",
        "print(\"Accuracy score {}\".format(round(accuracy_score(y_test, pred_rand), 4)))\n",
        "print(\"Precision score for 'stable' {}\".format(round(precision_score(y_test, pred_rand, pos_label='stable'), 3)))\n",
        "print(\"Precision score for 'unstable' {}\".format(round(precision_score(y_test, pred_rand, pos_label='unstable'), 3)))\n",
        "print(\"Recall score for 'stable' {}\".format(round(recall_score(y_test, pred_rand, pos_label='stable'), 3)))\n",
        "print(\"Recall score for 'unstable' {}\".format(round(recall_score(y_test, pred_rand, pos_label='unstable'), 3)))\n",
        "print(\"F1 score for 'stable' %.3f\" % (f1_score(y_test, pred_rand, pos_label='stable')))\n",
        "print(\"F1 score for 'unstable' %.3f\" % (f1_score(y_test, pred_rand, pos_label='unstable')))"
      ],
      "execution_count": 12,
      "outputs": [
        {
          "output_type": "stream",
          "text": [
            "Accuracy score 0.929\n",
            "Precision score for 'stable' 0.919\n",
            "Precision score for 'unstable' 0.934\n",
            "Recall score for 'stable' 0.878\n",
            "Recall score for 'unstable' 0.957\n",
            "F1 score for 'stable' 0.898\n",
            "F1 score for 'unstable' 0.946\n"
          ],
          "name": "stdout"
        }
      ]
    },
    {
      "cell_type": "code",
      "metadata": {
        "id": "s44HVA2idaJG",
        "colab_type": "code",
        "colab": {
          "base_uri": "https://localhost:8080/",
          "height": 170
        },
        "outputId": "bb1dee5c-7704-4e92-cbd0-c4a2b7d31bcc"
      },
      "source": [
        "# Classification report\n",
        "from sklearn.metrics import classification_report\n",
        "print(classification_report(y_test, pred_rand))"
      ],
      "execution_count": 13,
      "outputs": [
        {
          "output_type": "stream",
          "text": [
            "              precision    recall  f1-score   support\n",
            "\n",
            "      stable       0.92      0.88      0.90       712\n",
            "    unstable       0.93      0.96      0.95      1288\n",
            "\n",
            "    accuracy                           0.93      2000\n",
            "   macro avg       0.93      0.92      0.92      2000\n",
            "weighted avg       0.93      0.93      0.93      2000\n",
            "\n"
          ],
          "name": "stdout"
        }
      ]
    },
    {
      "cell_type": "markdown",
      "metadata": {
        "id": "_VbOMjxeeI3h",
        "colab_type": "text"
      },
      "source": [
        "Using Extra Trees "
      ]
    },
    {
      "cell_type": "code",
      "metadata": {
        "id": "wJCJwqeMdtcg",
        "colab_type": "code",
        "colab": {
          "base_uri": "https://localhost:8080/",
          "height": 71
        },
        "outputId": "9491206e-1a10-440c-a466-449f2f626093"
      },
      "source": [
        "# Extra Trees Classifier\n",
        "model_ext = ExtraTreesClassifier(random_state=1)\n",
        "model_ext.fit(x_train, y_train)\n",
        "pred_ext = model_ext.predict(x_test)"
      ],
      "execution_count": 14,
      "outputs": [
        {
          "output_type": "stream",
          "text": [
            "/usr/local/lib/python3.6/dist-packages/ipykernel_launcher.py:3: DataConversionWarning: A column-vector y was passed when a 1d array was expected. Please change the shape of y to (n_samples,), for example using ravel().\n",
            "  This is separate from the ipykernel package so we can avoid doing imports until\n"
          ],
          "name": "stderr"
        }
      ]
    },
    {
      "cell_type": "code",
      "metadata": {
        "id": "ZG-jVEj1eh8v",
        "colab_type": "code",
        "colab": {
          "base_uri": "https://localhost:8080/",
          "height": 51
        },
        "outputId": "f4efe9ee-2abe-4789-9183-0e37a806b82e"
      },
      "source": [
        "# CONFUSION MATRIX\n",
        "cnf_mat_ext = confusion_matrix(y_test, pred_ext, labels=['stable', 'unstable'])\n",
        "print(cnf_mat_ext) "
      ],
      "execution_count": 15,
      "outputs": [
        {
          "output_type": "stream",
          "text": [
            "[[ 606  106]\n",
            " [  38 1250]]\n"
          ],
          "name": "stdout"
        }
      ]
    },
    {
      "cell_type": "code",
      "metadata": {
        "id": "u89yynipevec",
        "colab_type": "code",
        "colab": {
          "base_uri": "https://localhost:8080/",
          "height": 136
        },
        "outputId": "4c43ef19-876d-4de5-f6cb-2c2e9f5d6541"
      },
      "source": [
        "# metrics\n",
        "print(\"Accuracy score {}\".format(round(accuracy_score(y_test, pred_ext), 4)))\n",
        "print(\"Precision score for 'stable' {}\".format(round(precision_score(y_test, pred_ext, pos_label='stable'), 3)))\n",
        "print(\"Precision score for 'unstable' {}\".format(round(precision_score(y_test, pred_ext, pos_label='unstable'), 3)))\n",
        "print(\"Recall score for 'stable' {}\".format(round(recall_score(y_test, pred_ext, pos_label='stable'), 3)))\n",
        "print(\"Recall score for 'unstable' {}\".format(round(recall_score(y_test, pred_ext, pos_label='unstable'), 3)))\n",
        "print(\"F1 score for 'stable' %.3f\" % (f1_score(y_test, pred_ext, pos_label='stable')))\n",
        "print(\"F1 score for 'unstable' %.3f\" % (f1_score(y_test, pred_ext, pos_label='unstable')))"
      ],
      "execution_count": 16,
      "outputs": [
        {
          "output_type": "stream",
          "text": [
            "Accuracy score 0.928\n",
            "Precision score for 'stable' 0.941\n",
            "Precision score for 'unstable' 0.922\n",
            "Recall score for 'stable' 0.851\n",
            "Recall score for 'unstable' 0.97\n",
            "F1 score for 'stable' 0.894\n",
            "F1 score for 'unstable' 0.946\n"
          ],
          "name": "stdout"
        }
      ]
    },
    {
      "cell_type": "code",
      "metadata": {
        "id": "KTNp9E07fMcJ",
        "colab_type": "code",
        "colab": {
          "base_uri": "https://localhost:8080/",
          "height": 170
        },
        "outputId": "ee261777-e5e1-4a7f-9819-e5c21c7f1b2a"
      },
      "source": [
        "# Classification report\n",
        "from sklearn.metrics import classification_report\n",
        "print(classification_report(y_test, pred_ext))"
      ],
      "execution_count": 17,
      "outputs": [
        {
          "output_type": "stream",
          "text": [
            "              precision    recall  f1-score   support\n",
            "\n",
            "      stable       0.94      0.85      0.89       712\n",
            "    unstable       0.92      0.97      0.95      1288\n",
            "\n",
            "    accuracy                           0.93      2000\n",
            "   macro avg       0.93      0.91      0.92      2000\n",
            "weighted avg       0.93      0.93      0.93      2000\n",
            "\n"
          ],
          "name": "stdout"
        }
      ]
    },
    {
      "cell_type": "markdown",
      "metadata": {
        "id": "1g8CtKClfp1g",
        "colab_type": "text"
      },
      "source": [
        "Using XGBoost"
      ]
    },
    {
      "cell_type": "code",
      "metadata": {
        "id": "J-nx4BKIfRqi",
        "colab_type": "code",
        "colab": {
          "base_uri": "https://localhost:8080/",
          "height": 105
        },
        "outputId": "65a943dc-ff3a-4fdd-c072-b56b098eac50"
      },
      "source": [
        "# xgboost with random forest\n",
        "from xgboost import XGBRFClassifier\n",
        "model_xgbrf = XGBRFClassifier(random_state=1)\n",
        "model_xgbrf.fit(x_train, y_train)\n",
        "pred_xgbrf = model_xgbrf.predict(x_test)"
      ],
      "execution_count": 18,
      "outputs": [
        {
          "output_type": "stream",
          "text": [
            "/usr/local/lib/python3.6/dist-packages/sklearn/preprocessing/_label.py:235: DataConversionWarning: A column-vector y was passed when a 1d array was expected. Please change the shape of y to (n_samples, ), for example using ravel().\n",
            "  y = column_or_1d(y, warn=True)\n",
            "/usr/local/lib/python3.6/dist-packages/sklearn/preprocessing/_label.py:268: DataConversionWarning: A column-vector y was passed when a 1d array was expected. Please change the shape of y to (n_samples, ), for example using ravel().\n",
            "  y = column_or_1d(y, warn=True)\n"
          ],
          "name": "stderr"
        }
      ]
    },
    {
      "cell_type": "code",
      "metadata": {
        "id": "dNoP549_gSin",
        "colab_type": "code",
        "colab": {
          "base_uri": "https://localhost:8080/",
          "height": 51
        },
        "outputId": "dbad668f-ff0b-4a15-d9c5-1122702a78dd"
      },
      "source": [
        "# CONFUSION MATRIX\n",
        "cnf_mat_xgbrf = confusion_matrix(y_test, pred_xgbrf, labels=['stable', 'unstable'])\n",
        "print(cnf_mat_xgbrf) "
      ],
      "execution_count": 19,
      "outputs": [
        {
          "output_type": "stream",
          "text": [
            "[[ 414  298]\n",
            " [  79 1209]]\n"
          ],
          "name": "stdout"
        }
      ]
    },
    {
      "cell_type": "code",
      "metadata": {
        "id": "9vg0rCYDgajl",
        "colab_type": "code",
        "colab": {
          "base_uri": "https://localhost:8080/",
          "height": 136
        },
        "outputId": "2bcf023a-a1c9-4cf6-caef-a9e2406f8820"
      },
      "source": [
        "# metrics\n",
        "print(\"Accuracy score {}\".format(round(accuracy_score(y_test, pred_xgbrf), 4)))\n",
        "print(\"Precision score for 'stable' {}\".format(round(precision_score(y_test, pred_xgbrf, pos_label='stable'), 3)))\n",
        "print(\"Precision score for 'unstable' {}\".format(round(precision_score(y_test, pred_xgbrf, pos_label='unstable'), 3)))\n",
        "print(\"Recall score for 'stable' {}\".format(round(recall_score(y_test, pred_xgbrf, pos_label='stable'), 3)))\n",
        "print(\"Recall score for 'unstable' {}\".format(round(recall_score(y_test, pred_xgbrf, pos_label='unstable'), 3)))\n",
        "print(\"F1 score for 'stable' %.3f\" % (f1_score(y_test, pred_xgbrf, pos_label='stable')))\n",
        "print(\"F1 score for 'unstable' %.3f\" % (f1_score(y_test, pred_xgbrf, pos_label='unstable')))"
      ],
      "execution_count": 20,
      "outputs": [
        {
          "output_type": "stream",
          "text": [
            "Accuracy score 0.8115\n",
            "Precision score for 'stable' 0.84\n",
            "Precision score for 'unstable' 0.802\n",
            "Recall score for 'stable' 0.581\n",
            "Recall score for 'unstable' 0.939\n",
            "F1 score for 'stable' 0.687\n",
            "F1 score for 'unstable' 0.865\n"
          ],
          "name": "stdout"
        }
      ]
    },
    {
      "cell_type": "code",
      "metadata": {
        "id": "_liO5aJOgqV0",
        "colab_type": "code",
        "colab": {
          "base_uri": "https://localhost:8080/",
          "height": 170
        },
        "outputId": "680f4063-1ccb-460f-8e8d-7348de267223"
      },
      "source": [
        "# Classification report\n",
        "print(classification_report(y_test, pred_xgbrf))"
      ],
      "execution_count": 21,
      "outputs": [
        {
          "output_type": "stream",
          "text": [
            "              precision    recall  f1-score   support\n",
            "\n",
            "      stable       0.84      0.58      0.69       712\n",
            "    unstable       0.80      0.94      0.87      1288\n",
            "\n",
            "    accuracy                           0.81      2000\n",
            "   macro avg       0.82      0.76      0.78      2000\n",
            "weighted avg       0.82      0.81      0.80      2000\n",
            "\n"
          ],
          "name": "stdout"
        }
      ]
    },
    {
      "cell_type": "code",
      "metadata": {
        "id": "xFjbxaJAgvHW",
        "colab_type": "code",
        "colab": {
          "base_uri": "https://localhost:8080/",
          "height": 105
        },
        "outputId": "ae9088d8-870a-41f8-dabe-48c77d2cfe72"
      },
      "source": [
        "# xgboost using gradient boosting\n",
        "from xgboost import XGBClassifier\n",
        "model_xgb = XGBClassifier(random_state=1)\n",
        "model_xgb.fit(x_train, y_train)\n",
        "pred_xgb = model_xgb.predict(x_test)"
      ],
      "execution_count": 22,
      "outputs": [
        {
          "output_type": "stream",
          "text": [
            "/usr/local/lib/python3.6/dist-packages/sklearn/preprocessing/_label.py:235: DataConversionWarning: A column-vector y was passed when a 1d array was expected. Please change the shape of y to (n_samples, ), for example using ravel().\n",
            "  y = column_or_1d(y, warn=True)\n",
            "/usr/local/lib/python3.6/dist-packages/sklearn/preprocessing/_label.py:268: DataConversionWarning: A column-vector y was passed when a 1d array was expected. Please change the shape of y to (n_samples, ), for example using ravel().\n",
            "  y = column_or_1d(y, warn=True)\n"
          ],
          "name": "stderr"
        }
      ]
    },
    {
      "cell_type": "code",
      "metadata": {
        "id": "TMbE6svehECR",
        "colab_type": "code",
        "colab": {
          "base_uri": "https://localhost:8080/",
          "height": 51
        },
        "outputId": "e4da096a-6079-495d-9499-6dc2d52111f5"
      },
      "source": [
        "# CONFUSION MATRIX\n",
        "cnf_mat_xgb = confusion_matrix(y_test, pred_xgb, labels=['stable', 'unstable'])\n",
        "print(cnf_mat_xgb) "
      ],
      "execution_count": 23,
      "outputs": [
        {
          "output_type": "stream",
          "text": [
            "[[ 603  109]\n",
            " [  52 1236]]\n"
          ],
          "name": "stdout"
        }
      ]
    },
    {
      "cell_type": "code",
      "metadata": {
        "id": "kJVNBO_nhI3v",
        "colab_type": "code",
        "colab": {
          "base_uri": "https://localhost:8080/",
          "height": 136
        },
        "outputId": "d2b40378-fd8a-4072-c015-09a85dc169ad"
      },
      "source": [
        "# metrics\n",
        "print(\"Accuracy score {}\".format(round(accuracy_score(y_test, pred_xgb), 4)))\n",
        "print(\"Precision score for 'stable' {}\".format(round(precision_score(y_test, pred_xgb, pos_label='stable'), 3)))\n",
        "print(\"Precision score for 'unstable' {}\".format(round(precision_score(y_test, pred_xgb, pos_label='unstable'), 3)))\n",
        "print(\"Recall score for 'stable' {}\".format(round(recall_score(y_test, pred_xgb, pos_label='stable'), 3)))\n",
        "print(\"Recall score for 'unstable' {}\".format(round(recall_score(y_test, pred_xgb, pos_label='unstable'), 3)))\n",
        "print(\"F1 score for 'stable' %.3f\" % (f1_score(y_test, pred_xgb, pos_label='stable')))\n",
        "print(\"F1 score for 'unstable' %.3f\" % (f1_score(y_test, pred_xgb, pos_label='unstable')))"
      ],
      "execution_count": 24,
      "outputs": [
        {
          "output_type": "stream",
          "text": [
            "Accuracy score 0.9195\n",
            "Precision score for 'stable' 0.921\n",
            "Precision score for 'unstable' 0.919\n",
            "Recall score for 'stable' 0.847\n",
            "Recall score for 'unstable' 0.96\n",
            "F1 score for 'stable' 0.882\n",
            "F1 score for 'unstable' 0.939\n"
          ],
          "name": "stdout"
        }
      ]
    },
    {
      "cell_type": "code",
      "metadata": {
        "id": "waU22hSShhqF",
        "colab_type": "code",
        "colab": {
          "base_uri": "https://localhost:8080/",
          "height": 170
        },
        "outputId": "cb81b806-653e-4160-f7bb-5b90a6a3134e"
      },
      "source": [
        "# Classification report\n",
        "from sklearn.metrics import classification_report\n",
        "print(classification_report(y_test, pred_xgb))"
      ],
      "execution_count": 25,
      "outputs": [
        {
          "output_type": "stream",
          "text": [
            "              precision    recall  f1-score   support\n",
            "\n",
            "      stable       0.92      0.85      0.88       712\n",
            "    unstable       0.92      0.96      0.94      1288\n",
            "\n",
            "    accuracy                           0.92      2000\n",
            "   macro avg       0.92      0.90      0.91      2000\n",
            "weighted avg       0.92      0.92      0.92      2000\n",
            "\n"
          ],
          "name": "stdout"
        }
      ]
    },
    {
      "cell_type": "markdown",
      "metadata": {
        "id": "Xzvom-l8jE1v",
        "colab_type": "text"
      },
      "source": [
        "LightGBM Classifier"
      ]
    },
    {
      "cell_type": "code",
      "metadata": {
        "id": "iOh6_ahZhl6E",
        "colab_type": "code",
        "colab": {
          "base_uri": "https://localhost:8080/",
          "height": 105
        },
        "outputId": "fd015193-f3c5-4b3c-a0f8-5aa2a34a596e"
      },
      "source": [
        "# lightgbm\n",
        "from lightgbm import LGBMClassifier\n",
        "model_light = LGBMClassifier(random_state=1)\n",
        "model_light.fit(x_train, y_train)\n",
        "pred_light = model_light.predict(x_test)"
      ],
      "execution_count": 26,
      "outputs": [
        {
          "output_type": "stream",
          "text": [
            "/usr/local/lib/python3.6/dist-packages/sklearn/preprocessing/_label.py:235: DataConversionWarning: A column-vector y was passed when a 1d array was expected. Please change the shape of y to (n_samples, ), for example using ravel().\n",
            "  y = column_or_1d(y, warn=True)\n",
            "/usr/local/lib/python3.6/dist-packages/sklearn/preprocessing/_label.py:268: DataConversionWarning: A column-vector y was passed when a 1d array was expected. Please change the shape of y to (n_samples, ), for example using ravel().\n",
            "  y = column_or_1d(y, warn=True)\n"
          ],
          "name": "stderr"
        }
      ]
    },
    {
      "cell_type": "code",
      "metadata": {
        "id": "LysO8Utqh57l",
        "colab_type": "code",
        "colab": {
          "base_uri": "https://localhost:8080/",
          "height": 51
        },
        "outputId": "fe452a46-68bd-479d-8e98-b3a8900ff9c0"
      },
      "source": [
        "# CONFUSION MATRIX\n",
        "cnf_mat_light = confusion_matrix(y_test, pred_light, labels=['unstable', 'stable'])\n",
        "print(cnf_mat_light) "
      ],
      "execution_count": 27,
      "outputs": [
        {
          "output_type": "stream",
          "text": [
            "[[1239   49]\n",
            " [  76  636]]\n"
          ],
          "name": "stdout"
        }
      ]
    },
    {
      "cell_type": "code",
      "metadata": {
        "id": "ZIv90HVeiA8_",
        "colab_type": "code",
        "colab": {
          "base_uri": "https://localhost:8080/",
          "height": 136
        },
        "outputId": "8c313a4d-0779-4d27-f19b-69101f9a5341"
      },
      "source": [
        "# metrics\n",
        "print(\"Accuracy score {}\".format(round(accuracy_score(y_test, pred_light), 4)))\n",
        "print(\"Precision score for 'stable' {}\".format(round(precision_score(y_test, pred_light, pos_label='stable'), 3)))\n",
        "print(\"Precision score for 'unstable' {}\".format(round(precision_score(y_test, pred_light, pos_label='unstable'), 3)))\n",
        "print(\"Recall score for 'stable' {}\".format(round(recall_score(y_test, pred_light, pos_label='stable'), 3)))\n",
        "print(\"Recall score for 'unstable' {}\".format(round(recall_score(y_test, pred_light, pos_label='unstable'), 3)))\n",
        "print(\"F1 score for 'stable' %.3f\" % (f1_score(y_test, pred_light, pos_label='stable')))\n",
        "print(\"F1 score for 'unstable' %.3f\" % (f1_score(y_test, pred_light, pos_label='unstable')))"
      ],
      "execution_count": 28,
      "outputs": [
        {
          "output_type": "stream",
          "text": [
            "Accuracy score 0.9375\n",
            "Precision score for 'stable' 0.928\n",
            "Precision score for 'unstable' 0.942\n",
            "Recall score for 'stable' 0.893\n",
            "Recall score for 'unstable' 0.962\n",
            "F1 score for 'stable' 0.911\n",
            "F1 score for 'unstable' 0.952\n"
          ],
          "name": "stdout"
        }
      ]
    },
    {
      "cell_type": "code",
      "metadata": {
        "id": "gEHasF9PiOJl",
        "colab_type": "code",
        "colab": {
          "base_uri": "https://localhost:8080/",
          "height": 170
        },
        "outputId": "a9f6c710-9f27-4709-bdd5-15295fe1b77e"
      },
      "source": [
        "# Classification report\n",
        "print(classification_report(y_test, pred_light))"
      ],
      "execution_count": 29,
      "outputs": [
        {
          "output_type": "stream",
          "text": [
            "              precision    recall  f1-score   support\n",
            "\n",
            "      stable       0.93      0.89      0.91       712\n",
            "    unstable       0.94      0.96      0.95      1288\n",
            "\n",
            "    accuracy                           0.94      2000\n",
            "   macro avg       0.94      0.93      0.93      2000\n",
            "weighted avg       0.94      0.94      0.94      2000\n",
            "\n"
          ],
          "name": "stdout"
        }
      ]
    },
    {
      "cell_type": "markdown",
      "metadata": {
        "id": "_LRW2tZ9lyEC",
        "colab_type": "text"
      },
      "source": [
        "Improving Extra Trees Model Using Randomized Search CV"
      ]
    },
    {
      "cell_type": "code",
      "metadata": {
        "id": "KqH-nHq7iUh0",
        "colab_type": "code",
        "colab": {}
      },
      "source": [
        "# parameters\n",
        "n_estimators = [50, 100, 300, 500, 1000]\n",
        "min_samples_split = [2, 3, 5, 7, 9]\n",
        "min_samples_leaf = [1, 2, 4, 6, 8]\n",
        "max_features = ['auto', 'sqrt', 'log2', None] \n",
        "hyperparameter_grid = {'n_estimators': n_estimators,\n",
        "                       'min_samples_leaf': min_samples_leaf,\n",
        "                       'min_samples_split': min_samples_split,\n",
        "                       'max_features': max_features}"
      ],
      "execution_count": 30,
      "outputs": []
    },
    {
      "cell_type": "code",
      "metadata": {
        "id": "wv_OtXHkmbEz",
        "colab_type": "code",
        "colab": {
          "base_uri": "https://localhost:8080/",
          "height": 139
        },
        "outputId": "4ff2bec4-0efb-4fa0-e57b-574f9540687b"
      },
      "source": [
        "from sklearn.model_selection import RandomizedSearchCV\n",
        "clf = RandomizedSearchCV(model_ext, hyperparameter_grid, cv=5, n_iter=10, n_jobs=-1, scoring='accuracy', verbose=1, random_state=1)\n",
        "search = clf.fit(x_train, y_train)"
      ],
      "execution_count": 31,
      "outputs": [
        {
          "output_type": "stream",
          "text": [
            "Fitting 5 folds for each of 10 candidates, totalling 50 fits\n"
          ],
          "name": "stdout"
        },
        {
          "output_type": "stream",
          "text": [
            "[Parallel(n_jobs=-1)]: Using backend LokyBackend with 2 concurrent workers.\n",
            "[Parallel(n_jobs=-1)]: Done  46 tasks      | elapsed:  1.5min\n",
            "[Parallel(n_jobs=-1)]: Done  50 out of  50 | elapsed:  1.5min finished\n",
            "/usr/local/lib/python3.6/dist-packages/sklearn/model_selection/_search.py:739: DataConversionWarning: A column-vector y was passed when a 1d array was expected. Please change the shape of y to (n_samples,), for example using ravel().\n",
            "  self.best_estimator_.fit(X, y, **fit_params)\n"
          ],
          "name": "stderr"
        }
      ]
    },
    {
      "cell_type": "code",
      "metadata": {
        "id": "Z4PkfxY2m9HU",
        "colab_type": "code",
        "colab": {
          "base_uri": "https://localhost:8080/",
          "height": 34
        },
        "outputId": "c3c9905c-af75-47a5-d7db-790918762c29"
      },
      "source": [
        "#checking for the best parameter for the model\n",
        "search.best_params_.values()"
      ],
      "execution_count": 32,
      "outputs": [
        {
          "output_type": "execute_result",
          "data": {
            "text/plain": [
              "dict_values([1000, 2, 8, None])"
            ]
          },
          "metadata": {
            "tags": []
          },
          "execution_count": 32
        }
      ]
    },
    {
      "cell_type": "code",
      "metadata": {
        "id": "KOTAr2U6npef",
        "colab_type": "code",
        "colab": {
          "base_uri": "https://localhost:8080/",
          "height": 71
        },
        "outputId": "ac40a3e3-5e6d-4502-f1e1-da6c03fb592c"
      },
      "source": [
        "# experimenting with this parameter to test the model's performance\n",
        "tree_param = ExtraTreesClassifier(n_estimators=1000, min_samples_split=2, \n",
        "                                 min_samples_leaf=8, max_features=None, random_state=1)\n",
        "tree_param.fit(x_train, y_train)\n",
        "tree_param_pred = tree_param.predict(x_test)"
      ],
      "execution_count": 33,
      "outputs": [
        {
          "output_type": "stream",
          "text": [
            "/usr/local/lib/python3.6/dist-packages/ipykernel_launcher.py:4: DataConversionWarning: A column-vector y was passed when a 1d array was expected. Please change the shape of y to (n_samples,), for example using ravel().\n",
            "  after removing the cwd from sys.path.\n"
          ],
          "name": "stderr"
        }
      ]
    },
    {
      "cell_type": "code",
      "metadata": {
        "id": "lzUPm8vSoYOi",
        "colab_type": "code",
        "colab": {
          "base_uri": "https://localhost:8080/",
          "height": 51
        },
        "outputId": "b8e0932e-3699-4d80-aeaa-8fc68398fc4c"
      },
      "source": [
        "# CONFUSION MATRIX\n",
        "cnf_mat_newxt = confusion_matrix(y_test, tree_param_pred, labels=['stable', 'unstable'])\n",
        "print(cnf_mat_newxt) "
      ],
      "execution_count": 34,
      "outputs": [
        {
          "output_type": "stream",
          "text": [
            "[[ 619   93]\n",
            " [  53 1235]]\n"
          ],
          "name": "stdout"
        }
      ]
    },
    {
      "cell_type": "code",
      "metadata": {
        "id": "HPum2vrGo1K5",
        "colab_type": "code",
        "colab": {
          "base_uri": "https://localhost:8080/",
          "height": 136
        },
        "outputId": "5e04863b-d27a-4b79-b076-2a153f259252"
      },
      "source": [
        "# metrics\n",
        "print(\"Accuracy score {}\".format(round(accuracy_score(y_test, tree_param_pred), 4)))\n",
        "print(\"Precision score for 'stable' {}\".format(round(precision_score(y_test, tree_param_pred, pos_label='stable'), 3)))\n",
        "print(\"Precision score for 'unstable' {}\".format(round(precision_score(y_test, tree_param_pred, pos_label='unstable'), 3)))\n",
        "print(\"Recall score for 'stable' {}\".format(round(recall_score(y_test, tree_param_pred, pos_label='stable'), 3)))\n",
        "print(\"Recall score for 'unstable' {}\".format(round(recall_score(y_test, tree_param_pred, pos_label='unstable'), 3)))\n",
        "print(\"F1 score for 'stable' %.3f\" % (f1_score(y_test, tree_param_pred, pos_label='stable')))\n",
        "print(\"F1 score for 'unstable' %.3f\" % (f1_score(y_test, tree_param_pred, pos_label='unstable')))\n"
      ],
      "execution_count": 35,
      "outputs": [
        {
          "output_type": "stream",
          "text": [
            "Accuracy score 0.927\n",
            "Precision score for 'stable' 0.921\n",
            "Precision score for 'unstable' 0.93\n",
            "Recall score for 'stable' 0.869\n",
            "Recall score for 'unstable' 0.959\n",
            "F1 score for 'stable' 0.895\n",
            "F1 score for 'unstable' 0.944\n"
          ],
          "name": "stdout"
        }
      ]
    },
    {
      "cell_type": "code",
      "metadata": {
        "id": "DYw5v12Bo3i0",
        "colab_type": "code",
        "colab": {
          "base_uri": "https://localhost:8080/",
          "height": 170
        },
        "outputId": "d141b336-2519-4027-f077-22581d894ebb"
      },
      "source": [
        "# Classification report\n",
        "print(classification_report(y_test, tree_param_pred))"
      ],
      "execution_count": 36,
      "outputs": [
        {
          "output_type": "stream",
          "text": [
            "              precision    recall  f1-score   support\n",
            "\n",
            "      stable       0.92      0.87      0.89       712\n",
            "    unstable       0.93      0.96      0.94      1288\n",
            "\n",
            "    accuracy                           0.93      2000\n",
            "   macro avg       0.93      0.91      0.92      2000\n",
            "weighted avg       0.93      0.93      0.93      2000\n",
            "\n"
          ],
          "name": "stdout"
        }
      ]
    },
    {
      "cell_type": "code",
      "metadata": {
        "id": "Pjm5VnmNpVMT",
        "colab_type": "code",
        "colab": {
          "base_uri": "https://localhost:8080/",
          "height": 68
        },
        "outputId": "73d467b9-ab35-42ed-9f2d-bd9310a59f6a"
      },
      "source": [
        "tree_param.feature_importances_"
      ],
      "execution_count": 37,
      "outputs": [
        {
          "output_type": "execute_result",
          "data": {
            "text/plain": [
              "array([0.13723979, 0.14050787, 0.1346805 , 0.13541662, 0.00368361,\n",
              "       0.0053368 , 0.00542927, 0.0049625 , 0.10256224, 0.1075776 ,\n",
              "       0.11306257, 0.10954062])"
            ]
          },
          "metadata": {
            "tags": []
          },
          "execution_count": 37
        }
      ]
    },
    {
      "cell_type": "code",
      "metadata": {
        "id": "QAddMqrJ3asR",
        "colab_type": "code",
        "colab": {
          "base_uri": "https://localhost:8080/",
          "height": 221
        },
        "outputId": "8e75e3ac-986c-40d2-9411-58acdab0b25e"
      },
      "source": [
        "# showing the features in order of importance\n",
        "sorted(zip(tree_param.feature_importances_, df.drop('stabf', axis=1).columns), reverse=True)"
      ],
      "execution_count": 38,
      "outputs": [
        {
          "output_type": "execute_result",
          "data": {
            "text/plain": [
              "[(0.14050787123292582, 'tau2'),\n",
              " (0.13723978831645356, 'tau1'),\n",
              " (0.13541662265504284, 'tau4'),\n",
              " (0.13468049625184006, 'tau3'),\n",
              " (0.1130625748200639, 'g3'),\n",
              " (0.10954061786399034, 'g4'),\n",
              " (0.10757760496355806, 'g2'),\n",
              " (0.10256224382786308, 'g1'),\n",
              " (0.0054292680802320815, 'p3'),\n",
              " (0.0053368014620138494, 'p2'),\n",
              " (0.004962501777389839, 'p4'),\n",
              " (0.0036836087486265406, 'p1')]"
            ]
          },
          "metadata": {
            "tags": []
          },
          "execution_count": 38
        }
      ]
    },
    {
      "cell_type": "code",
      "metadata": {
        "id": "SujE-Dnq4GoU",
        "colab_type": "code",
        "colab": {
          "base_uri": "https://localhost:8080/",
          "height": 34
        },
        "outputId": "b04df0de-3073-4eac-a05d-7afb017671a7"
      },
      "source": [
        "# auc score\n",
        "import matplotlib.pyplot as plt\n",
        "from sklearn.metrics import roc_curve, roc_auc_score\n",
        "mod_prob = tree_param.predict_proba(x_test)\n",
        "mod_prob = mod_prob[:, 1]\n",
        "auc = roc_auc_score(y_test, mod_prob)\n",
        "print('Extra trees with hyperparams tuning auc score: %.3f' % (auc))"
      ],
      "execution_count": 39,
      "outputs": [
        {
          "output_type": "stream",
          "text": [
            "Extra trees with hyperparams tuning auc score: 0.984\n"
          ],
          "name": "stdout"
        }
      ]
    },
    {
      "cell_type": "code",
      "metadata": {
        "id": "B6oawynTEdO1",
        "colab_type": "code",
        "colab": {}
      },
      "source": [
        ""
      ],
      "execution_count": 39,
      "outputs": []
    }
  ]
}