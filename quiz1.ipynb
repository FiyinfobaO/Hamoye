{
  "nbformat": 4,
  "nbformat_minor": 0,
  "metadata": {
    "colab": {
      "name": "Untitled1.ipynb",
      "provenance": [],
      "authorship_tag": "ABX9TyOIIfBFyiNHJkbRzqxtL46Q",
      "include_colab_link": true
    },
    "kernelspec": {
      "name": "python3",
      "display_name": "Python 3"
    }
  },
  "cells": [
    {
      "cell_type": "markdown",
      "metadata": {
        "id": "view-in-github",
        "colab_type": "text"
      },
      "source": [
        "<a href=\"https://colab.research.google.com/github/FiyinfobaO/Hamoye/blob/master/quiz1.ipynb\" target=\"_parent\"><img src=\"https://colab.research.google.com/assets/colab-badge.svg\" alt=\"Open In Colab\"/></a>"
      ]
    },
    {
      "cell_type": "code",
      "metadata": {
        "id": "ZcSrACq8oT6V",
        "colab_type": "code",
        "colab": {}
      },
      "source": [
        "import numpy as np\n",
        "import pandas as pd\n"
      ],
      "execution_count": 1,
      "outputs": []
    },
    {
      "cell_type": "code",
      "metadata": {
        "id": "Aw6NaJrit1VY",
        "colab_type": "code",
        "colab": {
          "base_uri": "https://localhost:8080/",
          "height": 153
        },
        "outputId": "67cceb35-eae2-448e-affe-5926cc85943a"
      },
      "source": [
        "url = 'https://bit.ly/HDSC-StageOneDataset'\n",
        "df = pd.read_csv(url)\n",
        "print(df.head())"
      ],
      "execution_count": 2,
      "outputs": [
        {
          "output_type": "stream",
          "text": [
            "                record_id  ...  fuel_cost_per_mmbtu\n",
            "0   f1_fuel_1994_12_1_0_7  ...                1.121\n",
            "1  f1_fuel_1994_12_1_0_10  ...                1.120\n",
            "2   f1_fuel_1994_12_2_0_1  ...                1.650\n",
            "3   f1_fuel_1994_12_2_0_7  ...                1.970\n",
            "4  f1_fuel_1994_12_2_0_10  ...                2.570\n",
            "\n",
            "[5 rows x 11 columns]\n"
          ],
          "name": "stdout"
        }
      ]
    },
    {
      "cell_type": "code",
      "metadata": {
        "id": "VA7UrtyjuRJw",
        "colab_type": "code",
        "colab": {
          "base_uri": "https://localhost:8080/",
          "height": 102
        },
        "outputId": "b96df913-13de-4ddd-ee99-9843b69d59d0"
      },
      "source": [
        "print(df.columns.values)\n",
        "print('no of null values = ', df.isnull().values.sum())"
      ],
      "execution_count": 3,
      "outputs": [
        {
          "output_type": "stream",
          "text": [
            "['record_id' 'utility_id_ferc1' 'report_year' 'plant_name_ferc1'\n",
            " 'fuel_type_code_pudl' 'fuel_unit' 'fuel_qty_burned' 'fuel_mmbtu_per_unit'\n",
            " 'fuel_cost_per_unit_burned' 'fuel_cost_per_unit_delivered'\n",
            " 'fuel_cost_per_mmbtu']\n",
            "no of null values =  180\n"
          ],
          "name": "stdout"
        }
      ]
    },
    {
      "cell_type": "code",
      "metadata": {
        "id": "9oEV4_Wqu-Vf",
        "colab_type": "code",
        "colab": {
          "base_uri": "https://localhost:8080/",
          "height": 221
        },
        "outputId": "c3d52caa-1ae8-4e43-a08a-570cacce00c2"
      },
      "source": [
        "print(df.isnull().sum())"
      ],
      "execution_count": 4,
      "outputs": [
        {
          "output_type": "stream",
          "text": [
            "record_id                         0\n",
            "utility_id_ferc1                  0\n",
            "report_year                       0\n",
            "plant_name_ferc1                  0\n",
            "fuel_type_code_pudl               0\n",
            "fuel_unit                       180\n",
            "fuel_qty_burned                   0\n",
            "fuel_mmbtu_per_unit               0\n",
            "fuel_cost_per_unit_burned         0\n",
            "fuel_cost_per_unit_delivered      0\n",
            "fuel_cost_per_mmbtu               0\n",
            "dtype: int64\n"
          ],
          "name": "stdout"
        }
      ]
    },
    {
      "cell_type": "code",
      "metadata": {
        "id": "mHx87DP0cY4T",
        "colab_type": "code",
        "colab": {
          "base_uri": "https://localhost:8080/",
          "height": 170
        },
        "outputId": "48fcd838-9d01-4e6c-a8d2-2c7a5bfa410e"
      },
      "source": [
        "b = df['fuel_mmbtu_per_unit'].describe().transpose()\n",
        "print(b)"
      ],
      "execution_count": 14,
      "outputs": [
        {
          "output_type": "stream",
          "text": [
            "count    29523.000000\n",
            "mean         8.492111\n",
            "std         10.600220\n",
            "min          0.000001\n",
            "25%          1.024000\n",
            "50%          5.762694\n",
            "75%         17.006000\n",
            "max        341.260000\n",
            "Name: fuel_mmbtu_per_unit, dtype: float64\n"
          ],
          "name": "stdout"
        }
      ]
    },
    {
      "cell_type": "code",
      "metadata": {
        "id": "q53ibG3BgSTe",
        "colab_type": "code",
        "colab": {
          "base_uri": "https://localhost:8080/",
          "height": 34
        },
        "outputId": "6362f6f0-461c-40ac-b588-78f0390d0ceb"
      },
      "source": [
        "from scipy.stats import kurtosis, skew\n",
        "c = df['fuel_qty_burned']\n",
        "print('skew = {:.2f} and kurtosis = {:.2f}'.format(skew(c), kurtosis(c)))"
      ],
      "execution_count": 20,
      "outputs": [
        {
          "output_type": "stream",
          "text": [
            "skew = 15.85 and kurtosis = 651.26\n"
          ],
          "name": "stdout"
        }
      ]
    },
    {
      "cell_type": "code",
      "metadata": {
        "id": "20snsQvpj9p7",
        "colab_type": "code",
        "colab": {
          "base_uri": "https://localhost:8080/",
          "height": 221
        },
        "outputId": "daa7a8c2-a4ef-4431-bb6d-80d47c43a609"
      },
      "source": [
        "print(df.isnull().sum())"
      ],
      "execution_count": 21,
      "outputs": [
        {
          "output_type": "stream",
          "text": [
            "record_id                         0\n",
            "utility_id_ferc1                  0\n",
            "report_year                       0\n",
            "plant_name_ferc1                  0\n",
            "fuel_type_code_pudl               0\n",
            "fuel_unit                       180\n",
            "fuel_qty_burned                   0\n",
            "fuel_mmbtu_per_unit               0\n",
            "fuel_cost_per_unit_burned         0\n",
            "fuel_cost_per_unit_delivered      0\n",
            "fuel_cost_per_mmbtu               0\n",
            "dtype: int64\n"
          ],
          "name": "stdout"
        }
      ]
    },
    {
      "cell_type": "code",
      "metadata": {
        "id": "ZEu_ksNImvwN",
        "colab_type": "code",
        "colab": {
          "base_uri": "https://localhost:8080/",
          "height": 34
        },
        "outputId": "b5ad18d8-8d36-4237-ad83-312007f6195e"
      },
      "source": [
        "print(df['fuel_unit'].dtypes)"
      ],
      "execution_count": 22,
      "outputs": [
        {
          "output_type": "stream",
          "text": [
            "object\n"
          ],
          "name": "stdout"
        }
      ]
    },
    {
      "cell_type": "code",
      "metadata": {
        "id": "XkErWHlhm8dI",
        "colab_type": "code",
        "colab": {
          "base_uri": "https://localhost:8080/",
          "height": 51
        },
        "outputId": "9b1b1d87-d62d-42fc-dcf6-a4f961e2ca0b"
      },
      "source": [
        "print('total no of rows: ', len(df))\n",
        "per = 100.0 * 180 / len(df)\n",
        "print('percentage = {:.3f} '.format(per))"
      ],
      "execution_count": 27,
      "outputs": [
        {
          "output_type": "stream",
          "text": [
            "total no of rows:  29523\n",
            "percentage = 0.610 \n"
          ],
          "name": "stdout"
        }
      ]
    },
    {
      "cell_type": "code",
      "metadata": {
        "id": "PscuPYXAnZaC",
        "colab_type": "code",
        "colab": {
          "base_uri": "https://localhost:8080/",
          "height": 34
        },
        "outputId": "af7106e7-8b99-4fb2-b1ea-67a5f896bb12"
      },
      "source": [
        "print(df['fuel_type_code_pudl'].dtypes)"
      ],
      "execution_count": 25,
      "outputs": [
        {
          "output_type": "stream",
          "text": [
            "object\n"
          ],
          "name": "stdout"
        }
      ]
    },
    {
      "cell_type": "code",
      "metadata": {
        "id": "z2epmWexnnS-",
        "colab_type": "code",
        "colab": {
          "base_uri": "https://localhost:8080/",
          "height": 34
        },
        "outputId": "fc07b297-17a3-4a5d-e075-e8b787da9c95"
      },
      "source": [
        "d = df['fuel_cost_per_unit_burned']\n",
        "e = df['utility_id_ferc1']\n",
        "print(e.corr(d))"
      ],
      "execution_count": 36,
      "outputs": [
        {
          "output_type": "stream",
          "text": [
            "-0.03786270759997261\n"
          ],
          "name": "stdout"
        }
      ]
    },
    {
      "cell_type": "code",
      "metadata": {
        "id": "sHe3TyBVubiU",
        "colab_type": "code",
        "colab": {
          "base_uri": "https://localhost:8080/",
          "height": 34
        },
        "outputId": "184429d0-43dd-4e6d-b986-d799814c0517"
      },
      "source": [
        "f = df['report_year']\n",
        "print(f.corr(d))"
      ],
      "execution_count": 37,
      "outputs": [
        {
          "output_type": "stream",
          "text": [
            "0.013599134438134116\n"
          ],
          "name": "stdout"
        }
      ]
    },
    {
      "cell_type": "code",
      "metadata": {
        "id": "FKLy-8igvEgx",
        "colab_type": "code",
        "colab": {
          "base_uri": "https://localhost:8080/",
          "height": 34
        },
        "outputId": "4420ffd3-aa7a-4a76-f310-b40f7e538a4f"
      },
      "source": [
        "g = df['fuel_qty_burned']\n",
        "print(g.corr(d))"
      ],
      "execution_count": 38,
      "outputs": [
        {
          "output_type": "stream",
          "text": [
            "-0.018535416794825225\n"
          ],
          "name": "stdout"
        }
      ]
    },
    {
      "cell_type": "code",
      "metadata": {
        "id": "N1iAnvvlvOO5",
        "colab_type": "code",
        "colab": {
          "base_uri": "https://localhost:8080/",
          "height": 34
        },
        "outputId": "85ba16fa-f2d3-4756-b831-4d71e87516f4"
      },
      "source": [
        "h = df['fuel_mmbtu_per_unit']\n",
        "print(h.corr(d))"
      ],
      "execution_count": 39,
      "outputs": [
        {
          "output_type": "stream",
          "text": [
            "-0.010033808428853071\n"
          ],
          "name": "stdout"
        }
      ]
    },
    {
      "cell_type": "code",
      "metadata": {
        "id": "JIJeBIvrvv5E",
        "colab_type": "code",
        "colab": {
          "base_uri": "https://localhost:8080/",
          "height": 34
        },
        "outputId": "522a2c7d-c030-40a2-abc5-7f318b20f181"
      },
      "source": [
        "i = df['fuel_cost_per_unit_delivered']\n",
        "print(i.corr(d))"
      ],
      "execution_count": 40,
      "outputs": [
        {
          "output_type": "stream",
          "text": [
            "0.01100740329916511\n"
          ],
          "name": "stdout"
        }
      ]
    },
    {
      "cell_type": "code",
      "metadata": {
        "id": "GpXKZa6Nv8NC",
        "colab_type": "code",
        "colab": {
          "base_uri": "https://localhost:8080/",
          "height": 34
        },
        "outputId": "7959ef65-e1b3-4ada-b761-cb293cd8f511"
      },
      "source": [
        "j = df['fuel_cost_per_mmbtu']\n",
        "print(j.corr(d))"
      ],
      "execution_count": 41,
      "outputs": [
        {
          "output_type": "stream",
          "text": [
            "-0.00043721044397040026\n"
          ],
          "name": "stdout"
        }
      ]
    },
    {
      "cell_type": "code",
      "metadata": {
        "id": "kWttzM8ewTtA",
        "colab_type": "code",
        "colab": {
          "base_uri": "https://localhost:8080/",
          "height": 34
        },
        "outputId": "3c5b4167-2c9d-47a0-c2ae-4ecb0f438b27"
      },
      "source": [
        "A = [1,2,3,4,5,6]\n",
        "B = [13, 21, 34]\n",
        "A.extend(B)\n",
        "print(A)"
      ],
      "execution_count": 45,
      "outputs": [
        {
          "output_type": "stream",
          "text": [
            "[1, 2, 3, 4, 5, 6, 13, 21, 34]\n"
          ],
          "name": "stdout"
        }
      ]
    },
    {
      "cell_type": "code",
      "metadata": {
        "id": "L6ueUcz8xOFO",
        "colab_type": "code",
        "colab": {
          "base_uri": "https://localhost:8080/",
          "height": 34
        },
        "outputId": "9a5cc0a9-5548-44bf-e7af-af1553dba90c"
      },
      "source": [
        "A = [1,2,3,4,5,6]\n",
        "B = [13, 21, 34]\n",
        "A.append(B)\n",
        "print(A)"
      ],
      "execution_count": 46,
      "outputs": [
        {
          "output_type": "stream",
          "text": [
            "[1, 2, 3, 4, 5, 6, [13, 21, 34]]\n"
          ],
          "name": "stdout"
        }
      ]
    },
    {
      "cell_type": "code",
      "metadata": {
        "id": "A7KM-NL1xitm",
        "colab_type": "code",
        "colab": {
          "base_uri": "https://localhost:8080/",
          "height": 68
        },
        "outputId": "e9d6e19b-f042-4545-d7d7-841f04f7137f"
      },
      "source": [
        "print(np.eye(3))"
      ],
      "execution_count": 48,
      "outputs": [
        {
          "output_type": "stream",
          "text": [
            "[[1. 0. 0.]\n",
            " [0. 1. 0.]\n",
            " [0. 0. 1.]]\n"
          ],
          "name": "stdout"
        }
      ]
    },
    {
      "cell_type": "code",
      "metadata": {
        "id": "00LjBKIfx3X7",
        "colab_type": "code",
        "colab": {
          "base_uri": "https://localhost:8080/",
          "height": 68
        },
        "outputId": "56338c84-f2e5-4f78-9e12-2572481bddbe"
      },
      "source": [
        "print(np.identity(3))"
      ],
      "execution_count": 49,
      "outputs": [
        {
          "output_type": "stream",
          "text": [
            "[[1. 0. 0.]\n",
            " [0. 1. 0.]\n",
            " [0. 0. 1.]]\n"
          ],
          "name": "stdout"
        }
      ]
    },
    {
      "cell_type": "code",
      "metadata": {
        "id": "KUF-bAZ0yfQf",
        "colab_type": "code",
        "colab": {
          "base_uri": "https://localhost:8080/",
          "height": 476
        },
        "outputId": "a611b3e5-7de4-4387-c60a-e4bf5c498338"
      },
      "source": [
        "b = df.groupby('report_year')['fuel_cost_per_unit_delivered'].mean()\n",
        "print(b)"
      ],
      "execution_count": 62,
      "outputs": [
        {
          "output_type": "stream",
          "text": [
            "report_year\n",
            "1994       63.636060\n",
            "1995       32.735269\n",
            "1996     9196.705948\n",
            "1997    11140.197239\n",
            "1998      287.154420\n",
            "1999       25.551627\n",
            "2000      985.362877\n",
            "2001       60.050396\n",
            "2002       47.594361\n",
            "2003       55.663493\n",
            "2004      139.524275\n",
            "2005       41.438184\n",
            "2006       38.657484\n",
            "2007       43.325023\n",
            "2008       58.588197\n",
            "2009      652.694163\n",
            "2010       91.862105\n",
            "2011       59.774667\n",
            "2012       60.994502\n",
            "2013      172.307591\n",
            "2014      192.737183\n",
            "2015      326.535511\n",
            "2016      103.901761\n",
            "2017       46.196861\n",
            "2018      499.269966\n",
            "Name: fuel_cost_per_unit_delivered, dtype: float64\n"
          ],
          "name": "stdout"
        }
      ]
    },
    {
      "cell_type": "code",
      "metadata": {
        "id": "Gd0HHznf5ZhY",
        "colab_type": "code",
        "colab": {
          "base_uri": "https://localhost:8080/",
          "height": 153
        },
        "outputId": "6a355c36-1a02-4046-e898-3e7ab243f2ba"
      },
      "source": [
        "a = df.groupby('fuel_type_code_pudl')['fuel_cost_per_unit_burned'].mean()\n",
        "print(a)"
      ],
      "execution_count": 63,
      "outputs": [
        {
          "output_type": "stream",
          "text": [
            "fuel_type_code_pudl\n",
            "coal         67.421830\n",
            "gas          13.659397\n",
            "nuclear    4955.157002\n",
            "oil         168.877086\n",
            "other        18.253856\n",
            "waste        19.518122\n",
            "Name: fuel_cost_per_unit_burned, dtype: float64\n"
          ],
          "name": "stdout"
        }
      ]
    },
    {
      "cell_type": "code",
      "metadata": {
        "id": "86xPgOqn9fDp",
        "colab_type": "code",
        "colab": {}
      },
      "source": [
        ""
      ],
      "execution_count": null,
      "outputs": []
    }
  ]
}