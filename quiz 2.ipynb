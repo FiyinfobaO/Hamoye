{
  "nbformat": 4,
  "nbformat_minor": 0,
  "metadata": {
    "colab": {
      "name": "Untitled4.ipynb",
      "provenance": [],
      "authorship_tag": "ABX9TyND9SSwtpWkiSjRIwi0DpSs",
      "include_colab_link": true
    },
    "kernelspec": {
      "name": "python3",
      "display_name": "Python 3"
    }
  },
  "cells": [
    {
      "cell_type": "markdown",
      "metadata": {
        "id": "view-in-github",
        "colab_type": "text"
      },
      "source": [
        "<a href=\"https://colab.research.google.com/github/FiyinfobaO/Hamoye/blob/master/quiz%202.ipynb\" target=\"_parent\"><img src=\"https://colab.research.google.com/assets/colab-badge.svg\" alt=\"Open In Colab\"/></a>"
      ]
    },
    {
      "cell_type": "code",
      "metadata": {
        "id": "QGbZAGgXyasE",
        "colab_type": "code",
        "colab": {
          "base_uri": "https://localhost:8080/",
          "height": 71
        },
        "outputId": "d2b15bb7-50fa-4f55-9c4d-62dde9906043"
      },
      "source": [
        "# importing libraries\n",
        "import numpy as np\n",
        "import pandas as pd\n",
        "import seaborn as sns\n",
        "import matplotlib.pyplot as plt"
      ],
      "execution_count": 1,
      "outputs": [
        {
          "output_type": "stream",
          "text": [
            "/usr/local/lib/python3.6/dist-packages/statsmodels/tools/_testing.py:19: FutureWarning: pandas.util.testing is deprecated. Use the functions in the public API at pandas.testing instead.\n",
            "  import pandas.util.testing as tm\n"
          ],
          "name": "stderr"
        }
      ]
    },
    {
      "cell_type": "code",
      "metadata": {
        "id": "C4_lme3kyuRy",
        "colab_type": "code",
        "colab": {
          "base_uri": "https://localhost:8080/",
          "height": 238
        },
        "outputId": "29ba728f-8b02-4353-e756-3702c0ea3082"
      },
      "source": [
        "url = 'https://archive.ics.uci.edu/ml/machine-learning-databases/00374/energydata_complete.csv'\n",
        "df = pd.read_csv(url)\n",
        "print(df.head(10))"
      ],
      "execution_count": 2,
      "outputs": [
        {
          "output_type": "stream",
          "text": [
            "                  date  Appliances  lights  ...  Tdewpoint        rv1        rv2\n",
            "0  2016-01-11 17:00:00          60      30  ...   5.300000  13.275433  13.275433\n",
            "1  2016-01-11 17:10:00          60      30  ...   5.200000  18.606195  18.606195\n",
            "2  2016-01-11 17:20:00          50      30  ...   5.100000  28.642668  28.642668\n",
            "3  2016-01-11 17:30:00          50      40  ...   5.000000  45.410389  45.410389\n",
            "4  2016-01-11 17:40:00          60      40  ...   4.900000  10.084097  10.084097\n",
            "5  2016-01-11 17:50:00          50      40  ...   4.800000  44.919484  44.919484\n",
            "6  2016-01-11 18:00:00          60      50  ...   4.700000  47.233763  47.233763\n",
            "7  2016-01-11 18:10:00          60      50  ...   4.683333  33.039890  33.039890\n",
            "8  2016-01-11 18:20:00          60      40  ...   4.666667  31.455702  31.455702\n",
            "9  2016-01-11 18:30:00          70      40  ...   4.650000   3.089314   3.089314\n",
            "\n",
            "[10 rows x 29 columns]\n"
          ],
          "name": "stdout"
        }
      ]
    },
    {
      "cell_type": "code",
      "metadata": {
        "id": "5gHfuKlEyxL-",
        "colab_type": "code",
        "colab": {
          "base_uri": "https://localhost:8080/",
          "height": 238
        },
        "outputId": "1d36a8ad-ac5e-4fd5-81eb-b16fb4a75066"
      },
      "source": [
        "# dropping date and light columns\n",
        "df.drop(['date', 'lights'], axis=1, inplace=True)\n",
        "print(df.head(10))"
      ],
      "execution_count": 3,
      "outputs": [
        {
          "output_type": "stream",
          "text": [
            "   Appliances         T1       RH_1  ...  Tdewpoint        rv1        rv2\n",
            "0          60  19.890000  47.596667  ...   5.300000  13.275433  13.275433\n",
            "1          60  19.890000  46.693333  ...   5.200000  18.606195  18.606195\n",
            "2          50  19.890000  46.300000  ...   5.100000  28.642668  28.642668\n",
            "3          50  19.890000  46.066667  ...   5.000000  45.410389  45.410389\n",
            "4          60  19.890000  46.333333  ...   4.900000  10.084097  10.084097\n",
            "5          50  19.890000  46.026667  ...   4.800000  44.919484  44.919484\n",
            "6          60  19.890000  45.766667  ...   4.700000  47.233763  47.233763\n",
            "7          60  19.856667  45.560000  ...   4.683333  33.039890  33.039890\n",
            "8          60  19.790000  45.597500  ...   4.666667  31.455702  31.455702\n",
            "9          70  19.856667  46.090000  ...   4.650000   3.089314   3.089314\n",
            "\n",
            "[10 rows x 27 columns]\n"
          ],
          "name": "stdout"
        }
      ]
    },
    {
      "cell_type": "code",
      "metadata": {
        "id": "idRMCp0sy1B8",
        "colab_type": "code",
        "colab": {
          "base_uri": "https://localhost:8080/",
          "height": 34
        },
        "outputId": "253d5f24-804a-4555-b062-4ed54ad6b451"
      },
      "source": [
        "# to know if there are null values in the data\n",
        "print('total no of null values = ', df.isnull().values.sum())"
      ],
      "execution_count": 4,
      "outputs": [
        {
          "output_type": "stream",
          "text": [
            "total no of null values =  0\n"
          ],
          "name": "stdout"
        }
      ]
    },
    {
      "cell_type": "code",
      "metadata": {
        "id": "0d_l7P9Ay67C",
        "colab_type": "code",
        "colab": {
          "base_uri": "https://localhost:8080/",
          "height": 238
        },
        "outputId": "bc6675aa-2bd6-420d-e311-ec175c23183a"
      },
      "source": [
        "# normalise the dataset to a common scale using the min max scaler\n",
        "from sklearn.preprocessing import MinMaxScaler\n",
        "mms = MinMaxScaler()\n",
        "norm_df = pd.DataFrame(mms.fit_transform(df), columns=df.columns)\n",
        "print(norm_df.head(10))"
      ],
      "execution_count": 5,
      "outputs": [
        {
          "output_type": "stream",
          "text": [
            "   Appliances       T1      RH_1  ...  Tdewpoint       rv1       rv2\n",
            "0    0.046729  0.32735  0.566187  ...   0.538462  0.265449  0.265449\n",
            "1    0.046729  0.32735  0.541326  ...   0.533937  0.372083  0.372083\n",
            "2    0.037383  0.32735  0.530502  ...   0.529412  0.572848  0.572848\n",
            "3    0.037383  0.32735  0.524080  ...   0.524887  0.908261  0.908261\n",
            "4    0.046729  0.32735  0.531419  ...   0.520362  0.201611  0.201611\n",
            "5    0.037383  0.32735  0.522980  ...   0.515837  0.898441  0.898441\n",
            "6    0.046729  0.32735  0.515824  ...   0.511312  0.944735  0.944735\n",
            "7    0.046729  0.32383  0.510137  ...   0.510558  0.660808  0.660808\n",
            "8    0.046729  0.31679  0.511169  ...   0.509804  0.629118  0.629118\n",
            "9    0.056075  0.32383  0.524723  ...   0.509050  0.061691  0.061691\n",
            "\n",
            "[10 rows x 27 columns]\n"
          ],
          "name": "stdout"
        }
      ]
    },
    {
      "cell_type": "code",
      "metadata": {
        "id": "TVXfo67VzDeA",
        "colab_type": "code",
        "colab": {}
      },
      "source": [
        "# FOR THE LINEAR MODEL\n",
        "# get the features\n",
        "X_lin = norm_df['T2'].values\n",
        "# get the labels\n",
        "y_lin = norm_df['T6'].values\n",
        "\n",
        "# to split the data\n",
        "from sklearn.model_selection import train_test_split\n",
        "X_lintrain, X_lintest, y_lintrain, y_lintest = train_test_split(X_lin, y_lin, test_size=0.3, random_state=42)\n",
        "X_lintrain = X_lintrain.reshape(-1, 1)\n",
        "y_lintrain = y_lintrain.reshape(-1, 1)\n",
        "\n",
        "# to create the model\n",
        "from sklearn.linear_model import LinearRegression\n",
        "reg_lin = LinearRegression()\n",
        "# fit the model to train data\n",
        "reg_lin.fit(X_lintrain, y_lintrain)\n",
        "# to predict test values\n",
        "X_lintest = X_lintest.reshape(-1, 1)\n",
        "y_linpred = reg_lin.predict(X_lintest)"
      ],
      "execution_count": 7,
      "outputs": []
    },
    {
      "cell_type": "code",
      "metadata": {
        "id": "h93DjcuBpvhG",
        "colab_type": "code",
        "colab": {
          "base_uri": "https://localhost:8080/",
          "height": 34
        },
        "outputId": "5fb9cf37-f36f-41dc-c12c-dcf68aeed831"
      },
      "source": [
        "# R-SQUARED for the linear model\n",
        "from sklearn.metrics import r2_score\n",
        "r2_score = r2_score(y_lintest, y_linpred)\n",
        "round(r2_score, 2) # rounds the r-square value to 2 dp"
      ],
      "execution_count": 8,
      "outputs": [
        {
          "output_type": "execute_result",
          "data": {
            "text/plain": [
              "0.64"
            ]
          },
          "metadata": {
            "tags": []
          },
          "execution_count": 8
        }
      ]
    },
    {
      "cell_type": "code",
      "metadata": {
        "id": "6ga1KowNqFwl",
        "colab_type": "code",
        "colab": {}
      },
      "source": [
        "# FOR THE MULTIPLE LINEAR MODEL\n",
        "# to get the features, X\n",
        "X = norm_df.drop('Appliances', axis=1).values\n",
        "# to get label/target variable, y\n",
        "y = norm_df['Appliances'].values\n",
        "\n",
        "# to split the data\n",
        "X_train, X_test, y_train, y_test = train_test_split(X, y, test_size=0.3, random_state=42)\n",
        "\n",
        "# to create the model\n",
        "reg = LinearRegression()\n",
        "# fit the model to train data\n",
        "reg.fit(X_train, y_train)\n",
        "# to predict test values\n",
        "y_pred = reg.predict(X_test)"
      ],
      "execution_count": 9,
      "outputs": []
    },
    {
      "cell_type": "code",
      "metadata": {
        "id": "B8VRP_5hq5Ct",
        "colab_type": "code",
        "colab": {
          "base_uri": "https://localhost:8080/",
          "height": 34
        },
        "outputId": "f494e33a-9972-4d2b-bf66-251b43d4c38d"
      },
      "source": [
        "#MAE \n",
        "from sklearn.metrics import mean_absolute_error\n",
        "mae = mean_absolute_error(y_test, y_pred)\n",
        "round(mae, 2) # rounds the mae value to 2 dp"
      ],
      "execution_count": 10,
      "outputs": [
        {
          "output_type": "execute_result",
          "data": {
            "text/plain": [
              "0.05"
            ]
          },
          "metadata": {
            "tags": []
          },
          "execution_count": 10
        }
      ]
    },
    {
      "cell_type": "code",
      "metadata": {
        "id": "OWJSuqR2q8jH",
        "colab_type": "code",
        "colab": {
          "base_uri": "https://localhost:8080/",
          "height": 34
        },
        "outputId": "0a08657a-46c6-4d16-cdc1-aec3049ccba8"
      },
      "source": [
        "# RSS\n",
        "rss = np.sum(np.square(y_test - y_pred))\n",
        "round(rss, 2) # rounds the rss value to 2 dp"
      ],
      "execution_count": 11,
      "outputs": [
        {
          "output_type": "execute_result",
          "data": {
            "text/plain": [
              "45.35"
            ]
          },
          "metadata": {
            "tags": []
          },
          "execution_count": 11
        }
      ]
    },
    {
      "cell_type": "code",
      "metadata": {
        "id": "V9wyL248rMjt",
        "colab_type": "code",
        "colab": {
          "base_uri": "https://localhost:8080/",
          "height": 34
        },
        "outputId": "d3ce9ed2-327c-48a8-e816-63cece2354a8"
      },
      "source": [
        "# Root Mean Squared Error(RMSE) \n",
        "from sklearn.metrics import  mean_squared_error\n",
        "rmse = np.sqrt(mean_squared_error(y_test, y_pred))\n",
        "round(rmse, 3) # rounds the rmse value to 3 dp"
      ],
      "execution_count": 12,
      "outputs": [
        {
          "output_type": "execute_result",
          "data": {
            "text/plain": [
              "0.088"
            ]
          },
          "metadata": {
            "tags": []
          },
          "execution_count": 12
        }
      ]
    },
    {
      "cell_type": "code",
      "metadata": {
        "id": "eo2qpahFrTmy",
        "colab_type": "code",
        "colab": {
          "base_uri": "https://localhost:8080/",
          "height": 34
        },
        "outputId": "be3b55d9-0a64-423f-8dab-b7a2885e1205"
      },
      "source": [
        "# R-SQUARED(COEFFICIENT OF DETERMINATION)\n",
        "from sklearn.metrics import r2_score\n",
        "r2_score = r2_score(y_test, y_pred)\n",
        "round(r2_score, 2) # rounds the r-square value to 2 dp"
      ],
      "execution_count": 13,
      "outputs": [
        {
          "output_type": "execute_result",
          "data": {
            "text/plain": [
              "0.15"
            ]
          },
          "metadata": {
            "tags": []
          },
          "execution_count": 13
        }
      ]
    },
    {
      "cell_type": "code",
      "metadata": {
        "id": "XkfcuMjErdEI",
        "colab_type": "code",
        "colab": {
          "base_uri": "https://localhost:8080/",
          "height": 855
        },
        "outputId": "2e4f7e06-6265-47a6-b332-366d29bd15e4"
      },
      "source": [
        "# LASSO REGRESSION (LI REGULARIZATION)\n",
        "from sklearn.linear_model import Lasso\n",
        "lasso_reg = Lasso(alpha=0.001)\n",
        "lasso_reg.fit(X_train, y_train)\n",
        "\n",
        "# RIDGE REGRESSION (L2 REGULARIZATION)\n",
        "from sklearn.linear_model import Ridge\n",
        "ridge_reg = Ridge(alpha=0.4)\n",
        "ridge_reg.fit(X_train, y_train)\n",
        "\n",
        "# this function returns the weight of every feature\n",
        "def get_weights_df(model, feat, col_name):\n",
        "  weights = pd.Series(model.coef_, norm_df.drop('Appliances', axis=1).columns).sort_values()\n",
        "  weights_df = pd.DataFrame(weights).reset_index()\n",
        "  weights_df.columns = ['Features', col_name]\n",
        "  weights_df[col_name].round(3)\n",
        "  return weights_df\n",
        "\n",
        "# comparing the effects of regularisation\n",
        "linear_model_weights = get_weights_df(reg, X_train, 'Linear_Model_Weight')\n",
        "ridge_weights_df = get_weights_df(ridge_reg, X_train, 'Ridge_Weight')\n",
        "lasso_weights_df = get_weights_df(lasso_reg, X_train, 'Lasso_weight')\n",
        "\n",
        "final_weights = pd.merge(linear_model_weights, ridge_weights_df, on='Features')\n",
        "final_weights = pd.merge(final_weights, lasso_weights_df, on='Features')\n",
        "final_weights"
      ],
      "execution_count": 14,
      "outputs": [
        {
          "output_type": "execute_result",
          "data": {
            "text/html": [
              "<div>\n",
              "<style scoped>\n",
              "    .dataframe tbody tr th:only-of-type {\n",
              "        vertical-align: middle;\n",
              "    }\n",
              "\n",
              "    .dataframe tbody tr th {\n",
              "        vertical-align: top;\n",
              "    }\n",
              "\n",
              "    .dataframe thead th {\n",
              "        text-align: right;\n",
              "    }\n",
              "</style>\n",
              "<table border=\"1\" class=\"dataframe\">\n",
              "  <thead>\n",
              "    <tr style=\"text-align: right;\">\n",
              "      <th></th>\n",
              "      <th>Features</th>\n",
              "      <th>Linear_Model_Weight</th>\n",
              "      <th>Ridge_Weight</th>\n",
              "      <th>Lasso_weight</th>\n",
              "    </tr>\n",
              "  </thead>\n",
              "  <tbody>\n",
              "    <tr>\n",
              "      <th>0</th>\n",
              "      <td>RH_2</td>\n",
              "      <td>-0.456698</td>\n",
              "      <td>-0.411071</td>\n",
              "      <td>-0.000000</td>\n",
              "    </tr>\n",
              "    <tr>\n",
              "      <th>1</th>\n",
              "      <td>T_out</td>\n",
              "      <td>-0.321860</td>\n",
              "      <td>-0.262172</td>\n",
              "      <td>0.000000</td>\n",
              "    </tr>\n",
              "    <tr>\n",
              "      <th>2</th>\n",
              "      <td>T2</td>\n",
              "      <td>-0.236178</td>\n",
              "      <td>-0.201397</td>\n",
              "      <td>0.000000</td>\n",
              "    </tr>\n",
              "    <tr>\n",
              "      <th>3</th>\n",
              "      <td>T9</td>\n",
              "      <td>-0.189941</td>\n",
              "      <td>-0.188916</td>\n",
              "      <td>-0.000000</td>\n",
              "    </tr>\n",
              "    <tr>\n",
              "      <th>4</th>\n",
              "      <td>RH_8</td>\n",
              "      <td>-0.157595</td>\n",
              "      <td>-0.156830</td>\n",
              "      <td>-0.000110</td>\n",
              "    </tr>\n",
              "    <tr>\n",
              "      <th>5</th>\n",
              "      <td>RH_out</td>\n",
              "      <td>-0.077671</td>\n",
              "      <td>-0.054724</td>\n",
              "      <td>-0.049557</td>\n",
              "    </tr>\n",
              "    <tr>\n",
              "      <th>6</th>\n",
              "      <td>RH_7</td>\n",
              "      <td>-0.044614</td>\n",
              "      <td>-0.045977</td>\n",
              "      <td>-0.000000</td>\n",
              "    </tr>\n",
              "    <tr>\n",
              "      <th>7</th>\n",
              "      <td>RH_9</td>\n",
              "      <td>-0.039800</td>\n",
              "      <td>-0.041367</td>\n",
              "      <td>-0.000000</td>\n",
              "    </tr>\n",
              "    <tr>\n",
              "      <th>8</th>\n",
              "      <td>T5</td>\n",
              "      <td>-0.015657</td>\n",
              "      <td>-0.019853</td>\n",
              "      <td>-0.000000</td>\n",
              "    </tr>\n",
              "    <tr>\n",
              "      <th>9</th>\n",
              "      <td>T1</td>\n",
              "      <td>-0.003281</td>\n",
              "      <td>-0.018406</td>\n",
              "      <td>0.000000</td>\n",
              "    </tr>\n",
              "    <tr>\n",
              "      <th>10</th>\n",
              "      <td>rv2</td>\n",
              "      <td>0.000770</td>\n",
              "      <td>0.000748</td>\n",
              "      <td>-0.000000</td>\n",
              "    </tr>\n",
              "    <tr>\n",
              "      <th>11</th>\n",
              "      <td>rv1</td>\n",
              "      <td>0.000770</td>\n",
              "      <td>0.000748</td>\n",
              "      <td>-0.000000</td>\n",
              "    </tr>\n",
              "    <tr>\n",
              "      <th>12</th>\n",
              "      <td>Press_mm_hg</td>\n",
              "      <td>0.006839</td>\n",
              "      <td>0.006584</td>\n",
              "      <td>-0.000000</td>\n",
              "    </tr>\n",
              "    <tr>\n",
              "      <th>13</th>\n",
              "      <td>T7</td>\n",
              "      <td>0.010319</td>\n",
              "      <td>0.010098</td>\n",
              "      <td>-0.000000</td>\n",
              "    </tr>\n",
              "    <tr>\n",
              "      <th>14</th>\n",
              "      <td>Visibility</td>\n",
              "      <td>0.012307</td>\n",
              "      <td>0.012076</td>\n",
              "      <td>0.000000</td>\n",
              "    </tr>\n",
              "    <tr>\n",
              "      <th>15</th>\n",
              "      <td>RH_5</td>\n",
              "      <td>0.016006</td>\n",
              "      <td>0.016152</td>\n",
              "      <td>0.000000</td>\n",
              "    </tr>\n",
              "    <tr>\n",
              "      <th>16</th>\n",
              "      <td>RH_4</td>\n",
              "      <td>0.026386</td>\n",
              "      <td>0.024579</td>\n",
              "      <td>0.000000</td>\n",
              "    </tr>\n",
              "    <tr>\n",
              "      <th>17</th>\n",
              "      <td>T4</td>\n",
              "      <td>0.028981</td>\n",
              "      <td>0.027384</td>\n",
              "      <td>-0.000000</td>\n",
              "    </tr>\n",
              "    <tr>\n",
              "      <th>18</th>\n",
              "      <td>Windspeed</td>\n",
              "      <td>0.029183</td>\n",
              "      <td>0.030268</td>\n",
              "      <td>0.002912</td>\n",
              "    </tr>\n",
              "    <tr>\n",
              "      <th>19</th>\n",
              "      <td>RH_6</td>\n",
              "      <td>0.038049</td>\n",
              "      <td>0.035519</td>\n",
              "      <td>-0.000000</td>\n",
              "    </tr>\n",
              "    <tr>\n",
              "      <th>20</th>\n",
              "      <td>RH_3</td>\n",
              "      <td>0.096048</td>\n",
              "      <td>0.095135</td>\n",
              "      <td>0.000000</td>\n",
              "    </tr>\n",
              "    <tr>\n",
              "      <th>21</th>\n",
              "      <td>T8</td>\n",
              "      <td>0.101995</td>\n",
              "      <td>0.101028</td>\n",
              "      <td>0.000000</td>\n",
              "    </tr>\n",
              "    <tr>\n",
              "      <th>22</th>\n",
              "      <td>Tdewpoint</td>\n",
              "      <td>0.117758</td>\n",
              "      <td>0.083128</td>\n",
              "      <td>0.000000</td>\n",
              "    </tr>\n",
              "    <tr>\n",
              "      <th>23</th>\n",
              "      <td>T6</td>\n",
              "      <td>0.236425</td>\n",
              "      <td>0.217292</td>\n",
              "      <td>0.000000</td>\n",
              "    </tr>\n",
              "    <tr>\n",
              "      <th>24</th>\n",
              "      <td>T3</td>\n",
              "      <td>0.290627</td>\n",
              "      <td>0.288087</td>\n",
              "      <td>0.000000</td>\n",
              "    </tr>\n",
              "    <tr>\n",
              "      <th>25</th>\n",
              "      <td>RH_1</td>\n",
              "      <td>0.553547</td>\n",
              "      <td>0.519525</td>\n",
              "      <td>0.017880</td>\n",
              "    </tr>\n",
              "  </tbody>\n",
              "</table>\n",
              "</div>"
            ],
            "text/plain": [
              "       Features  Linear_Model_Weight  Ridge_Weight  Lasso_weight\n",
              "0          RH_2            -0.456698     -0.411071     -0.000000\n",
              "1         T_out            -0.321860     -0.262172      0.000000\n",
              "2            T2            -0.236178     -0.201397      0.000000\n",
              "3            T9            -0.189941     -0.188916     -0.000000\n",
              "4          RH_8            -0.157595     -0.156830     -0.000110\n",
              "5        RH_out            -0.077671     -0.054724     -0.049557\n",
              "6          RH_7            -0.044614     -0.045977     -0.000000\n",
              "7          RH_9            -0.039800     -0.041367     -0.000000\n",
              "8            T5            -0.015657     -0.019853     -0.000000\n",
              "9            T1            -0.003281     -0.018406      0.000000\n",
              "10          rv2             0.000770      0.000748     -0.000000\n",
              "11          rv1             0.000770      0.000748     -0.000000\n",
              "12  Press_mm_hg             0.006839      0.006584     -0.000000\n",
              "13           T7             0.010319      0.010098     -0.000000\n",
              "14   Visibility             0.012307      0.012076      0.000000\n",
              "15         RH_5             0.016006      0.016152      0.000000\n",
              "16         RH_4             0.026386      0.024579      0.000000\n",
              "17           T4             0.028981      0.027384     -0.000000\n",
              "18    Windspeed             0.029183      0.030268      0.002912\n",
              "19         RH_6             0.038049      0.035519     -0.000000\n",
              "20         RH_3             0.096048      0.095135      0.000000\n",
              "21           T8             0.101995      0.101028      0.000000\n",
              "22    Tdewpoint             0.117758      0.083128      0.000000\n",
              "23           T6             0.236425      0.217292      0.000000\n",
              "24           T3             0.290627      0.288087      0.000000\n",
              "25         RH_1             0.553547      0.519525      0.017880"
            ]
          },
          "metadata": {
            "tags": []
          },
          "execution_count": 14
        }
      ]
    },
    {
      "cell_type": "code",
      "metadata": {
        "id": "mlqkiRTor5A9",
        "colab_type": "code",
        "colab": {
          "base_uri": "https://localhost:8080/",
          "height": 34
        },
        "outputId": "12d94081-b4ba-48c7-8310-529424c6675e"
      },
      "source": [
        "# to determine the rmse using the ridge regression\n",
        "# to predict test values\n",
        "y_pred_ridge = ridge_reg.predict(X_test)\n",
        "rmse_ridge = np.sqrt(mean_squared_error(y_test, y_pred_ridge))\n",
        "print(round(rmse_ridge, 3))"
      ],
      "execution_count": 15,
      "outputs": [
        {
          "output_type": "stream",
          "text": [
            "0.088\n"
          ],
          "name": "stdout"
        }
      ]
    },
    {
      "cell_type": "code",
      "metadata": {
        "id": "WXgavX88sfTO",
        "colab_type": "code",
        "colab": {
          "base_uri": "https://localhost:8080/",
          "height": 34
        },
        "outputId": "e31f3612-bb39-4aa0-841e-9e9b8fdfb26c"
      },
      "source": [
        "# to determine the rmse using the lasso regression\n",
        "# to predict test values\n",
        "y_pred_lasso = lasso_reg.predict(X_test)\n",
        "rmse_lasso = np.sqrt(mean_squared_error(y_test, y_pred_lasso))\n",
        "print(round(rmse_lasso, 3))"
      ],
      "execution_count": 16,
      "outputs": [
        {
          "output_type": "stream",
          "text": [
            "0.094\n"
          ],
          "name": "stdout"
        }
      ]
    },
    {
      "cell_type": "code",
      "metadata": {
        "id": "3zVdF3AmszMT",
        "colab_type": "code",
        "colab": {}
      },
      "source": [
        ""
      ],
      "execution_count": null,
      "outputs": []
    }
  ]
}